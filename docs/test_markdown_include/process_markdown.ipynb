{
 "cells": [
  {
   "cell_type": "code",
   "execution_count": 10,
   "metadata": {},
   "outputs": [],
   "source": [
    "import markdown\n",
    "from markdown_include.include import MarkdownInclude\n",
    "from pathlib import Path"
   ]
  },
  {
   "cell_type": "code",
   "execution_count": 8,
   "metadata": {},
   "outputs": [
    {
     "name": "stdout",
     "output_type": "stream",
     "text": [
      "markdown-include      0.7.0\n",
      "\u001b[33mWARNING: You are using pip version 22.0.4; however, version 22.2.2 is available.\n",
      "You should consider upgrading via the '/Users/mjboothaus/code/github/mjboothaus/PhD-Thesis/.venv_dev_michael-booth-phd-thesis/bin/python3 -m pip install --upgrade pip' command.\u001b[0m\u001b[33m\n",
      "\u001b[0m"
     ]
    }
   ],
   "source": [
    "!pip list | grep markdown"
   ]
  },
  {
   "cell_type": "markdown",
   "metadata": {},
   "source": [
    "The syntax for use within your Markdown files is `{!filename!}`. This statement will be replaced by the contents of `filename`.\n",
    "\n",
    "The following settings can be specified when initialising the plugin:\n",
    "* `base_path`: Default location from which to evaluate relative paths for the include statement. (Default: the run-directory.)\n",
    "* `encoding`: Encoding of the files used by the include statement. (Default: utf-8.)\n",
    "* `inheritHeadingDepth` : If true, increases headings on include file by amount of previous heading. Combines with headingOffset option, below. (Default: False.)\n",
    "* `headingOffset`: Increases heading depth by a specific amount, in addition to the inheritHeadingDepth Option. (Default: 0)\n",
    "* `throwException`: When true, if the extension is unable to find an included file it will throw an exception which the user can catch. If false (default), a warning will be printed and Markdown will continue parsing the file."
   ]
  },
  {
   "cell_type": "code",
   "execution_count": 80,
   "metadata": {},
   "outputs": [],
   "source": [
    "def process_md_file(source_md_file, base_path=\".\",  encoding=\"iso-8859-1\"):\n",
    "    with open(source_md_file, \"r\") as md:\n",
    "        source_md = md.readlines()\n",
    "    markdown_include = MarkdownInclude(\n",
    "        configs={'base_path': base_path, 'encoding': encoding}\n",
    "    )\n",
    "    html = markdown.markdown(str(source_md), extensions=[markdown_include])\n",
    "    html_file = source_md_file.replace(\".md\", \".html\")\n",
    "    html = html.replace(\"[\", \"\").replace(\"]\", \"\")\n",
    "    with open(html_file, \"w\") as ht:\n",
    "        ht.write(html)\n",
    "    return html"
   ]
  },
  {
   "cell_type": "code",
   "execution_count": 81,
   "metadata": {},
   "outputs": [],
   "source": [
    "test_md_filename = Path.cwd().parent / \"app_main.md\""
   ]
  },
  {
   "cell_type": "code",
   "execution_count": 82,
   "metadata": {},
   "outputs": [],
   "source": [
    "test_html_filename = test_md_filename.as_posix().replace(\".md\", \".html\")"
   ]
  },
  {
   "cell_type": "code",
   "execution_count": 83,
   "metadata": {},
   "outputs": [
    {
     "data": {
      "text/plain": [
       "'/Users/mjboothaus/code/github/mjboothaus/PhD-Thesis/docs/app_main.html'"
      ]
     },
     "execution_count": 83,
     "metadata": {},
     "output_type": "execute_result"
    }
   ],
   "source": [
    "test_html_filename"
   ]
  },
  {
   "cell_type": "code",
   "execution_count": 84,
   "metadata": {},
   "outputs": [
    {
     "data": {
      "text/plain": [
       "'/Users/mjboothaus/code/github/mjboothaus/PhD-Thesis/docs/app_main.md'"
      ]
     },
     "execution_count": 84,
     "metadata": {},
     "output_type": "execute_result"
    }
   ],
   "source": [
    "test_md_filename.as_posix()"
   ]
  },
  {
   "cell_type": "code",
   "execution_count": 85,
   "metadata": {},
   "outputs": [],
   "source": [
    "test_html = process_md_file(test_md_filename.as_posix())"
   ]
  },
  {
   "cell_type": "code",
   "execution_count": 86,
   "metadata": {},
   "outputs": [
    {
     "data": {
      "text/plain": [
       "\"<p>'### Charged fluids near interfaces: Integral equation theory\\\\n', '\\\\n', '#### Michael Julian Booth, Ph. D. (Science)\\\\n', '\\\\n', '##### The University of Sydney, 1998\\\\n', '\\\\n', '<!-- Supervisor: G. B. Bacskay\\\\n', '\\\\n', 'Associate Supervisors: A. D. J. Haymet and C. Macaskill -->\\\\n', '\\\\n', 'This thesis examines the structure of two charged liquids, water and molten\\\\n', 'potassium chloride, near charged, planar interfaces. \\\\n', '\\\\n', 'First, following a systematic approximation to an expansion of the entropy, within the grand canonical ensemble, functional optimization of the grand potential is used to derive closed sets of integral equations. These describe, approximately, the structure and thermodynamics of both homogeneous and inhomogeneous fluids. Connections with existing integral equation approximations\\\\n', 'in the literature, and a compact derivation of the anisotropic hypernetted chain (AHNC)\\\\n', 'approximation are presented. Selected new equation sets are highlighted.\\\\n', '\\\\n', 'Second, results from the numerical solution of a singlet integral equation approximation are reported, which describe the structure and properties of (i) an atom-based model of water, and (ii) molten potassium chloride, next to a planar interface.\\\\n', 'Predictions from the theory include the density and charge profiles perpendicular to\\\\n', 'the interface, the mean electrostatic potential, the potential of zero charge and the\\\\n', 'differential capacitance. The results of this work are compared with the output from\\\\n', 'computer simulations.\\\\n', '\\\\n', 'Lastly, the Newton-GMRES algorithm is introduced for the accurate, robust\\\\n', 'and efficient solution of such Ornstein-Zernike type integral equations. This method is\\\\n', 'compared and contrasted with more traditional approaches in the literature, using Picard\\\\n', 'iteration, hybrid Newton-Raphson/Picard methods, and a vector extrapolation method.\\\\n', 'The performance and ease of implementation of these nonlinear solvers recommend them\\\\n', 'for the solution of this class of problem.'</p>\""
      ]
     },
     "execution_count": 86,
     "metadata": {},
     "output_type": "execute_result"
    }
   ],
   "source": [
    "test_html"
   ]
  },
  {
   "cell_type": "code",
   "execution_count": null,
   "metadata": {},
   "outputs": [],
   "source": []
  }
 ],
 "metadata": {
  "kernelspec": {
   "display_name": "Python 3.9.12 ('.venv_dev_michael-booth-phd-thesis')",
   "language": "python",
   "name": "python3"
  },
  "language_info": {
   "codemirror_mode": {
    "name": "ipython",
    "version": 3
   },
   "file_extension": ".py",
   "mimetype": "text/x-python",
   "name": "python",
   "nbconvert_exporter": "python",
   "pygments_lexer": "ipython3",
   "version": "3.9.12"
  },
  "orig_nbformat": 4,
  "vscode": {
   "interpreter": {
    "hash": "277df5c1efdb1880c16f84c47c38346983de44053d32f1390bd3f0633600e852"
   }
  }
 },
 "nbformat": 4,
 "nbformat_minor": 2
}
