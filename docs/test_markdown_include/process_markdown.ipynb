{
 "cells": [
  {
   "cell_type": "markdown",
   "metadata": {},
   "source": [
    "## Including Markdown\n",
    "\n",
    "#### Attempt #1 - unsuccessful"
   ]
  },
  {
   "cell_type": "code",
   "execution_count": 1,
   "metadata": {},
   "outputs": [],
   "source": [
    "import markdown\n",
    "from markdown_include.include import MarkdownInclude\n",
    "from pathlib import Path"
   ]
  },
  {
   "cell_type": "code",
   "execution_count": 2,
   "metadata": {},
   "outputs": [
    {
     "name": "stdout",
     "output_type": "stream",
     "text": [
      "markdown-include      0.7.0\n",
      "\u001b[33mWARNING: You are using pip version 22.0.4; however, version 22.2.2 is available.\n",
      "You should consider upgrading via the '/Users/mjboothaus/code/github/mjboothaus/PhD-Thesis/.venv_dev_michael-booth-phd-thesis/bin/python3 -m pip install --upgrade pip' command.\u001b[0m\u001b[33m\n",
      "\u001b[0m"
     ]
    }
   ],
   "source": [
    "!pip list | grep markdown"
   ]
  },
  {
   "cell_type": "markdown",
   "metadata": {},
   "source": [
    "The syntax for use within your Markdown files is `{!filename!}`. This statement will be replaced by the contents of `filename`.\n",
    "\n",
    "The following settings can be specified when initialising the plugin:\n",
    "* `base_path`: Default location from which to evaluate relative paths for the include statement. (Default: the run-directory.)\n",
    "* `encoding`: Encoding of the files used by the include statement. (Default: utf-8.)\n",
    "* `inheritHeadingDepth` : If true, increases headings on include file by amount of previous heading. Combines with headingOffset option, below. (Default: False.)\n",
    "* `headingOffset`: Increases heading depth by a specific amount, in addition to the inheritHeadingDepth Option. (Default: 0)\n",
    "* `throwException`: When true, if the extension is unable to find an included file it will throw an exception which the user can catch. If false (default), a warning will be printed and Markdown will continue parsing the file."
   ]
  },
  {
   "cell_type": "code",
   "execution_count": 3,
   "metadata": {},
   "outputs": [],
   "source": [
    "def process_md_file(source_md_file, base_path=\".\",  encoding=\"iso-8859-1\"):\n",
    "    with open(source_md_file, \"r\") as md:\n",
    "        source_md = md.readlines()\n",
    "    markdown_include = MarkdownInclude(\n",
    "        configs={'base_path': base_path, 'encoding': encoding}\n",
    "    )\n",
    "    html = markdown.markdown(str(source_md), extensions=[markdown_include])\n",
    "    html_file = source_md_file.replace(\".md\", \".html\")\n",
    "    html = html.replace(\"[\", \"\").replace(\"]\", \"\")\n",
    "    with open(html_file, \"w\") as ht:\n",
    "        ht.write(html)\n",
    "    return html"
   ]
  },
  {
   "cell_type": "code",
   "execution_count": 4,
   "metadata": {},
   "outputs": [],
   "source": [
    "test_md_filename = Path.cwd().parent / \"app_theory.md\""
   ]
  },
  {
   "cell_type": "code",
   "execution_count": 5,
   "metadata": {},
   "outputs": [],
   "source": [
    "test_html_filename = test_md_filename.as_posix().replace(\".md\", \".html\")"
   ]
  },
  {
   "cell_type": "code",
   "execution_count": 6,
   "metadata": {},
   "outputs": [
    {
     "data": {
      "text/plain": [
       "'/Users/mjboothaus/code/github/mjboothaus/PhD-Thesis/docs/app_theory.html'"
      ]
     },
     "execution_count": 6,
     "metadata": {},
     "output_type": "execute_result"
    }
   ],
   "source": [
    "test_html_filename"
   ]
  },
  {
   "cell_type": "code",
   "execution_count": 7,
   "metadata": {},
   "outputs": [
    {
     "data": {
      "text/plain": [
       "'/Users/mjboothaus/code/github/mjboothaus/PhD-Thesis/docs/app_theory.md'"
      ]
     },
     "execution_count": 7,
     "metadata": {},
     "output_type": "execute_result"
    }
   ],
   "source": [
    "test_md_filename.as_posix()"
   ]
  },
  {
   "cell_type": "code",
   "execution_count": 8,
   "metadata": {},
   "outputs": [],
   "source": [
    "test_html = process_md_file(test_md_filename.as_posix())"
   ]
  },
  {
   "cell_type": "code",
   "execution_count": 9,
   "metadata": {},
   "outputs": [
    {
     "data": {
      "text/plain": [
       "'<p>\\'### Theory for the interface\\\\n\\', \\'\\\\n\\', \\'To predict the normalized probability $g_{wi}(z)$ for finding an oxygen ($i$ = O) or\\\\n\\', \\'hydrogen ($i$ = H) atom of a water molecule at a distance $z$ perpendicular to the\\\\n\\', \\'planar interface (\"wall\"), we use the \"singlet\" theory version of the Ornstein-Zernike\\\\n\\', \\'equation due to Henderson, Abraham and Barker and Percus\\\\n\\', \\'together with the approximate hypernetted chain (HNC) closure. We have also used this level of theory to study soft-core primitive model electrolytes and molten salts next to charged interfaces.\\\\n\\', \\'\\\\n\\', \\'The input to the calculation is:\\\\n\\', \\'1. the structure of the bulk model water, as contained in the direct correlation functions $c_{ij}(r)$, for all distinct pairs of species, $ij$ = OO, OH and HH, separated by a distance $r$\\\\n\\', \\'2. the bulk water density $\\\\bar{\\\\rho}$ and temperature $T$\\\\n\\', \\'3. the short-range potential energy between the wall and the oxygen and hydrogen atoms, $\\\\phi_{wi}(z)$, $i$ = O, H; and\\\\n\\', \\'4. either the surface potential $\\\\psi_0$ or surface charge density $\\\\sigma$.\\\\n\\', \\'\\\\n\\', \\'\\\\n\\', \\'<!-- \\\\n\\', \\'@import \"equation_3_1.md\"\\\\n\\', \\'@import \"equation_3_2.md\"\\\\n\\', \\' -->\\\\n\\', \\' #### CF1 model of liquid water\\\\n\\', \\'\\\\n\\', \\'In this thesis we use the CF1 model of water. This model is a slight variant\\\\n\\', \\'of the central force (CF) model of Stillinger and Rahman, which allows the water\\\\n\\', \\'molecules to vibrate and even dissociate. Central force models view water as a\\\\n\\', \\'\"molten salt\" of two fractionally charged species, hydrogen and oxygen, with effective\\\\n\\', \\'charges $q_H~=~0.32983\\\\,e$ and $q_O~=~-2 q_H$, where $e$ is the proton charge. The current\\\\n\\', \\'method may be applied to any model of water with a unified Hamiltonian for intra- and\\\\n\\', \\'inter-molecular degrees of freedom.\\\\n\\', \\'\\\\n\\'</p>'"
      ]
     },
     "execution_count": 9,
     "metadata": {},
     "output_type": "execute_result"
    }
   ],
   "source": [
    "test_html"
   ]
  },
  {
   "cell_type": "code",
   "execution_count": 10,
   "metadata": {},
   "outputs": [],
   "source": [
    "from tidylib import tidy_document"
   ]
  },
  {
   "cell_type": "code",
   "execution_count": 11,
   "metadata": {},
   "outputs": [],
   "source": [
    "document, errors = tidy_document(test_html, options={'numeric-entities':1})"
   ]
  },
  {
   "cell_type": "code",
   "execution_count": 12,
   "metadata": {},
   "outputs": [
    {
     "data": {
      "text/plain": [
       "\"line 1 column 1 - Warning: missing <!DOCTYPE> declaration\\nline 1 column 1 - Warning: inserting missing 'title' element\\n\""
      ]
     },
     "execution_count": 12,
     "metadata": {},
     "output_type": "execute_result"
    }
   ],
   "source": [
    "errors"
   ]
  },
  {
   "cell_type": "code",
   "execution_count": 13,
   "metadata": {},
   "outputs": [
    {
     "data": {
      "text/plain": [
       "'<!DOCTYPE html PUBLIC \"-//W3C//DTD HTML 4.01//EN\">\\n<html>\\n  <head>\\n    <title></title>\\n  </head>\\n  <body>\\n    <p>\\n      \\'### Theory for the interface\\\\n\\', \\'\\\\n\\', \\'To predict the normalized probability $g_{wi}(z)$ for finding an oxygen ($i$ = O) or\\\\n\\', \\'hydrogen ($i$ = H) atom of a water molecule at a distance $z$ perpendicular to the\\\\n\\', \\'planar interface (\"wall\"), we use the \"singlet\" theory version of the Ornstein-Zernike\\\\n\\', \\'equation due to Henderson, Abraham and Barker and Percus\\\\n\\', \\'together with the approximate hypernetted chain (HNC) closure. We have also used this level of theory to study soft-core primitive model electrolytes and molten salts next to charged interfaces.\\\\n\\', \\'\\\\n\\', \\'The input to the calculation is:\\\\n\\', \\'1. the structure of the bulk model water, as contained in the direct correlation functions $c_{ij}(r)$, for all distinct pairs of species, $ij$ = OO, OH and HH, separated by a distance $r$\\\\n\\', \\'2. the bulk water density $\\\\bar{\\\\rho}$ and temperature $T$\\\\n\\', \\'3. the short-range potential energy between the wall and the oxygen and hydrogen atoms, $\\\\phi_{wi}(z)$, $i$ = O, H; and\\\\n\\', \\'4. either the surface potential $\\\\psi_0$ or surface charge density $\\\\sigma$.\\\\n\\', \\'\\\\n\\', \\'\\\\n\\', \\'<!-- \\\\n\\', \\'@import \"equation_3_1.md\"\\\\n\\', \\'@import \"equation_3_2.md\"\\\\n\\', \\' -->\\\\n\\', \\' #### CF1 model of liquid water\\\\n\\', \\'\\\\n\\', \\'In this thesis we use the CF1 model of water. This model is a slight variant\\\\n\\', \\'of the central force (CF) model of Stillinger and Rahman, which allows the water\\\\n\\', \\'molecules to vibrate and even dissociate. Central force models view water as a\\\\n\\', \\'\"molten salt\" of two fractionally charged species, hydrogen and oxygen, with effective\\\\n\\', \\'charges $q_H~=~0.32983\\\\,e$ and $q_O~=~-2 q_H$, where $e$ is the proton charge. The current\\\\n\\', \\'method may be applied to any model of water with a unified Hamiltonian for intra- and\\\\n\\', \\'inter-molecular degrees of freedom.\\\\n\\', \\'\\\\n\\'\\n    </p>\\n  </body>\\n</html>\\n'"
      ]
     },
     "execution_count": 13,
     "metadata": {},
     "output_type": "execute_result"
    }
   ],
   "source": [
    "document"
   ]
  },
  {
   "cell_type": "markdown",
   "metadata": {},
   "source": [
    "#### Attempt #2"
   ]
  },
  {
   "cell_type": "code",
   "execution_count": 14,
   "metadata": {},
   "outputs": [],
   "source": [
    "import regex as re"
   ]
  },
  {
   "cell_type": "code",
   "execution_count": 15,
   "metadata": {},
   "outputs": [],
   "source": [
    "def include_md(md_filename, working_dir):\n",
    "    with open(md_filename, \"r\") as file:\n",
    "        filedata = file.read()\n",
    "    re_filename_md = r'(?<={!)(.*)(?=!})'\n",
    "\n",
    "    match_file = re.findall(re_filename_md, filedata, flags=re.MULTILINE)\n",
    "    for file_md in match_file:\n",
    "        with open(working_dir / file_md, \"r\") as inc_file:\n",
    "            include_md = inc_file.read()\n",
    "            include_md = include_md.replace(\"\\\\\", \"BACKSLASH\")\n",
    "            filedata = re.sub(\"{!\" + file_md + \"!}\", re.escape(include_md, special_only=True), filedata, flags=re.MULTILINE)\n",
    "\n",
    "    md_filename_inc = md_filename.as_posix().replace(\".md\", \"_inc.md\")\n",
    "\n",
    "    with open(md_filename_inc, \"w\") as file:\n",
    "        file.write(filedata)\n",
    "\n",
    "    with open(working_dir / md_filename_inc, \"r\") as inc_file:\n",
    "        md = inc_file.read()\n",
    "        md = md.replace(\"\\\\\", \"\").replace(\"BACKSLASH\", \"\\\\\")\n",
    "\n",
    "\n",
    "    with open(working_dir / md_filename_inc, \"w\") as inc_file:\n",
    "        inc_file.write(md)"
   ]
  },
  {
   "cell_type": "code",
   "execution_count": 16,
   "metadata": {},
   "outputs": [],
   "source": [
    "working_dir = Path.cwd().parent"
   ]
  },
  {
   "cell_type": "code",
   "execution_count": 17,
   "metadata": {},
   "outputs": [],
   "source": [
    "include_md(test_md_filename, working_dir)"
   ]
  },
  {
   "cell_type": "code",
   "execution_count": null,
   "metadata": {},
   "outputs": [],
   "source": []
  }
 ],
 "metadata": {
  "kernelspec": {
   "display_name": "Python 3.9.12 ('.venv_dev_michael-booth-phd-thesis')",
   "language": "python",
   "name": "python3"
  },
  "language_info": {
   "codemirror_mode": {
    "name": "ipython",
    "version": 3
   },
   "file_extension": ".py",
   "mimetype": "text/x-python",
   "name": "python",
   "nbconvert_exporter": "python",
   "pygments_lexer": "ipython3",
   "version": "3.9.12"
  },
  "orig_nbformat": 4,
  "vscode": {
   "interpreter": {
    "hash": "277df5c1efdb1880c16f84c47c38346983de44053d32f1390bd3f0633600e852"
   }
  }
 },
 "nbformat": 4,
 "nbformat_minor": 2
}
