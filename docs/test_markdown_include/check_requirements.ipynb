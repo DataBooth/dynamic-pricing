{
 "cells": [
  {
   "cell_type": "code",
   "execution_count": 1,
   "metadata": {},
   "outputs": [],
   "source": [
    "import pip\n",
    "from pip._internal.req import parse_requirements\n",
    "from pip._internal.network.session import PipSession\n",
    "import pkg_resources\n",
    "from pkg_resources import DistributionNotFound, VersionConflict"
   ]
  },
  {
   "cell_type": "code",
   "execution_count": 2,
   "metadata": {},
   "outputs": [],
   "source": [
    "from pathlib import Path\n"
   ]
  },
  {
   "cell_type": "code",
   "execution_count": 3,
   "metadata": {},
   "outputs": [],
   "source": [
    "def check_dependencies(requirement_file_name):\n",
    "    \"\"\"\n",
    "    Checks to see if the python dependencies are fulfilled.\n",
    "    If check passes return 0. Otherwise print error and return 1\n",
    "    \"\"\"\n",
    "    session = PipSession()\n",
    "    dependencies = [str(req.requirement) for req in parse_requirements(requirement_file_name, session=session) if req.requirement is not None]\n",
    "    try:\n",
    "        pkg_resources.working_set.require(dependencies)\n",
    "    except VersionConflict as e:\n",
    "        try:\n",
    "            print(f\"{e.dist} was found on your system, but {e.req} is required.\\n\")\n",
    "            return 1\n",
    "        except AttributeError:\n",
    "            print(e)\n",
    "            return 1\n",
    "    except DistributionNotFound as e:\n",
    "        print(e)\n",
    "        return 1\n",
    "    return 0"
   ]
  },
  {
   "cell_type": "code",
   "execution_count": 4,
   "metadata": {},
   "outputs": [],
   "source": [
    "requirements_file_name = Path.cwd().parent.parent / \"requirements-dev.txt\""
   ]
  },
  {
   "cell_type": "code",
   "execution_count": 5,
   "metadata": {},
   "outputs": [
    {
     "data": {
      "text/plain": [
       "PosixPath('/Users/mjboothaus/code/github/mjboothaus/PhD-Thesis/requirements-dev.txt')"
      ]
     },
     "execution_count": 5,
     "metadata": {},
     "output_type": "execute_result"
    }
   ],
   "source": [
    "requirements_file_name"
   ]
  },
  {
   "cell_type": "code",
   "execution_count": 6,
   "metadata": {},
   "outputs": [
    {
     "name": "stdout",
     "output_type": "stream",
     "text": [
      "urllib3 1.26.10 was found on your system, but urllib3==1.26.11 is required.\n",
      "\n"
     ]
    },
    {
     "data": {
      "text/plain": [
       "1"
      ]
     },
     "execution_count": 6,
     "metadata": {},
     "output_type": "execute_result"
    }
   ],
   "source": [
    "check_dependencies(requirements_file_name.as_posix())"
   ]
  },
  {
   "cell_type": "code",
   "execution_count": null,
   "metadata": {},
   "outputs": [],
   "source": []
  }
 ],
 "metadata": {
  "kernelspec": {
   "display_name": "Python 3.9.12 ('.venv_dev_michael-booth-phd-thesis')",
   "language": "python",
   "name": "python3"
  },
  "language_info": {
   "codemirror_mode": {
    "name": "ipython",
    "version": 3
   },
   "file_extension": ".py",
   "mimetype": "text/x-python",
   "name": "python",
   "nbconvert_exporter": "python",
   "pygments_lexer": "ipython3",
   "version": "3.9.12"
  },
  "orig_nbformat": 4,
  "vscode": {
   "interpreter": {
    "hash": "277df5c1efdb1880c16f84c47c38346983de44053d32f1390bd3f0633600e852"
   }
  }
 },
 "nbformat": 4,
 "nbformat_minor": 2
}
