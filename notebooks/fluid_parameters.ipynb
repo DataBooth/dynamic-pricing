{
 "cells": [
  {
   "cell_type": "code",
   "execution_count": 4,
   "metadata": {},
   "outputs": [],
   "source": [
    "# allow for imports from ../src directory\n",
    "\n",
    "from os import path as os_path, getcwd\n",
    "from sys import path as sys_path\n",
    "\n",
    "sys_path.append(os_path.dirname(getcwd())) \n",
    "#sys.path.append(f\"{os_path.dirname(getcwd())}/src\")"
   ]
  },
  {
   "cell_type": "code",
   "execution_count": 7,
   "metadata": {},
   "outputs": [],
   "source": [
    "from src.modelling import set_fluid_parameters"
   ]
  },
  {
   "cell_type": "code",
   "execution_count": 80,
   "metadata": {},
   "outputs": [],
   "source": [
    "import numpy as np\n",
    "from pathlib import Path"
   ]
  },
  {
   "cell_type": "code",
   "execution_count": 68,
   "metadata": {},
   "outputs": [],
   "source": [
    "fluid_parameters = dict({\"kcl\": dict({\"name\": \"Potassium Chloride\", \"component\": [\"K\", \"Cl\"], \"valence\": np.array([\n",
    "    1.0, -1.0]), \"charge\": None, \"temperature\": 1075.0, \"concentration\": np.array([19.5, 19.5]),\n",
    "    \"epsilon_r\": 1.0, \"index\": 1, \"charge_pair\": None, \"rho\": None, \"beta\": 0.0, \"epsilon\": 0.0})})\n",
    "\n",
    "\n",
    "fluid_parameters[\"lj1\"] = dict({\"name\": \"Lennard-Jones liquid (1-comp)\", \"component\": [\"LJ\"], \"valence\": np.array([0]),\n",
    "                                \"charge\": None, \"temperature\": 298.15, \"concentration\": np.array([0.5]), \"epsilon_r\": 1, \"index\": 2,\n",
    "                                \"charge_pair\": None, \"rho\": None, \"beta\": 0.0, \"epsilon\": 0.0})\n",
    "\n",
    "\n",
    "fluid_parameters[\"lj2\"] = dict({\"name\": \"Lennard-Jones liquid (2-comp)\", \"component\": [\"A1\", \"A2\"], \"valence\": np.array([0.0, 0.0]),\n",
    "                                \"charge\": None, \"temperature\": 298.15, \"concentration\": np.array([0.5, 0.5]), \"epsilon_r\": 1, \"index\": 5,\n",
    "                                \"charge_pair\": None, \"rho\": None, \"beta\": 0.0, \"epsilon\": 0.0})\n",
    "\n",
    "\n",
    "fluid_parameters[\"h2o\"] = dict({\"name\": \"Liquid water\", \"component\": [\"H\", \"2O\"], \"valence\": np.array([\n",
    "    1.0, -1.0]), \"temperature\": 298.0, \"concentration\": np.array([1.0, 1.0]),\n",
    "    \"epsilon_r\": 1.0, \"index\": 2})\n",
    "\n",
    "\n",
    "fluid_parameters[\"2_2\"] = dict({\"name\": \"2-2 Aqueous electrolyte\", \"component\": [\"+2\", \"-2\"], \"valence\": np.array([\n",
    "    2.0, -2.0]), \"temperature\": 298.0, \"concentration\": np.array([1.0, 1.0]),\n",
    "    \"epsilon_r\": 78.3, \"index\": 3})\n"
   ]
  },
  {
   "cell_type": "code",
   "execution_count": 69,
   "metadata": {},
   "outputs": [
    {
     "data": {
      "text/plain": [
       "Fluid(name='Lennard-Jones liquid (1-comp)', symbol='LJ', component=['LJ'], valence=array([0.]), charge=array([0]), temperature=298.15, concentration=array([1.]), epsilon_r=1, n_component=1, n_pair=1, index=2, charge_pair=array([0.]), rho=array([0.]), beta=0.0, epsilon=0.0, cr_path='')"
      ]
     },
     "execution_count": 69,
     "metadata": {},
     "output_type": "execute_result"
    }
   ],
   "source": [
    "set_fluid_parameters(\"lj1\")"
   ]
  },
  {
   "cell_type": "code",
   "execution_count": 70,
   "metadata": {},
   "outputs": [
    {
     "data": {
      "text/plain": [
       "Fluid(name='Lennard-Jones liquid (2-comp)', symbol='A1A2', component=['A1', 'A2'], valence=array([0., 0.]), charge=array([0]), temperature=298.15, concentration=array([0.5, 0.5]), epsilon_r=1, n_component=2, n_pair=3, index=5, charge_pair=array([0.]), rho=array([0.]), beta=0.0, epsilon=0.0, cr_path='')"
      ]
     },
     "execution_count": 70,
     "metadata": {},
     "output_type": "execute_result"
    }
   ],
   "source": [
    "set_fluid_parameters(\"lj2\")"
   ]
  },
  {
   "cell_type": "code",
   "execution_count": 71,
   "metadata": {},
   "outputs": [],
   "source": [
    "import json\n",
    "from json import JSONEncoder"
   ]
  },
  {
   "cell_type": "code",
   "execution_count": 84,
   "metadata": {},
   "outputs": [],
   "source": [
    "class NumpyArrayEncoder(JSONEncoder):\n",
    "    def default(self, obj):\n",
    "        if isinstance(obj, np.ndarray):\n",
    "            return obj.tolist()\n",
    "        return JSONEncoder.default(self, obj)\n",
    "        \n",
    "def dict_to_json(d, json_filename, n_indent=4):\n",
    "    with open(json_filename, 'w', encoding='utf-8') as f:\n",
    "        #json.dump(data, f, ensure_ascii=False, indent=4)\n",
    "        json.dump(d, f, indent = n_indent, ensure_ascii=False, cls=NumpyArrayEncoder) \n"
   ]
  },
  {
   "cell_type": "code",
   "execution_count": 85,
   "metadata": {},
   "outputs": [],
   "source": [
    "json_filename = Path.cwd().parent / \"data/fluid_parameters.json\""
   ]
  },
  {
   "cell_type": "code",
   "execution_count": 87,
   "metadata": {},
   "outputs": [],
   "source": [
    "dict_to_json(fluid_parameters, json_filename)"
   ]
  },
  {
   "cell_type": "code",
   "execution_count": 74,
   "metadata": {},
   "outputs": [
    {
     "name": "stdout",
     "output_type": "stream",
     "text": [
      "bulk_fluid_explore.ipynb data.toml                singlet_kcl.ipynb\n",
      "check_units.ipynb        fluid_parameters.ipynb\n",
      "data.json                numerics.ipynb\n"
     ]
    }
   ],
   "source": [
    "!ls"
   ]
  },
  {
   "cell_type": "code",
   "execution_count": 75,
   "metadata": {},
   "outputs": [],
   "source": [
    "# from types import NoneType"
   ]
  },
  {
   "cell_type": "code",
   "execution_count": 76,
   "metadata": {},
   "outputs": [],
   "source": [
    "\n",
    "\n",
    "def _dumps_value(value):\n",
    "    if isinstance(value, bool):\n",
    "        return \"true\" if value else \"false\"\n",
    "    elif isinstance(value, (int, float)):\n",
    "        return str(value)\n",
    "    elif isinstance(value, str):\n",
    "        return f'\"{value}\"'\n",
    "    elif isinstance(value, list):\n",
    "        return f\"[{', '.join(_dumps_value(v) for v in value)}]\"\n",
    "    elif isinstance(value, np.ndarray):\n",
    "        return f\"[{', '.join(_dumps_value(v) for v in value.tolist())}]\"\n",
    "    elif isinstance(value, type(None)):\n",
    "        return \"nan\"\n",
    "    else:\n",
    "        raise TypeError(f\"{type(value).__name__} {value!r} is not supported\")"
   ]
  },
  {
   "cell_type": "code",
   "execution_count": 79,
   "metadata": {},
   "outputs": [],
   "source": [
    "def dict_to_toml(toml_dict, toml_filename, table=\"\"):\n",
    "    def tables_at_end(item):\n",
    "        _, value = item\n",
    "        return isinstance(value, dict)\n",
    "\n",
    "    toml = []\n",
    "    for key, value in sorted(toml_dict.items(), key=tables_at_end):\n",
    "        if isinstance(value, dict):\n",
    "            table_key = f\"{table}.{key}\" if table else key\n",
    "            toml.append(f\"\\n[{table_key}]\\n{dumps(value, table_key)}\")\n",
    "        else:\n",
    "            toml.append(f\"{key} = {_dumps_value(value)}\")\n",
    "    toml_str = \"\\n\".join(toml)\n",
    "    with open(toml_filename, 'w', encoding='utf-8') as f:\n",
    "        f.write(toml_str)\n",
    "    return toml_str"
   ]
  },
  {
   "cell_type": "code",
   "execution_count": 83,
   "metadata": {},
   "outputs": [],
   "source": [
    "toml_filename = Path.cwd().parent / \"data/fluid_parameters.toml\"\n",
    "\n",
    "toml_str = dict_to_toml(fluid_parameters, toml_filename=toml_filename)"
   ]
  },
  {
   "cell_type": "code",
   "execution_count": null,
   "metadata": {},
   "outputs": [],
   "source": []
  }
 ],
 "metadata": {
  "kernelspec": {
   "display_name": "Python 3.9.12 ('.venv_dev_michael-booth-phd-thesis': venv)",
   "language": "python",
   "name": "python3"
  },
  "language_info": {
   "codemirror_mode": {
    "name": "ipython",
    "version": 3
   },
   "file_extension": ".py",
   "mimetype": "text/x-python",
   "name": "python",
   "nbconvert_exporter": "python",
   "pygments_lexer": "ipython3",
   "version": "3.9.12"
  },
  "orig_nbformat": 4,
  "vscode": {
   "interpreter": {
    "hash": "277df5c1efdb1880c16f84c47c38346983de44053d32f1390bd3f0633600e852"
   }
  }
 },
 "nbformat": 4,
 "nbformat_minor": 2
}
