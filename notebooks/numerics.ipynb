{
 "cells": [
  {
   "cell_type": "code",
   "execution_count": 43,
   "metadata": {},
   "outputs": [],
   "source": [
    "from dataclasses import dataclass\n",
    "import numpy as np\n",
    "#from dacite import from_dict, Config"
   ]
  },
  {
   "cell_type": "code",
   "execution_count": 49,
   "metadata": {},
   "outputs": [],
   "source": [
    "# because of an issue with with dacite it can't read np.array() from a dictionary to populate the class instance\n",
    "# tried to work around with lists but it is painful / still doesn't solve issue"
   ]
  },
  {
   "cell_type": "code",
   "execution_count": 45,
   "metadata": {},
   "outputs": [],
   "source": [
    "@dataclass\n",
    "class Discretisation:\n",
    "    n_point: int\n",
    "    n_pair: int\n",
    "    z_cutoff: float\n",
    "    grid_size: float\n",
    "    z: np.array\n",
    "    hw: np.array\n",
    "    tw: np.array"
   ]
  },
  {
   "cell_type": "code",
   "execution_count": 46,
   "metadata": {},
   "outputs": [],
   "source": [
    "def set_num_parameters(n_point, n_pair, z_cutoff):\n",
    "    grid_size = z_cutoff / (n_point - 1)\n",
    "    return Discretisation(n_point, n_pair, z_cutoff, grid_size, \n",
    "    np.zeros(n_point), np.zeros((n_point, n_pair)), np.zeros((n_point, n_pair)))\n"
   ]
  }
 ],
 "metadata": {
  "kernelspec": {
   "display_name": "Python 3.9.12 ('.venv_deploy_michael-booth-phd-thesis': venv)",
   "language": "python",
   "name": "python3"
  },
  "language_info": {
   "codemirror_mode": {
    "name": "ipython",
    "version": 3
   },
   "file_extension": ".py",
   "mimetype": "text/x-python",
   "name": "python",
   "nbconvert_exporter": "python",
   "pygments_lexer": "ipython3",
   "version": "3.9.12"
  },
  "orig_nbformat": 4,
  "vscode": {
   "interpreter": {
    "hash": "fe1b112870b14dc7863ad8ae457ad714e729491949d27f4d1d4301534ba888a0"
   }
  }
 },
 "nbformat": 4,
 "nbformat_minor": 2
}
