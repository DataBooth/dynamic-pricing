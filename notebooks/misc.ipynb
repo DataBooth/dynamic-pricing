{
 "cells": [
  {
   "cell_type": "code",
   "execution_count": 1,
   "metadata": {},
   "outputs": [],
   "source": [
    "from scipy.integrate import trapezoid\n",
    "from scipy.optimize import show_options\n",
    "\n",
    "from scipy.constants import epsilon_0, elementary_charge, Boltzmann, Avogadro\n",
    "import numpy as np\n",
    "import matplotlib.pyplot as plt"
   ]
  },
  {
   "cell_type": "code",
   "execution_count": 2,
   "metadata": {},
   "outputs": [],
   "source": [
    "\n",
    "def make_simple_plot(x, y, xlabel, ylabel, title):\n",
    "    fig, ax = plt.subplots()\n",
    "    ax.plot(x, y)\n",
    "    ax.set(xlabel=xlabel, ylabel=ylabel, title=title)\n",
    "    ax.grid()\n",
    "    plt.show()\n",
    "    return fig, ax"
   ]
  },
  {
   "cell_type": "markdown",
   "metadata": {},
   "source": [
    "### Physical constants\n",
    "\n",
    "1. the electric constant (vacuum permittivity) $\\epsilon_0$"
   ]
  },
  {
   "cell_type": "code",
   "execution_count": 3,
   "metadata": {},
   "outputs": [
    {
     "data": {
      "text/plain": [
       "8.8541878128e-12"
      ]
     },
     "execution_count": 3,
     "metadata": {},
     "output_type": "execute_result"
    }
   ],
   "source": [
    "epsilon_0"
   ]
  },
  {
   "cell_type": "markdown",
   "metadata": {},
   "source": [
    "2. Elementary charge (charge on electron)"
   ]
  },
  {
   "cell_type": "code",
   "execution_count": 4,
   "metadata": {},
   "outputs": [
    {
     "data": {
      "text/plain": [
       "1.602176634e-19"
      ]
     },
     "execution_count": 4,
     "metadata": {},
     "output_type": "execute_result"
    }
   ],
   "source": [
    "elementary_charge"
   ]
  },
  {
   "cell_type": "markdown",
   "metadata": {},
   "source": [
    "3. Boltzmann constant"
   ]
  },
  {
   "cell_type": "code",
   "execution_count": 5,
   "metadata": {},
   "outputs": [
    {
     "data": {
      "text/plain": [
       "1.380649e-23"
      ]
     },
     "execution_count": 5,
     "metadata": {},
     "output_type": "execute_result"
    }
   ],
   "source": [
    "Boltzmann"
   ]
  },
  {
   "cell_type": "markdown",
   "metadata": {},
   "source": [
    "### Liquid (model) parameters\n",
    "\n",
    "Page 62"
   ]
  },
  {
   "cell_type": "code",
   "execution_count": 6,
   "metadata": {},
   "outputs": [],
   "source": [
    "cap_z = 2\n",
    "charge = cap_z * elementary_charge"
   ]
  },
  {
   "cell_type": "code",
   "execution_count": 7,
   "metadata": {},
   "outputs": [
    {
     "data": {
      "text/plain": [
       "3.204353268e-19"
      ]
     },
     "execution_count": 7,
     "metadata": {},
     "output_type": "execute_result"
    }
   ],
   "source": [
    "charge"
   ]
  },
  {
   "cell_type": "code",
   "execution_count": 8,
   "metadata": {},
   "outputs": [],
   "source": [
    "temperature = 1298.0  # Kelvin\n",
    "concentration = 19.5  # mol dm^{-3}"
   ]
  },
  {
   "cell_type": "code",
   "execution_count": 27,
   "metadata": {},
   "outputs": [],
   "source": [
    "def calc_kappa(temperature, epsilon, beta_inv, rho):\n",
    "    return np.sqrt(4 * np.pi / epsilon * beta_inv * rho)"
   ]
  },
  {
   "cell_type": "code",
   "execution_count": 28,
   "metadata": {},
   "outputs": [],
   "source": [
    "def calc_rho(concentration):\n",
    "    return concentration * Avogadro"
   ]
  },
  {
   "cell_type": "code",
   "execution_count": 29,
   "metadata": {},
   "outputs": [],
   "source": [
    "capital_a = 16.274 * 1e-19 # joules\n",
    "wall_d = 2.97  # inverse Angstrom"
   ]
  },
  {
   "cell_type": "code",
   "execution_count": 33,
   "metadata": {},
   "outputs": [],
   "source": [
    "beta_inv = Boltzmann * temperature"
   ]
  },
  {
   "cell_type": "code",
   "execution_count": 36,
   "metadata": {},
   "outputs": [],
   "source": [
    "epsilon = 4 * np.pi * epsilon_0"
   ]
  },
  {
   "cell_type": "code",
   "execution_count": 37,
   "metadata": {},
   "outputs": [],
   "source": [
    "psi_0 = 0     # 0 mV"
   ]
  },
  {
   "cell_type": "code",
   "execution_count": 38,
   "metadata": {},
   "outputs": [],
   "source": [
    "rho = calc_rho(concentration)"
   ]
  },
  {
   "cell_type": "code",
   "execution_count": 39,
   "metadata": {},
   "outputs": [
    {
     "data": {
      "text/plain": [
       "154169115.04820734"
      ]
     },
     "execution_count": 39,
     "metadata": {},
     "output_type": "execute_result"
    }
   ],
   "source": [
    "calc_kappa(temperature, epsilon, beta_inv, rho)"
   ]
  },
  {
   "cell_type": "markdown",
   "metadata": {},
   "source": [
    "### Discretisation"
   ]
  },
  {
   "cell_type": "code",
   "execution_count": null,
   "metadata": {},
   "outputs": [],
   "source": [
    "z_cutoff = 50.0\n",
    "npoint = 2001\n",
    "grid_size = z_cutoff / (npoint - 1) \n",
    "z = np.linspace(0.0, z_cutoff, npoint)"
   ]
  },
  {
   "cell_type": "markdown",
   "metadata": {},
   "source": [
    "### Model functions"
   ]
  },
  {
   "cell_type": "code",
   "execution_count": null,
   "metadata": {},
   "outputs": [],
   "source": [
    "# same for both ions\n",
    "\n",
    "def wall_ion_potential(z):\n",
    "    return np.exp(-wall_d * z) * capital_a * (wall_d * z + 2)\n"
   ]
  },
  {
   "cell_type": "code",
   "execution_count": null,
   "metadata": {},
   "outputs": [],
   "source": [
    "phi = wall_ion_potential(z)"
   ]
  },
  {
   "cell_type": "code",
   "execution_count": null,
   "metadata": {},
   "outputs": [
    {
     "data": {
      "text/plain": [
       "array([3.25480000e-18, 3.13407255e-18, 3.01395622e-18, ...,\n",
       "       9.12776068e-81, 8.47875917e-81, 7.87590101e-81])"
      ]
     },
     "execution_count": 53,
     "metadata": {},
     "output_type": "execute_result"
    }
   ],
   "source": [
    "phi"
   ]
  },
  {
   "cell_type": "code",
   "execution_count": null,
   "metadata": {},
   "outputs": [],
   "source": [
    "tz_initial_guess = np.zeros(npoint, dtype=np.float64)    # initial guess of zero - t(z) = ln g(z) + beta phi(z)"
   ]
  },
  {
   "cell_type": "code",
   "execution_count": null,
   "metadata": {},
   "outputs": [],
   "source": [
    "# Assume all of the moments of the short-ranged bulk direct correlation functions to be zero initially\n",
    "\n",
    "f1z = np.zeros(npoint, dtype=np.float64)\n",
    "f2z = np.zeros(npoint, dtype=np.float64)"
   ]
  },
  {
   "cell_type": "code",
   "execution_count": null,
   "metadata": {},
   "outputs": [],
   "source": [
    "beta_phi = phi / beta_inv"
   ]
  },
  {
   "cell_type": "code",
   "execution_count": null,
   "metadata": {},
   "outputs": [
    {
     "data": {
      "image/png": "[encoded data removed]",
      "text/plain": [
       "<Figure size 432x288 with 1 Axes>"
      ]
     },
     "metadata": {
      "needs_background": "light"
     },
     "output_type": "display_data"
    },
    {
     "data": {
      "text/plain": [
       "(<Figure size 432x288 with 1 Axes>,\n",
       " <AxesSubplot:title={'center':'Dimensionless wall-ion potential'}, xlabel='z', ylabel='beta_phi'>)"
      ]
     },
     "execution_count": 79,
     "metadata": {},
     "output_type": "execute_result"
    }
   ],
   "source": [
    "make_simple_plot(z, beta_phi, \"z\", \"beta_phi\", \"Dimensionless wall-ion potential\")"
   ]
  },
  {
   "cell_type": "code",
   "execution_count": null,
   "metadata": {},
   "outputs": [],
   "source": [
    "def singlet_equation_tz(rho, f1z, f2z, z, z_cutoff):\n",
    "    int_z_inf = trapezoid(y=beta_phi, x=z)\n",
    "    int_0_z = trapezoid(y=beta_phi, x=z)\n",
    "    int_0_inf = trapezoid(y=beta_phi, x=z)\n",
    "    tz = -psi_0 / beta_inv + 2 * np.pi * \n",
    "    (rho * z * f1z - f2z + 2 * charge1 * charge2 / epsilon  * int_z_inf + z * int_0_z ) \n",
    "    + int_0_inf\n",
    "    return tz\n",
    "\n"
   ]
  },
  {
   "cell_type": "markdown",
   "metadata": {},
   "source": [
    "### Numerical integration\n",
    "\n",
    "Extended trapezoidal rule"
   ]
  },
  {
   "cell_type": "code",
   "execution_count": null,
   "metadata": {},
   "outputs": [
    {
     "name": "stdout",
     "output_type": "stream",
     "text": [
      "Help on function trapz in module numpy:\n",
      "\n",
      "trapz(y, x=None, dx=1.0, axis=-1)\n",
      "    Integrate along the given axis using the composite trapezoidal rule.\n",
      "    \n",
      "    If `x` is provided, the integration happens in sequence along its\n",
      "    elements - they are not sorted.\n",
      "    \n",
      "    Integrate `y` (`x`) along each 1d slice on the given axis, compute\n",
      "    :math:`\\int y(x) dx`.\n",
      "    When `x` is specified, this integrates along the parametric curve,\n",
      "    computing :math:`\\int_t y(t) dt =\n",
      "    \\int_t y(t) \\left.\\frac{dx}{dt}\\right|_{x=x(t)} dt`.\n",
      "    \n",
      "    Parameters\n",
      "    ----------\n",
      "    y : array_like\n",
      "        Input array to integrate.\n",
      "    x : array_like, optional\n",
      "        The sample points corresponding to the `y` values. If `x` is None,\n",
      "        the sample points are assumed to be evenly spaced `dx` apart. The\n",
      "        default is None.\n",
      "    dx : scalar, optional\n",
      "        The spacing between sample points when `x` is None. The default is 1.\n",
      "    axis : int, optional\n",
      "        The axis along which to integrate.\n",
      "    \n",
      "    Returns\n",
      "    -------\n",
      "    trapz : float or ndarray\n",
      "        Definite integral of `y` = n-dimensional array as approximated along\n",
      "        a single axis by the trapezoidal rule. If `y` is a 1-dimensional array,\n",
      "        then the result is a float. If `n` is greater than 1, then the result\n",
      "        is an `n`-1 dimensional array.\n",
      "    \n",
      "    See Also\n",
      "    --------\n",
      "    numpy.cumsum\n",
      "    \n",
      "    Notes\n",
      "    -----\n",
      "    Image [2]_ illustrates trapezoidal rule -- y-axis locations of points\n",
      "    will be taken from `y` array, by default x-axis distances between\n",
      "    points will be 1.0, alternatively they can be provided with `x` array\n",
      "    or with `dx` scalar.  Return value will be equal to combined area under\n",
      "    the red lines.\n",
      "    \n",
      "    \n",
      "    References\n",
      "    ----------\n",
      "    .. [1] Wikipedia page: https://en.wikipedia.org/wiki/Trapezoidal_rule\n",
      "    \n",
      "    .. [2] Illustration image:\n",
      "           https://en.wikipedia.org/wiki/File:Composite_trapezoidal_rule_illustration.png\n",
      "    \n",
      "    Examples\n",
      "    --------\n",
      "    >>> np.trapz([1,2,3])\n",
      "    4.0\n",
      "    >>> np.trapz([1,2,3], x=[4,6,8])\n",
      "    8.0\n",
      "    >>> np.trapz([1,2,3], dx=2)\n",
      "    8.0\n",
      "    \n",
      "    Using a decreasing `x` corresponds to integrating in reverse:\n",
      "    \n",
      "    >>> np.trapz([1,2,3], x=[8,6,4])\n",
      "    -8.0\n",
      "    \n",
      "    More generally `x` is used to integrate along a parametric curve.\n",
      "    This finds the area of a circle, noting we repeat the sample which closes\n",
      "    the curve:\n",
      "    \n",
      "    >>> theta = np.linspace(0, 2 * np.pi, num=1000, endpoint=True)\n",
      "    >>> np.trapz(np.cos(theta), x=np.sin(theta))\n",
      "    3.141571941375841\n",
      "    \n",
      "    >>> a = np.arange(6).reshape(2, 3)\n",
      "    >>> a\n",
      "    array([[0, 1, 2],\n",
      "           [3, 4, 5]])\n",
      "    >>> np.trapz(a, axis=0)\n",
      "    array([1.5, 2.5, 3.5])\n",
      "    >>> np.trapz(a, axis=1)\n",
      "    array([2.,  8.])\n",
      "\n"
     ]
    }
   ],
   "source": [
    "help(trapezoid)"
   ]
  },
  {
   "cell_type": "code",
   "execution_count": null,
   "metadata": {},
   "outputs": [],
   "source": [
    "int_wall_potential = trapezoid(y=beta_phi, x=z)"
   ]
  },
  {
   "cell_type": "code",
   "execution_count": null,
   "metadata": {},
   "outputs": [
    {
     "data": {
      "text/plain": [
       "91.74188327293258"
      ]
     },
     "execution_count": 81,
     "metadata": {},
     "output_type": "execute_result"
    }
   ],
   "source": [
    "int_wall_potential"
   ]
  },
  {
   "cell_type": "code",
   "execution_count": null,
   "metadata": {},
   "outputs": [
    {
     "name": "stdout",
     "output_type": "stream",
     "text": [
      "Options\n",
      "-------\n",
      "nit : int, optional\n",
      "    Number of iterations to make. If omitted (default), make as many\n",
      "    as required to meet tolerances.\n",
      "disp : bool, optional\n",
      "    Print status to stdout on every iteration.\n",
      "maxiter : int, optional\n",
      "    Maximum number of iterations to make. If more are needed to\n",
      "    meet convergence, `NoConvergence` is raised.\n",
      "ftol : float, optional\n",
      "    Relative tolerance for the residual. If omitted, not used.\n",
      "fatol : float, optional\n",
      "    Absolute tolerance (in max-norm) for the residual.\n",
      "    If omitted, default is 6e-6.\n",
      "xtol : float, optional\n",
      "    Relative minimum step size. If omitted, not used.\n",
      "xatol : float, optional\n",
      "    Absolute minimum step size, as determined from the Jacobian\n",
      "    approximation. If the step size is smaller than this, optimization\n",
      "    is terminated as successful. If omitted, not used.\n",
      "tol_norm : function(vector) -> scalar, optional\n",
      "    Norm to use in convergence check. Default is the maximum norm.\n",
      "line_search : {None, 'armijo' (default), 'wolfe'}, optional\n",
      "    Which type of a line search to use to determine the step size in\n",
      "    the direction given by the Jacobian approximation. Defaults to\n",
      "    'armijo'.\n",
      "jac_options : dict, optional\n",
      "    Options for the respective Jacobian approximation.\n",
      "\n",
      "    rdiff : float, optional\n",
      "        Relative step size to use in numerical differentiation.\n",
      "    method : {'lgmres', 'gmres', 'bicgstab', 'cgs', 'minres'} or function\n",
      "        Krylov method to use to approximate the Jacobian.\n",
      "        Can be a string, or a function implementing the same\n",
      "        interface as the iterative solvers in\n",
      "        `scipy.sparse.linalg`.\n",
      "\n",
      "        The default is `scipy.sparse.linalg.lgmres`.\n",
      "    inner_M : LinearOperator or InverseJacobian\n",
      "        Preconditioner for the inner Krylov iteration.\n",
      "        Note that you can use also inverse Jacobians as (adaptive)\n",
      "        preconditioners. For example,\n",
      "\n",
      "        >>> jac = BroydenFirst()\n",
      "        >>> kjac = KrylovJacobian(inner_M=jac.inverse).\n",
      "\n",
      "        If the preconditioner has a method named 'update', it will\n",
      "        be called as ``update(x, f)`` after each nonlinear step,\n",
      "        with ``x`` giving the current point, and ``f`` the current\n",
      "        function value.\n",
      "    inner_tol, inner_maxiter, ...\n",
      "        Parameters to pass on to the \"inner\" Krylov solver.\n",
      "        See `scipy.sparse.linalg.gmres` for details.\n",
      "    outer_k : int, optional\n",
      "        Size of the subspace kept across LGMRES nonlinear\n",
      "        iterations.\n",
      "\n",
      "        See `scipy.sparse.linalg.lgmres` for details.\n"
     ]
    }
   ],
   "source": [
    "show_options(solver=\"root\", method=\"krylov\")"
   ]
  },
  {
   "cell_type": "code",
   "execution_count": null,
   "metadata": {},
   "outputs": [],
   "source": []
  }
 ],
 "metadata": {
  "kernelspec": {
   "display_name": "Python 3.9.12 ('.venv_phd-thesis': venv)",
   "language": "python",
   "name": "python3"
  },
  "language_info": {
   "codemirror_mode": {
    "name": "ipython",
    "version": 3
   },
   "file_extension": ".py",
   "mimetype": "text/x-python",
   "name": "python",
   "nbconvert_exporter": "python",
   "pygments_lexer": "ipython3",
   "version": "3.9.12"
  },
  "orig_nbformat": 4,
  "vscode": {
   "interpreter": {
    "hash": "efcec08cf809be12f43e7dcea9299edcddae7b0767a012083e6ceef75ec1ca14"
   }
  }
 },
 "nbformat": 4,
 "nbformat_minor": 2
}
