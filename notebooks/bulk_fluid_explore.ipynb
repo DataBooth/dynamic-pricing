{
 "cells": [
  {
   "cell_type": "code",
   "execution_count": 13,
   "metadata": {},
   "outputs": [],
   "source": [
    "# allow for imports from ../src directory\n",
    "\n",
    "from os import path as os_path\n",
    "from os import getcwd\n",
    "from sys import path as sys_path\n",
    "\n",
    "sys_path.append(os_path.dirname(getcwd()))  "
   ]
  },
  {
   "cell_type": "code",
   "execution_count": 14,
   "metadata": {},
   "outputs": [],
   "source": [
    "import pandas as pd\n",
    "import numpy as np\n",
    "# from src.helper_functions import read_render_markdown_file\n",
    "from scipy.constants import Boltzmann"
   ]
  },
  {
   "cell_type": "code",
   "execution_count": 15,
   "metadata": {},
   "outputs": [
    {
     "name": "stdout",
     "output_type": "stream",
     "text": [
      "[1, 2, 3, 4]\n"
     ]
    }
   ],
   "source": [
    "z = [0, 1, 2, 3, 4, 5]\n",
    "\n",
    "print(z[1:-1])"
   ]
  },
  {
   "cell_type": "code",
   "execution_count": 16,
   "metadata": {},
   "outputs": [],
   "source": [
    "UR_PATH = \"/Users/mjboothaus/code/github/mjboothaus/PhD-Thesis/src/pyoz/nrcg-ur.dat\"\n",
    "ur = pd.read_csv(UR_PATH, header=None, delim_whitespace=True)\n",
    "ur.set_index(0, inplace=True)\n",
    "#ur = ur / (Boltzmann * 1075)"
   ]
  },
  {
   "cell_type": "code",
   "execution_count": 17,
   "metadata": {},
   "outputs": [
    {
     "data": {
      "text/plain": [
       "<AxesSubplot:xlabel='0'>"
      ]
     },
     "execution_count": 17,
     "metadata": {},
     "output_type": "execute_result"
    },
    {
     "data": {
      "image/png": "[encoded data removed]",
      "text/plain": [
       "<Figure size 432x288 with 1 Axes>"
      ]
     },
     "metadata": {
      "needs_background": "light"
     },
     "output_type": "display_data"
    }
   ],
   "source": [
    "\n",
    "ur.plot(xlim=[0, 10])  # , ylim=[-100, 200])"
   ]
  },
  {
   "cell_type": "code",
   "execution_count": 18,
   "metadata": {},
   "outputs": [],
   "source": [
    "CR_PATH = \"/Users/mjboothaus/code/github/mjboothaus/PhD-Thesis/src/pyoz/nrcg-cr.dat\"\n",
    "cr = pd.read_csv(CR_PATH, header=None, delim_whitespace=True)\n",
    "cr.set_index(0, inplace=True)"
   ]
  },
  {
   "cell_type": "code",
   "execution_count": 19,
   "metadata": {},
   "outputs": [
    {
     "data": {
      "text/plain": [
       "<AxesSubplot:xlabel='0'>"
      ]
     },
     "execution_count": 19,
     "metadata": {},
     "output_type": "execute_result"
    },
    {
     "data": {
      "image/png": "[encoded data removed]",
      "text/plain": [
       "<Figure size 432x288 with 1 Axes>"
      ]
     },
     "metadata": {
      "needs_background": "light"
     },
     "output_type": "display_data"
    }
   ],
   "source": [
    "cr.plot(xlim=[0, 10])"
   ]
  },
  {
   "cell_type": "code",
   "execution_count": 22,
   "metadata": {},
   "outputs": [],
   "source": [
    "from src.pyoz.pyoz_potential import def_potential"
   ]
  },
  {
   "cell_type": "code",
   "execution_count": 23,
   "metadata": {},
   "outputs": [],
   "source": [
    "ctrl = {'npoints_exp': 12, 'npoints': 4095, 'deltar': 0.05, 'max_r': 204.75, 'deltak': 0.015343553863686413, 'max_k': 62.83185307179586, 'mix_param': 1.0, 'convergence_crit': 1e-09,\n",
    "        'max_dsqn': 100.0, 'max_iter': 500, 'do_nr': True, 'nr_mix_param': 0.0, 'nr_convergence_factor': 0.001, 'nr_max_iter': 10, 'nr_noconv_incr': False, 'do_graphics': False}\n"
   ]
  },
  {
   "cell_type": "code",
   "execution_count": 24,
   "metadata": {},
   "outputs": [],
   "source": [
    "# syst = {'temp': 300.0, 'epsilon_r': 78.3, 'ncomponents': 2, 'closure_name': 'hnc', 'closure': <function closure_hnc at 0x105e8c550>, 'name': ['P', 'M'], 'conc_mol': np.array([0.5, 0.5]), 'dens': {'num': np.array([0.00030111, 0.00030111]), 'totnum': 0.0006022141500000001, 'ij': np.array([[0.00030111, 0.00030111],\n",
    "#       [0.00030111, 0.00030111]]), 'inf_dilution': np.array([[0, 0],\n",
    "#       [0, 0]], dtype=int8), 'xi': np.array([0.5, 0.5])}, 'inf_dilute': False, 'ncomb': 3.0}"
   ]
  },
  {
   "cell_type": "code",
   "execution_count": 25,
   "metadata": {},
   "outputs": [],
   "source": [
    "parm = [{'pot_type': 'hs', 'pot_title': 'hs', 'hs_diameter': np.array([4., 6.]), 'hs_ij': np.array([[4., 5.],\n",
    "       [5., 6.]]), 'dis_index': np.array([[ 79,  99],\n",
    "       [ 99, 119]], dtype=np.int32)}, {'pot_type': 'coulomb', 'pot_title': 'coulomb', 'charge': np.array([ 1., -1.]), 'chg_ij': np.array([[ 7.11369718, -7.11369718],\n",
    "       [-7.11369718,  7.11369718]]), 'erf_alpha': np.array([[0.05800536, 0.05800536],\n",
    "       [0.05800536, 0.05800536]])}]"
   ]
  },
  {
   "cell_type": "code",
   "execution_count": 26,
   "metadata": {},
   "outputs": [],
   "source": [
    "# const = <pyoz_const.const object at 0x1121d5c10>\n",
    "# dft = <pyoz_dft.dft object at 0x1049aed60>"
   ]
  },
  {
   "cell_type": "code",
   "execution_count": 27,
   "metadata": {},
   "outputs": [],
   "source": [
    "# k = [1.53435539e-02 3.06871077e-02 4.60306616e-02 ... 6.28011660e+01\n",
    "# 6.28165095e+01 6.28318531e+01]"
   ]
  },
  {
   "cell_type": "code",
   "execution_count": 28,
   "metadata": {},
   "outputs": [],
   "source": [
    "# def_potential(ctrl, syst, parm, const, dft, r, k)"
   ]
  },
  {
   "cell_type": "markdown",
   "metadata": {},
   "source": [
    "Example of running (so-far untested) pyOZ code e.g. for charged hard-spheres HNC closure\n",
    "`python pyoz.py -i tests/hs_chg/nrcg.in`"
   ]
  },
  {
   "cell_type": "code",
   "execution_count": 29,
   "metadata": {},
   "outputs": [
    {
     "name": "stdout",
     "output_type": "stream",
     "text": [
      "cat: ../pyOZ_bulk_fluid/pyoz-0.3/tests/hs_chg/nrcg.in: No such file or directory\n"
     ]
    }
   ],
   "source": [
    "!cat ../pyOZ_bulk_fluid/pyoz-0.3/tests/hs_chg/nrcg.in"
   ]
  },
  {
   "cell_type": "code",
   "execution_count": 39,
   "metadata": {},
   "outputs": [],
   "source": [
    "CR_PATH = \"../src/pyoz/tests/hs_chg/picard-cr.dat.orig\"\n",
    "GR_PATH = \"../src/pyoz/tests/hs_chg/pyoz-gr.dat\""
   ]
  },
  {
   "cell_type": "code",
   "execution_count": 40,
   "metadata": {},
   "outputs": [
    {
     "name": "stdout",
     "output_type": "stream",
     "text": [
      "   0.000   0.00000   0.00000   0.00000\n",
      "   0.050  -2.14950  -0.42411  -2.33814\n",
      "   0.100  -2.14493  -0.42415  -2.33303\n",
      "   0.150  -2.13966  -0.42421  -2.32712\n",
      "   0.200  -2.13430  -0.42430  -2.32110\n",
      "   0.250  -2.12892  -0.42441  -2.31505\n",
      "   0.300  -2.12355  -0.42455  -2.30901\n",
      "   0.350  -2.11821  -0.42471  -2.30299\n",
      "   0.400  -2.11291  -0.42490  -2.29700\n",
      "   0.450  -2.10764  -0.42512  -2.29104\n"
     ]
    }
   ],
   "source": [
    "!head $CR_PATH"
   ]
  },
  {
   "cell_type": "code",
   "execution_count": 41,
   "metadata": {},
   "outputs": [],
   "source": [
    "cr = pd.read_csv(CR_PATH, header=None, delim_whitespace=True)"
   ]
  },
  {
   "cell_type": "code",
   "execution_count": 42,
   "metadata": {},
   "outputs": [
    {
     "data": {
      "text/html": [
       "<div>\n",
       "<style scoped>\n",
       "    .dataframe tbody tr th:only-of-type {\n",
       "        vertical-align: middle;\n",
       "    }\n",
       "\n",
       "    .dataframe tbody tr th {\n",
       "        vertical-align: top;\n",
       "    }\n",
       "\n",
       "    .dataframe thead th {\n",
       "        text-align: right;\n",
       "    }\n",
       "</style>\n",
       "<table border=\"1\" class=\"dataframe\">\n",
       "  <thead>\n",
       "    <tr style=\"text-align: right;\">\n",
       "      <th></th>\n",
       "      <th>0</th>\n",
       "      <th>1</th>\n",
       "      <th>2</th>\n",
       "      <th>3</th>\n",
       "    </tr>\n",
       "  </thead>\n",
       "  <tbody>\n",
       "    <tr>\n",
       "      <th>0</th>\n",
       "      <td>0.00</td>\n",
       "      <td>0.00000</td>\n",
       "      <td>0.00000</td>\n",
       "      <td>0.00000</td>\n",
       "    </tr>\n",
       "    <tr>\n",
       "      <th>1</th>\n",
       "      <td>0.05</td>\n",
       "      <td>-2.14950</td>\n",
       "      <td>-0.42411</td>\n",
       "      <td>-2.33814</td>\n",
       "    </tr>\n",
       "    <tr>\n",
       "      <th>2</th>\n",
       "      <td>0.10</td>\n",
       "      <td>-2.14493</td>\n",
       "      <td>-0.42415</td>\n",
       "      <td>-2.33303</td>\n",
       "    </tr>\n",
       "    <tr>\n",
       "      <th>3</th>\n",
       "      <td>0.15</td>\n",
       "      <td>-2.13966</td>\n",
       "      <td>-0.42421</td>\n",
       "      <td>-2.32712</td>\n",
       "    </tr>\n",
       "    <tr>\n",
       "      <th>4</th>\n",
       "      <td>0.20</td>\n",
       "      <td>-2.13430</td>\n",
       "      <td>-0.42430</td>\n",
       "      <td>-2.32110</td>\n",
       "    </tr>\n",
       "  </tbody>\n",
       "</table>\n",
       "</div>"
      ],
      "text/plain": [
       "      0        1        2        3\n",
       "0  0.00  0.00000  0.00000  0.00000\n",
       "1  0.05 -2.14950 -0.42411 -2.33814\n",
       "2  0.10 -2.14493 -0.42415 -2.33303\n",
       "3  0.15 -2.13966 -0.42421 -2.32712\n",
       "4  0.20 -2.13430 -0.42430 -2.32110"
      ]
     },
     "execution_count": 42,
     "metadata": {},
     "output_type": "execute_result"
    }
   ],
   "source": [
    "cr.head()"
   ]
  },
  {
   "cell_type": "code",
   "execution_count": 43,
   "metadata": {},
   "outputs": [],
   "source": [
    "cr.set_index(0, inplace=True)"
   ]
  },
  {
   "cell_type": "code",
   "execution_count": 44,
   "metadata": {},
   "outputs": [
    {
     "data": {
      "text/plain": [
       "<AxesSubplot:xlabel='0'>"
      ]
     },
     "execution_count": 44,
     "metadata": {},
     "output_type": "execute_result"
    },
    {
     "data": {
      "image/png": "[encoded data removed]",
      "text/plain": [
       "<Figure size 432x288 with 1 Axes>"
      ]
     },
     "metadata": {
      "needs_background": "light"
     },
     "output_type": "display_data"
    }
   ],
   "source": [
    "cr.plot(xlim=[0, 15])"
   ]
  },
  {
   "cell_type": "code",
   "execution_count": 46,
   "metadata": {},
   "outputs": [
    {
     "ename": "NameError",
     "evalue": "name 'row' is not defined",
     "output_type": "error",
     "traceback": [
      "\u001b[0;31m---------------------------------------------------------------------------\u001b[0m",
      "\u001b[0;31mNameError\u001b[0m                                 Traceback (most recent call last)",
      "\u001b[1;32m/Users/mjboothaus/code/github/mjboothaus/PhD-Thesis/notebooks/bulk_fluid_explore.ipynb Cell 23\u001b[0m in \u001b[0;36m<cell line: 1>\u001b[0;34m()\u001b[0m\n\u001b[0;32m----> <a href='vscode-notebook-cell:/Users/mjboothaus/code/github/mjboothaus/PhD-Thesis/notebooks/bulk_fluid_explore.ipynb#ch0000026?line=0'>1</a>\u001b[0m cr[\u001b[39m\"\u001b[39m\u001b[39mrcr\u001b[39m\u001b[39m\"\u001b[39m] \u001b[39m=\u001b[39m cr\u001b[39m.\u001b[39;49mapply(\u001b[39mlambda\u001b[39;49;00m r: r\u001b[39m*\u001b[39;49mrow)\n",
      "File \u001b[0;32m~/code/github/mjboothaus/PhD-Thesis/.venv_deploy_michael-booth-phd-thesis/lib/python3.9/site-packages/pandas/core/frame.py:8845\u001b[0m, in \u001b[0;36mDataFrame.apply\u001b[0;34m(self, func, axis, raw, result_type, args, **kwargs)\u001b[0m\n\u001b[1;32m   8834\u001b[0m \u001b[39mfrom\u001b[39;00m \u001b[39mpandas\u001b[39;00m\u001b[39m.\u001b[39;00m\u001b[39mcore\u001b[39;00m\u001b[39m.\u001b[39;00m\u001b[39mapply\u001b[39;00m \u001b[39mimport\u001b[39;00m frame_apply\n\u001b[1;32m   8836\u001b[0m op \u001b[39m=\u001b[39m frame_apply(\n\u001b[1;32m   8837\u001b[0m     \u001b[39mself\u001b[39m,\n\u001b[1;32m   8838\u001b[0m     func\u001b[39m=\u001b[39mfunc,\n\u001b[0;32m   (...)\u001b[0m\n\u001b[1;32m   8843\u001b[0m     kwargs\u001b[39m=\u001b[39mkwargs,\n\u001b[1;32m   8844\u001b[0m )\n\u001b[0;32m-> 8845\u001b[0m \u001b[39mreturn\u001b[39;00m op\u001b[39m.\u001b[39;49mapply()\u001b[39m.\u001b[39m__finalize__(\u001b[39mself\u001b[39m, method\u001b[39m=\u001b[39m\u001b[39m\"\u001b[39m\u001b[39mapply\u001b[39m\u001b[39m\"\u001b[39m)\n",
      "File \u001b[0;32m~/code/github/mjboothaus/PhD-Thesis/.venv_deploy_michael-booth-phd-thesis/lib/python3.9/site-packages/pandas/core/apply.py:733\u001b[0m, in \u001b[0;36mFrameApply.apply\u001b[0;34m(self)\u001b[0m\n\u001b[1;32m    730\u001b[0m \u001b[39melif\u001b[39;00m \u001b[39mself\u001b[39m\u001b[39m.\u001b[39mraw:\n\u001b[1;32m    731\u001b[0m     \u001b[39mreturn\u001b[39;00m \u001b[39mself\u001b[39m\u001b[39m.\u001b[39mapply_raw()\n\u001b[0;32m--> 733\u001b[0m \u001b[39mreturn\u001b[39;00m \u001b[39mself\u001b[39;49m\u001b[39m.\u001b[39;49mapply_standard()\n",
      "File \u001b[0;32m~/code/github/mjboothaus/PhD-Thesis/.venv_deploy_michael-booth-phd-thesis/lib/python3.9/site-packages/pandas/core/apply.py:857\u001b[0m, in \u001b[0;36mFrameApply.apply_standard\u001b[0;34m(self)\u001b[0m\n\u001b[1;32m    856\u001b[0m \u001b[39mdef\u001b[39;00m \u001b[39mapply_standard\u001b[39m(\u001b[39mself\u001b[39m):\n\u001b[0;32m--> 857\u001b[0m     results, res_index \u001b[39m=\u001b[39m \u001b[39mself\u001b[39;49m\u001b[39m.\u001b[39;49mapply_series_generator()\n\u001b[1;32m    859\u001b[0m     \u001b[39m# wrap results\u001b[39;00m\n\u001b[1;32m    860\u001b[0m     \u001b[39mreturn\u001b[39;00m \u001b[39mself\u001b[39m\u001b[39m.\u001b[39mwrap_results(results, res_index)\n",
      "File \u001b[0;32m~/code/github/mjboothaus/PhD-Thesis/.venv_deploy_michael-booth-phd-thesis/lib/python3.9/site-packages/pandas/core/apply.py:873\u001b[0m, in \u001b[0;36mFrameApply.apply_series_generator\u001b[0;34m(self)\u001b[0m\n\u001b[1;32m    870\u001b[0m \u001b[39mwith\u001b[39;00m option_context(\u001b[39m\"\u001b[39m\u001b[39mmode.chained_assignment\u001b[39m\u001b[39m\"\u001b[39m, \u001b[39mNone\u001b[39;00m):\n\u001b[1;32m    871\u001b[0m     \u001b[39mfor\u001b[39;00m i, v \u001b[39min\u001b[39;00m \u001b[39menumerate\u001b[39m(series_gen):\n\u001b[1;32m    872\u001b[0m         \u001b[39m# ignore SettingWithCopy here in case the user mutates\u001b[39;00m\n\u001b[0;32m--> 873\u001b[0m         results[i] \u001b[39m=\u001b[39m \u001b[39mself\u001b[39;49m\u001b[39m.\u001b[39;49mf(v)\n\u001b[1;32m    874\u001b[0m         \u001b[39mif\u001b[39;00m \u001b[39misinstance\u001b[39m(results[i], ABCSeries):\n\u001b[1;32m    875\u001b[0m             \u001b[39m# If we have a view on v, we need to make a copy because\u001b[39;00m\n\u001b[1;32m    876\u001b[0m             \u001b[39m#  series_generator will swap out the underlying data\u001b[39;00m\n\u001b[1;32m    877\u001b[0m             results[i] \u001b[39m=\u001b[39m results[i]\u001b[39m.\u001b[39mcopy(deep\u001b[39m=\u001b[39m\u001b[39mFalse\u001b[39;00m)\n",
      "\u001b[1;32m/Users/mjboothaus/code/github/mjboothaus/PhD-Thesis/notebooks/bulk_fluid_explore.ipynb Cell 23\u001b[0m in \u001b[0;36m<lambda>\u001b[0;34m(r)\u001b[0m\n\u001b[0;32m----> <a href='vscode-notebook-cell:/Users/mjboothaus/code/github/mjboothaus/PhD-Thesis/notebooks/bulk_fluid_explore.ipynb#ch0000026?line=0'>1</a>\u001b[0m cr[\u001b[39m\"\u001b[39m\u001b[39mrcr\u001b[39m\u001b[39m\"\u001b[39m] \u001b[39m=\u001b[39m cr\u001b[39m.\u001b[39mapply(\u001b[39mlambda\u001b[39;00m r: r\u001b[39m*\u001b[39mrow)\n",
      "\u001b[0;31mNameError\u001b[0m: name 'row' is not defined"
     ]
    }
   ],
   "source": [
    "cr[\"rcr\"] = cr.apply(lambda r: r*row)"
   ]
  },
  {
   "cell_type": "code",
   "execution_count": null,
   "metadata": {},
   "outputs": [],
   "source": [
    "gr = pd.read_csv(GR_PATH, header=None, delim_whitespace=True)"
   ]
  },
  {
   "cell_type": "code",
   "execution_count": null,
   "metadata": {},
   "outputs": [],
   "source": [
    "gr.set_index(0, inplace=True)"
   ]
  },
  {
   "cell_type": "code",
   "execution_count": null,
   "metadata": {},
   "outputs": [],
   "source": [
    "from matplotlib.pyplot import xlim\n",
    "\n",
    "\n",
    "gr.plot(xlim=[0, 15])"
   ]
  },
  {
   "cell_type": "code",
   "execution_count": null,
   "metadata": {},
   "outputs": [],
   "source": []
  }
 ],
 "metadata": {
  "kernelspec": {
   "display_name": "Python 3.9.12 ('.venv_deploy_michael-booth-phd-thesis': venv)",
   "language": "python",
   "name": "python3"
  },
  "language_info": {
   "codemirror_mode": {
    "name": "ipython",
    "version": 3
   },
   "file_extension": ".py",
   "mimetype": "text/x-python",
   "name": "python",
   "nbconvert_exporter": "python",
   "pygments_lexer": "ipython3",
   "version": "3.9.12"
  },
  "orig_nbformat": 4,
  "vscode": {
   "interpreter": {
    "hash": "fe1b112870b14dc7863ad8ae457ad714e729491949d27f4d1d4301534ba888a0"
   }
  }
 },
 "nbformat": 4,
 "nbformat_minor": 2
}
