{
 "cells": [
  {
   "cell_type": "code",
   "execution_count": 2,
   "metadata": {},
   "outputs": [],
   "source": [
    "import pandas as pd"
   ]
  },
  {
   "cell_type": "markdown",
   "metadata": {},
   "source": [
    "Example of running (so-far untested) pyOZ code e.g. for charged hard-spheres HNC closure\n",
    "`python pyoz.py -i tests/hs_chg/nrcg.in`"
   ]
  },
  {
   "cell_type": "code",
   "execution_count": 30,
   "metadata": {},
   "outputs": [
    {
     "name": "stdout",
     "output_type": "stream",
     "text": [
      "# 2 components, charged hard spheres\n",
      "# with HNC\n",
      "# nr/cg iteration\n",
      "\n",
      "# control variables for the calculation\n",
      "%ctrl\n",
      "    npoints \t4096\t# use power of 2!\n",
      "    deltar \t0.05\t# discretization step in A\n",
      "    mix_param \t1.0\t# mixing parameter for direct iteration\n",
      "    conv_crit \t1e-9\t# convergence criterion\n",
      "    max_iter \t500\t# maximum number of iterations\n",
      "    use_nr\n",
      "    nr_conv_crit 1e-3\t# relative convergence criterion\n",
      "    nr_max_iter 10\t# maximum internal iterations\n",
      "%end\n",
      "\n",
      "# system information\n",
      "%syst\n",
      "    temp\t300.00\t# system temperature\n",
      "    epsilon_r\t78.3\t# dielectric constant\n",
      "    ncomp\t2\t# number of components\n",
      "    closure\tHNC\t# closure relation\n",
      "    names\tP M\t# names of components\n",
      "    conc\t0.5 0.5\t# concentrations of individual components\n",
      "    conc_unit\tmol_L\t# in moles pro liter\n",
      "%end\n",
      "\n",
      "# parm containts information about interatomic potentials\n",
      "%parm\n",
      "    # hard spheres potential\n",
      "    %potential\tHS\n",
      "\ths_diameter\t4.0 6.0\t# ncomp values of hs diameters\n",
      "\ths_unit \tA\t# supported units A, m, nm, pm\n",
      "    %end_potential\n",
      "    %potential coulomb\n",
      "\tcharge 1 -1\n",
      "    %end_potential\n",
      "%end\n",
      "\n",
      "# output statements\n",
      "%outp\n",
      "    #gamma_write\n",
      "    gr_write\n",
      "    ur_write\n",
      "%end\n"
     ]
    }
   ],
   "source": [
    "!cat ../pyOZ_bulk_fluid/pyoz-0.3/tests/hs_chg/nrcg.in"
   ]
  },
  {
   "cell_type": "code",
   "execution_count": 19,
   "metadata": {},
   "outputs": [],
   "source": [
    "CR_PATH = \"../pyOZ_bulk_fluid/pyoz-0.3/tests/hs_chg/picard-cr.dat.orig\"\n",
    "GR_PATH = \"../pyOZ_bulk_fluid/pyoz-0.3/pyoz-gr.dat\""
   ]
  },
  {
   "cell_type": "code",
   "execution_count": 10,
   "metadata": {},
   "outputs": [
    {
     "name": "stdout",
     "output_type": "stream",
     "text": [
      "   0.000   0.00000   0.00000   0.00000\n",
      "   0.050  -2.14950  -0.42411  -2.33814\n",
      "   0.100  -2.14493  -0.42415  -2.33303\n",
      "   0.150  -2.13966  -0.42421  -2.32712\n",
      "   0.200  -2.13430  -0.42430  -2.32110\n",
      "   0.250  -2.12892  -0.42441  -2.31505\n",
      "   0.300  -2.12355  -0.42455  -2.30901\n",
      "   0.350  -2.11821  -0.42471  -2.30299\n",
      "   0.400  -2.11291  -0.42490  -2.29700\n",
      "   0.450  -2.10764  -0.42512  -2.29104\n"
     ]
    }
   ],
   "source": [
    "!head $CR_PATH"
   ]
  },
  {
   "cell_type": "code",
   "execution_count": 20,
   "metadata": {},
   "outputs": [],
   "source": [
    "cr = pd.read_csv(CR_PATH, header=None, delim_whitespace=True)"
   ]
  },
  {
   "cell_type": "code",
   "execution_count": 21,
   "metadata": {},
   "outputs": [
    {
     "data": {
      "text/html": [
       "<div>\n",
       "<style scoped>\n",
       "    .dataframe tbody tr th:only-of-type {\n",
       "        vertical-align: middle;\n",
       "    }\n",
       "\n",
       "    .dataframe tbody tr th {\n",
       "        vertical-align: top;\n",
       "    }\n",
       "\n",
       "    .dataframe thead th {\n",
       "        text-align: right;\n",
       "    }\n",
       "</style>\n",
       "<table border=\"1\" class=\"dataframe\">\n",
       "  <thead>\n",
       "    <tr style=\"text-align: right;\">\n",
       "      <th></th>\n",
       "      <th>0</th>\n",
       "      <th>1</th>\n",
       "      <th>2</th>\n",
       "      <th>3</th>\n",
       "    </tr>\n",
       "  </thead>\n",
       "  <tbody>\n",
       "    <tr>\n",
       "      <th>0</th>\n",
       "      <td>0.00</td>\n",
       "      <td>0.00000</td>\n",
       "      <td>0.00000</td>\n",
       "      <td>0.00000</td>\n",
       "    </tr>\n",
       "    <tr>\n",
       "      <th>1</th>\n",
       "      <td>0.05</td>\n",
       "      <td>-2.14950</td>\n",
       "      <td>-0.42411</td>\n",
       "      <td>-2.33814</td>\n",
       "    </tr>\n",
       "    <tr>\n",
       "      <th>2</th>\n",
       "      <td>0.10</td>\n",
       "      <td>-2.14493</td>\n",
       "      <td>-0.42415</td>\n",
       "      <td>-2.33303</td>\n",
       "    </tr>\n",
       "    <tr>\n",
       "      <th>3</th>\n",
       "      <td>0.15</td>\n",
       "      <td>-2.13966</td>\n",
       "      <td>-0.42421</td>\n",
       "      <td>-2.32712</td>\n",
       "    </tr>\n",
       "    <tr>\n",
       "      <th>4</th>\n",
       "      <td>0.20</td>\n",
       "      <td>-2.13430</td>\n",
       "      <td>-0.42430</td>\n",
       "      <td>-2.32110</td>\n",
       "    </tr>\n",
       "  </tbody>\n",
       "</table>\n",
       "</div>"
      ],
      "text/plain": [
       "      0        1        2        3\n",
       "0  0.00  0.00000  0.00000  0.00000\n",
       "1  0.05 -2.14950 -0.42411 -2.33814\n",
       "2  0.10 -2.14493 -0.42415 -2.33303\n",
       "3  0.15 -2.13966 -0.42421 -2.32712\n",
       "4  0.20 -2.13430 -0.42430 -2.32110"
      ]
     },
     "execution_count": 21,
     "metadata": {},
     "output_type": "execute_result"
    }
   ],
   "source": [
    "cr.head()"
   ]
  },
  {
   "cell_type": "code",
   "execution_count": 22,
   "metadata": {},
   "outputs": [],
   "source": [
    "cr.set_index(0, inplace=True)"
   ]
  },
  {
   "cell_type": "code",
   "execution_count": 29,
   "metadata": {},
   "outputs": [
    {
     "data": {
      "text/plain": [
       "<AxesSubplot:xlabel='0'>"
      ]
     },
     "execution_count": 29,
     "metadata": {},
     "output_type": "execute_result"
    },
    {
     "data": {
      "image/png": "[encoded data removed]",
      "text/plain": [
       "<Figure size 432x288 with 1 Axes>"
      ]
     },
     "metadata": {
      "needs_background": "light"
     },
     "output_type": "display_data"
    }
   ],
   "source": [
    "cr.plot(xlim=[0, 15])"
   ]
  },
  {
   "cell_type": "code",
   "execution_count": 24,
   "metadata": {},
   "outputs": [],
   "source": [
    "gr = pd.read_csv(GR_PATH, header=None, delim_whitespace=True)"
   ]
  },
  {
   "cell_type": "code",
   "execution_count": 25,
   "metadata": {},
   "outputs": [],
   "source": [
    "gr.set_index(0, inplace=True)"
   ]
  },
  {
   "cell_type": "code",
   "execution_count": 28,
   "metadata": {},
   "outputs": [
    {
     "data": {
      "text/plain": [
       "<AxesSubplot:xlabel='0'>"
      ]
     },
     "execution_count": 28,
     "metadata": {},
     "output_type": "execute_result"
    },
    {
     "data": {
      "image/png": "[encoded data removed]",
      "text/plain": [
       "<Figure size 432x288 with 1 Axes>"
      ]
     },
     "metadata": {
      "needs_background": "light"
     },
     "output_type": "display_data"
    }
   ],
   "source": [
    "from matplotlib.pyplot import xlim\n",
    "\n",
    "\n",
    "gr.plot(xlim=[0, 15])"
   ]
  },
  {
   "cell_type": "code",
   "execution_count": null,
   "metadata": {},
   "outputs": [],
   "source": []
  }
 ],
 "metadata": {
  "kernelspec": {
   "display_name": "Python 3.9.12 ('.venv_phd-thesis': venv)",
   "language": "python",
   "name": "python3"
  },
  "language_info": {
   "codemirror_mode": {
    "name": "ipython",
    "version": 3
   },
   "file_extension": ".py",
   "mimetype": "text/x-python",
   "name": "python",
   "nbconvert_exporter": "python",
   "pygments_lexer": "ipython3",
   "version": "3.9.12"
  },
  "orig_nbformat": 4,
  "vscode": {
   "interpreter": {
    "hash": "efcec08cf809be12f43e7dcea9299edcddae7b0767a012083e6ceef75ec1ca14"
   }
  }
 },
 "nbformat": 4,
 "nbformat_minor": 2
}
