{
 "cells": [
  {
   "cell_type": "code",
   "execution_count": 25,
   "metadata": {},
   "outputs": [],
   "source": [
    "import os, sys\n",
    "\n",
    "sys.path.append(os.path.dirname(os.getcwd())) "
   ]
  },
  {
   "cell_type": "code",
   "execution_count": 28,
   "metadata": {},
   "outputs": [],
   "source": [
    "import pandas as pd\n",
    "import numpy as np\n",
    "from src.helper_functions import read_render_markdown_file"
   ]
  },
  {
   "cell_type": "code",
   "execution_count": 14,
   "metadata": {},
   "outputs": [],
   "source": [
    "from pyOZ_bulk_fluid.pyoz_potential import def_potential"
   ]
  },
  {
   "cell_type": "code",
   "execution_count": 15,
   "metadata": {},
   "outputs": [],
   "source": [
    "ctrl = {'npoints_exp': 12, 'npoints': 4095, 'deltar': 0.05, 'max_r': 204.75, 'deltak': 0.015343553863686413, 'max_k': 62.83185307179586, 'mix_param': 1.0, 'convergence_crit': 1e-09,\n",
    "        'max_dsqn': 100.0, 'max_iter': 500, 'do_nr': True, 'nr_mix_param': 0.0, 'nr_convergence_factor': 0.001, 'nr_max_iter': 10, 'nr_noconv_incr': False, 'do_graphics': False}\n"
   ]
  },
  {
   "cell_type": "code",
   "execution_count": 17,
   "metadata": {},
   "outputs": [],
   "source": [
    "# syst = {'temp': 300.0, 'epsilon_r': 78.3, 'ncomponents': 2, 'closure_name': 'hnc', 'closure': <function closure_hnc at 0x105e8c550>, 'name': ['P', 'M'], 'conc_mol': np.array([0.5, 0.5]), 'dens': {'num': np.array([0.00030111, 0.00030111]), 'totnum': 0.0006022141500000001, 'ij': np.array([[0.00030111, 0.00030111],\n",
    "#       [0.00030111, 0.00030111]]), 'inf_dilution': np.array([[0, 0],\n",
    "#       [0, 0]], dtype=int8), 'xi': np.array([0.5, 0.5])}, 'inf_dilute': False, 'ncomb': 3.0}"
   ]
  },
  {
   "cell_type": "code",
   "execution_count": 18,
   "metadata": {},
   "outputs": [
    {
     "ename": "NameError",
     "evalue": "name 'array' is not defined",
     "output_type": "error",
     "traceback": [
      "\u001b[0;31m---------------------------------------------------------------------------\u001b[0m",
      "\u001b[0;31mNameError\u001b[0m                                 Traceback (most recent call last)",
      "\u001b[1;32m/Users/mjboothaus/code/github/mjboothaus/PhD-Thesis/notebooks/bulk_fluid_explore.ipynb Cell 6\u001b[0m in \u001b[0;36m<cell line: 1>\u001b[0;34m()\u001b[0m\n\u001b[0;32m----> <a href='vscode-notebook-cell:/Users/mjboothaus/code/github/mjboothaus/PhD-Thesis/notebooks/bulk_fluid_explore.ipynb#ch0000020?line=0'>1</a>\u001b[0m parm \u001b[39m=\u001b[39m [{\u001b[39m'\u001b[39m\u001b[39mpot_type\u001b[39m\u001b[39m'\u001b[39m: \u001b[39m'\u001b[39m\u001b[39mhs\u001b[39m\u001b[39m'\u001b[39m, \u001b[39m'\u001b[39m\u001b[39mpot_title\u001b[39m\u001b[39m'\u001b[39m: \u001b[39m'\u001b[39m\u001b[39mhs\u001b[39m\u001b[39m'\u001b[39m, \u001b[39m'\u001b[39m\u001b[39mhs_diameter\u001b[39m\u001b[39m'\u001b[39m: array([\u001b[39m4.\u001b[39m, \u001b[39m6.\u001b[39m]), \u001b[39m'\u001b[39m\u001b[39mhs_ij\u001b[39m\u001b[39m'\u001b[39m: array([[\u001b[39m4.\u001b[39m, \u001b[39m5.\u001b[39m],\n\u001b[1;32m      <a href='vscode-notebook-cell:/Users/mjboothaus/code/github/mjboothaus/PhD-Thesis/notebooks/bulk_fluid_explore.ipynb#ch0000020?line=1'>2</a>\u001b[0m        [\u001b[39m5.\u001b[39m, \u001b[39m6.\u001b[39m]]), \u001b[39m'\u001b[39m\u001b[39mdis_index\u001b[39m\u001b[39m'\u001b[39m: array([[ \u001b[39m79\u001b[39m,  \u001b[39m99\u001b[39m],\n\u001b[1;32m      <a href='vscode-notebook-cell:/Users/mjboothaus/code/github/mjboothaus/PhD-Thesis/notebooks/bulk_fluid_explore.ipynb#ch0000020?line=2'>3</a>\u001b[0m        [ \u001b[39m99\u001b[39m, \u001b[39m119\u001b[39m]], dtype\u001b[39m=\u001b[39mint32)}, {\u001b[39m'\u001b[39m\u001b[39mpot_type\u001b[39m\u001b[39m'\u001b[39m: \u001b[39m'\u001b[39m\u001b[39mcoulomb\u001b[39m\u001b[39m'\u001b[39m, \u001b[39m'\u001b[39m\u001b[39mpot_title\u001b[39m\u001b[39m'\u001b[39m: \u001b[39m'\u001b[39m\u001b[39mcoulomb\u001b[39m\u001b[39m'\u001b[39m, \u001b[39m'\u001b[39m\u001b[39mcharge\u001b[39m\u001b[39m'\u001b[39m: array([ \u001b[39m1.\u001b[39m, \u001b[39m-\u001b[39m\u001b[39m1.\u001b[39m]), \u001b[39m'\u001b[39m\u001b[39mchg_ij\u001b[39m\u001b[39m'\u001b[39m: array([[ \u001b[39m7.11369718\u001b[39m, \u001b[39m-\u001b[39m\u001b[39m7.11369718\u001b[39m],\n\u001b[1;32m      <a href='vscode-notebook-cell:/Users/mjboothaus/code/github/mjboothaus/PhD-Thesis/notebooks/bulk_fluid_explore.ipynb#ch0000020?line=3'>4</a>\u001b[0m        [\u001b[39m-\u001b[39m\u001b[39m7.11369718\u001b[39m,  \u001b[39m7.11369718\u001b[39m]]), \u001b[39m'\u001b[39m\u001b[39merf_alpha\u001b[39m\u001b[39m'\u001b[39m: array([[\u001b[39m0.05800536\u001b[39m, \u001b[39m0.05800536\u001b[39m],\n\u001b[1;32m      <a href='vscode-notebook-cell:/Users/mjboothaus/code/github/mjboothaus/PhD-Thesis/notebooks/bulk_fluid_explore.ipynb#ch0000020?line=4'>5</a>\u001b[0m        [\u001b[39m0.05800536\u001b[39m, \u001b[39m0.05800536\u001b[39m]])}]\n",
      "\u001b[0;31mNameError\u001b[0m: name 'array' is not defined"
     ]
    }
   ],
   "source": [
    "parm = [{'pot_type': 'hs', 'pot_title': 'hs', 'hs_diameter': array([4., 6.]), 'hs_ij': array([[4., 5.],\n",
    "       [5., 6.]]), 'dis_index': array([[ 79,  99],\n",
    "       [ 99, 119]], dtype=int32)}, {'pot_type': 'coulomb', 'pot_title': 'coulomb', 'charge': array([ 1., -1.]), 'chg_ij': array([[ 7.11369718, -7.11369718],\n",
    "       [-7.11369718,  7.11369718]]), 'erf_alpha': array([[0.05800536, 0.05800536],\n",
    "       [0.05800536, 0.05800536]])}]"
   ]
  },
  {
   "cell_type": "code",
   "execution_count": 19,
   "metadata": {},
   "outputs": [],
   "source": [
    "# const = <pyoz_const.const object at 0x1121d5c10>\n",
    "# dft = <pyoz_dft.dft object at 0x1049aed60>"
   ]
  },
  {
   "cell_type": "code",
   "execution_count": 23,
   "metadata": {},
   "outputs": [],
   "source": [
    "# r = [5.0000e-02 1.0000e-01 1.5000e-01 ... 2.0465e+02 2.0470e+02 2.0475e+02]"
   ]
  },
  {
   "cell_type": "code",
   "execution_count": 24,
   "metadata": {},
   "outputs": [],
   "source": [
    "# k = [1.53435539e-02 3.06871077e-02 4.60306616e-02 ... 6.28011660e+01\n",
    "# 6.28165095e+01 6.28318531e+01]"
   ]
  },
  {
   "cell_type": "code",
   "execution_count": 20,
   "metadata": {},
   "outputs": [],
   "source": [
    "# def_potential(ctrl, syst, parm, const, dft, r, k)"
   ]
  },
  {
   "cell_type": "markdown",
   "metadata": {},
   "source": [
    "Example of running (so-far untested) pyOZ code e.g. for charged hard-spheres HNC closure\n",
    "`python pyoz.py -i tests/hs_chg/nrcg.in`"
   ]
  },
  {
   "cell_type": "code",
   "execution_count": null,
   "metadata": {},
   "outputs": [],
   "source": [
    "!cat ../pyOZ_bulk_fluid/pyoz-0.3/tests/hs_chg/nrcg.in"
   ]
  },
  {
   "cell_type": "code",
   "execution_count": null,
   "metadata": {},
   "outputs": [],
   "source": [
    "CR_PATH = \"../pyOZ_bulk_fluid/pyoz-0.3/tests/hs_chg/picard-cr.dat.orig\"\n",
    "GR_PATH = \"../pyOZ_bulk_fluid/pyoz-0.3/pyoz-gr.dat\""
   ]
  },
  {
   "cell_type": "code",
   "execution_count": null,
   "metadata": {},
   "outputs": [],
   "source": [
    "!head $CR_PATH"
   ]
  },
  {
   "cell_type": "code",
   "execution_count": null,
   "metadata": {},
   "outputs": [],
   "source": [
    "cr = pd.read_csv(CR_PATH, header=None, delim_whitespace=True)"
   ]
  },
  {
   "cell_type": "code",
   "execution_count": null,
   "metadata": {},
   "outputs": [],
   "source": [
    "cr.head()"
   ]
  },
  {
   "cell_type": "code",
   "execution_count": null,
   "metadata": {},
   "outputs": [],
   "source": [
    "cr.set_index(0, inplace=True)"
   ]
  },
  {
   "cell_type": "code",
   "execution_count": null,
   "metadata": {},
   "outputs": [],
   "source": [
    "cr.plot(xlim=[0, 15])"
   ]
  },
  {
   "cell_type": "code",
   "execution_count": null,
   "metadata": {},
   "outputs": [],
   "source": [
    "gr = pd.read_csv(GR_PATH, header=None, delim_whitespace=True)"
   ]
  },
  {
   "cell_type": "code",
   "execution_count": null,
   "metadata": {},
   "outputs": [],
   "source": [
    "gr.set_index(0, inplace=True)"
   ]
  },
  {
   "cell_type": "code",
   "execution_count": null,
   "metadata": {},
   "outputs": [],
   "source": [
    "from matplotlib.pyplot import xlim\n",
    "\n",
    "\n",
    "gr.plot(xlim=[0, 15])"
   ]
  },
  {
   "cell_type": "code",
   "execution_count": null,
   "metadata": {},
   "outputs": [],
   "source": []
  }
 ],
 "metadata": {
  "kernelspec": {
   "display_name": "Python 3.9.12 ('.venv_phd-thesis': venv)",
   "language": "python",
   "name": "python3"
  },
  "language_info": {
   "codemirror_mode": {
    "name": "ipython",
    "version": 3
   },
   "file_extension": ".py",
   "mimetype": "text/x-python",
   "name": "python",
   "nbconvert_exporter": "python",
   "pygments_lexer": "ipython3",
   "version": "3.9.12"
  },
  "orig_nbformat": 4,
  "vscode": {
   "interpreter": {
    "hash": "efcec08cf809be12f43e7dcea9299edcddae7b0767a012083e6ceef75ec1ca14"
   }
  }
 },
 "nbformat": 4,
 "nbformat_minor": 2
}
