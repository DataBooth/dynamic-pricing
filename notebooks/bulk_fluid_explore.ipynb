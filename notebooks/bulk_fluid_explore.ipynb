{
 "cells": [
  {
   "cell_type": "code",
   "execution_count": 1,
   "metadata": {},
   "outputs": [],
   "source": [
    "# allow for imports from ../src directory\n",
    "\n",
    "from os import path as os_path\n",
    "from os import getcwd\n",
    "from sys import path as sys_path\n",
    "\n",
    "sys_path.append(os_path.dirname(getcwd()))  "
   ]
  },
  {
   "cell_type": "code",
   "execution_count": 2,
   "metadata": {},
   "outputs": [],
   "source": [
    "import pandas as pd\n",
    "import numpy as np\n",
    "# from src.helper_functions import read_render_markdown_file\n",
    "from scipy.constants import Boltzmann"
   ]
  },
  {
   "cell_type": "code",
   "execution_count": 12,
   "metadata": {},
   "outputs": [
    {
     "name": "stdout",
     "output_type": "stream",
     "text": [
      "[1, 2, 3, 4]\n"
     ]
    }
   ],
   "source": [
    "z = [0, 1, 2, 3, 4, 5]\n",
    "\n",
    "print(z[1:-1])"
   ]
  },
  {
   "cell_type": "code",
   "execution_count": 8,
   "metadata": {},
   "outputs": [],
   "source": [
    "UR_PATH = \"/Users/mjboothaus/code/github/mjboothaus/PhD-Thesis/src/pyoz/nrcg-ur.dat\"\n",
    "ur = pd.read_csv(UR_PATH, header=None, delim_whitespace=True)\n",
    "ur.set_index(0, inplace=True)\n",
    "#ur = ur / (Boltzmann * 1075)"
   ]
  },
  {
   "cell_type": "code",
   "execution_count": 9,
   "metadata": {},
   "outputs": [
    {
     "data": {
      "text/plain": [
       "<AxesSubplot:xlabel='0'>"
      ]
     },
     "execution_count": 9,
     "metadata": {},
     "output_type": "execute_result"
    },
    {
     "data": {
      "image/png": "[encoded data removed]",
      "text/plain": [
       "<Figure size 432x288 with 1 Axes>"
      ]
     },
     "metadata": {
      "needs_background": "light"
     },
     "output_type": "display_data"
    }
   ],
   "source": [
    "\n",
    "ur.plot(xlim=[0, 10])  # , ylim=[-100, 200])"
   ]
  },
  {
   "cell_type": "code",
   "execution_count": 10,
   "metadata": {},
   "outputs": [],
   "source": [
    "CR_PATH = \"/Users/mjboothaus/code/github/mjboothaus/PhD-Thesis/src/pyoz/nrcg-cr.dat\"\n",
    "cr = pd.read_csv(CR_PATH, header=None, delim_whitespace=True)\n",
    "cr.set_index(0, inplace=True)"
   ]
  },
  {
   "cell_type": "code",
   "execution_count": 11,
   "metadata": {},
   "outputs": [
    {
     "data": {
      "text/plain": [
       "<AxesSubplot:xlabel='0'>"
      ]
     },
     "execution_count": 11,
     "metadata": {},
     "output_type": "execute_result"
    },
    {
     "data": {
      "image/png": "[encoded data removed]",
      "text/plain": [
       "<Figure size 432x288 with 1 Axes>"
      ]
     },
     "metadata": {
      "needs_background": "light"
     },
     "output_type": "display_data"
    }
   ],
   "source": [
    "cr.plot(xlim=[0, 10])"
   ]
  },
  {
   "cell_type": "code",
   "execution_count": null,
   "metadata": {},
   "outputs": [],
   "source": [
    "from pyOZ_bulk_fluid.pyoz_potential import def_potential"
   ]
  },
  {
   "cell_type": "code",
   "execution_count": null,
   "metadata": {},
   "outputs": [],
   "source": [
    "ctrl = {'npoints_exp': 12, 'npoints': 4095, 'deltar': 0.05, 'max_r': 204.75, 'deltak': 0.015343553863686413, 'max_k': 62.83185307179586, 'mix_param': 1.0, 'convergence_crit': 1e-09,\n",
    "        'max_dsqn': 100.0, 'max_iter': 500, 'do_nr': True, 'nr_mix_param': 0.0, 'nr_convergence_factor': 0.001, 'nr_max_iter': 10, 'nr_noconv_incr': False, 'do_graphics': False}\n"
   ]
  },
  {
   "cell_type": "code",
   "execution_count": null,
   "metadata": {},
   "outputs": [],
   "source": [
    "# syst = {'temp': 300.0, 'epsilon_r': 78.3, 'ncomponents': 2, 'closure_name': 'hnc', 'closure': <function closure_hnc at 0x105e8c550>, 'name': ['P', 'M'], 'conc_mol': np.array([0.5, 0.5]), 'dens': {'num': np.array([0.00030111, 0.00030111]), 'totnum': 0.0006022141500000001, 'ij': np.array([[0.00030111, 0.00030111],\n",
    "#       [0.00030111, 0.00030111]]), 'inf_dilution': np.array([[0, 0],\n",
    "#       [0, 0]], dtype=int8), 'xi': np.array([0.5, 0.5])}, 'inf_dilute': False, 'ncomb': 3.0}"
   ]
  },
  {
   "cell_type": "code",
   "execution_count": null,
   "metadata": {},
   "outputs": [],
   "source": [
    "parm = [{'pot_type': 'hs', 'pot_title': 'hs', 'hs_diameter': np.array([4., 6.]), 'hs_ij': np.array([[4., 5.],\n",
    "       [5., 6.]]), 'dis_index': np.array([[ 79,  99],\n",
    "       [ 99, 119]], dtype=np.int32)}, {'pot_type': 'coulomb', 'pot_title': 'coulomb', 'charge': np.array([ 1., -1.]), 'chg_ij': np.array([[ 7.11369718, -7.11369718],\n",
    "       [-7.11369718,  7.11369718]]), 'erf_alpha': np.array([[0.05800536, 0.05800536],\n",
    "       [0.05800536, 0.05800536]])}]"
   ]
  },
  {
   "cell_type": "code",
   "execution_count": null,
   "metadata": {},
   "outputs": [],
   "source": [
    "# const = <pyoz_const.const object at 0x1121d5c10>\n",
    "# dft = <pyoz_dft.dft object at 0x1049aed60>"
   ]
  },
  {
   "cell_type": "code",
   "execution_count": null,
   "metadata": {},
   "outputs": [],
   "source": [
    "# k = [1.53435539e-02 3.06871077e-02 4.60306616e-02 ... 6.28011660e+01\n",
    "# 6.28165095e+01 6.28318531e+01]"
   ]
  },
  {
   "cell_type": "code",
   "execution_count": null,
   "metadata": {},
   "outputs": [],
   "source": [
    "# def_potential(ctrl, syst, parm, const, dft, r, k)"
   ]
  },
  {
   "cell_type": "markdown",
   "metadata": {},
   "source": [
    "Example of running (so-far untested) pyOZ code e.g. for charged hard-spheres HNC closure\n",
    "`python pyoz.py -i tests/hs_chg/nrcg.in`"
   ]
  },
  {
   "cell_type": "code",
   "execution_count": null,
   "metadata": {},
   "outputs": [],
   "source": [
    "!cat ../pyOZ_bulk_fluid/pyoz-0.3/tests/hs_chg/nrcg.in"
   ]
  },
  {
   "cell_type": "code",
   "execution_count": null,
   "metadata": {},
   "outputs": [],
   "source": [
    "CR_PATH = \"../pyOZ_bulk_fluid/pyoz-0.3/tests/hs_chg/picard-cr.dat.orig\"\n",
    "GR_PATH = \"../pyOZ_bulk_fluid/pyoz-0.3/pyoz-gr.dat\""
   ]
  },
  {
   "cell_type": "code",
   "execution_count": null,
   "metadata": {},
   "outputs": [],
   "source": [
    "!head $CR_PATH"
   ]
  },
  {
   "cell_type": "code",
   "execution_count": null,
   "metadata": {},
   "outputs": [],
   "source": [
    "cr = pd.read_csv(CR_PATH, header=None, delim_whitespace=True)"
   ]
  },
  {
   "cell_type": "code",
   "execution_count": null,
   "metadata": {},
   "outputs": [],
   "source": [
    "cr.head()"
   ]
  },
  {
   "cell_type": "code",
   "execution_count": null,
   "metadata": {},
   "outputs": [],
   "source": [
    "cr.set_index(0, inplace=True)"
   ]
  },
  {
   "cell_type": "code",
   "execution_count": null,
   "metadata": {},
   "outputs": [],
   "source": [
    "cr.plot(xlim=[0, 15])"
   ]
  },
  {
   "cell_type": "code",
   "execution_count": null,
   "metadata": {},
   "outputs": [],
   "source": [
    "gr = pd.read_csv(GR_PATH, header=None, delim_whitespace=True)"
   ]
  },
  {
   "cell_type": "code",
   "execution_count": null,
   "metadata": {},
   "outputs": [],
   "source": [
    "gr.set_index(0, inplace=True)"
   ]
  },
  {
   "cell_type": "code",
   "execution_count": null,
   "metadata": {},
   "outputs": [],
   "source": [
    "from matplotlib.pyplot import xlim\n",
    "\n",
    "\n",
    "gr.plot(xlim=[0, 15])"
   ]
  },
  {
   "cell_type": "code",
   "execution_count": null,
   "metadata": {},
   "outputs": [],
   "source": []
  }
 ],
 "metadata": {
  "kernelspec": {
   "display_name": "Python 3.9.12 ('.venv_deploy_michael-booth-phd-thesis': venv)",
   "language": "python",
   "name": "python3"
  },
  "language_info": {
   "codemirror_mode": {
    "name": "ipython",
    "version": 3
   },
   "file_extension": ".py",
   "mimetype": "text/x-python",
   "name": "python",
   "nbconvert_exporter": "python",
   "pygments_lexer": "ipython3",
   "version": "3.9.12"
  },
  "orig_nbformat": 4,
  "vscode": {
   "interpreter": {
    "hash": "fe1b112870b14dc7863ad8ae457ad714e729491949d27f4d1d4301534ba888a0"
   }
  }
 },
 "nbformat": 4,
 "nbformat_minor": 2
}
