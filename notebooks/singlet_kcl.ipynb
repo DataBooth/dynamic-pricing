{
 "cells": [
  {
   "cell_type": "code",
   "execution_count": 111,
   "metadata": {},
   "outputs": [],
   "source": [
    "# allow for imports from ../src directory\n",
    "\n",
    "from os import path as os_path\n",
    "from os import getcwd\n",
    "from sys import path as sys_path\n",
    "\n",
    "sys_path.append(os_path.dirname(getcwd())) "
   ]
  },
  {
   "cell_type": "code",
   "execution_count": 112,
   "metadata": {},
   "outputs": [],
   "source": [
    "from dataclasses import dataclass\n",
    "from dacite import from_dict\n",
    "\n",
    "import scipy.optimize as optim\n",
    "import numpy as np\n",
    "import pandas as pd\n",
    "import siunits as unit\n",
    "\n",
    "from scipy import interpolate\n",
    "from scipy.integrate import trapezoid\n",
    "from scipy.constants import epsilon_0, elementary_charge, Boltzmann, Avogadro\n",
    "from src.helper_functions import read_render_markdown_file\n",
    "from src.plotting import make_simple_plot, fast_plot"
   ]
  },
  {
   "cell_type": "markdown",
   "metadata": {},
   "source": [
    "### Physical constants\n",
    "\n",
    "1. the electric constant (vacuum permittivity) $\\epsilon_0$. Units:  $\\textstyle{\\rm s^{4}\\cdot A^{2}\\cdot kg^{-1}\\cdot m^{-3}}$ or $\\textstyle{\\rm C^2 \\cdot N^{−1} \\cdot m^{−2}}$ or $\\textstyle{\\rm C \\cdot V^{−1} \\cdot m^{−1}}$ "
   ]
  },
  {
   "cell_type": "code",
   "execution_count": 113,
   "metadata": {},
   "outputs": [
    {
     "data": {
      "text/plain": [
       "ampere²·second⁴·meter⁻³·kilogram⁻¹ (A²·s⁴·m⁻³·kg⁻¹), [kg: -1, s: 4, A: 2, m: -3]"
      ]
     },
     "execution_count": 113,
     "metadata": {},
     "output_type": "execute_result"
    }
   ],
   "source": [
    "unit.epsilon_0"
   ]
  },
  {
   "cell_type": "code",
   "execution_count": 114,
   "metadata": {},
   "outputs": [
    {
     "data": {
      "text/plain": [
       "8.8541878128e-12"
      ]
     },
     "execution_count": 114,
     "metadata": {},
     "output_type": "execute_result"
    }
   ],
   "source": [
    "epsilon_0"
   ]
  },
  {
   "cell_type": "markdown",
   "metadata": {},
   "source": [
    "2. Elementary charge (charge on electron). Units: $\\rm C$"
   ]
  },
  {
   "cell_type": "code",
   "execution_count": 115,
   "metadata": {},
   "outputs": [
    {
     "data": {
      "text/plain": [
       "coulomb (C), [s: 1, A: 1]"
      ]
     },
     "execution_count": 115,
     "metadata": {},
     "output_type": "execute_result"
    }
   ],
   "source": [
    "unit.c"
   ]
  },
  {
   "cell_type": "code",
   "execution_count": 116,
   "metadata": {},
   "outputs": [
    {
     "data": {
      "text/plain": [
       "1.602176634e-19"
      ]
     },
     "execution_count": 116,
     "metadata": {},
     "output_type": "execute_result"
    }
   ],
   "source": [
    "elementary_charge"
   ]
  },
  {
   "cell_type": "markdown",
   "metadata": {},
   "source": [
    "3. Boltzmann constant. Units: $\\rm m^2 \\cdot kg \\cdot s^{-2} \\cdot {K}^{-1}$"
   ]
  },
  {
   "cell_type": "code",
   "execution_count": 117,
   "metadata": {},
   "outputs": [
    {
     "data": {
      "text/plain": [
       "1.380649e-23"
      ]
     },
     "execution_count": 117,
     "metadata": {},
     "output_type": "execute_result"
    }
   ],
   "source": [
    "Boltzmann"
   ]
  },
  {
   "cell_type": "markdown",
   "metadata": {},
   "source": [
    "4. Avogadro's number. Units: $\\rm mol^{-1}$"
   ]
  },
  {
   "cell_type": "code",
   "execution_count": 8,
   "metadata": {},
   "outputs": [
    {
     "data": {
      "text/plain": [
       "6.02214076e+23"
      ]
     },
     "execution_count": 8,
     "metadata": {},
     "output_type": "execute_result"
    }
   ],
   "source": [
    "Avogadro"
   ]
  },
  {
   "cell_type": "markdown",
   "metadata": {},
   "source": [
    "### Singlet model parameters\n",
    "\n",
    "See Page 62"
   ]
  },
  {
   "cell_type": "markdown",
   "metadata": {},
   "source": [
    "Dictionary of model parameters"
   ]
  },
  {
   "cell_type": "code",
   "execution_count": 9,
   "metadata": {},
   "outputs": [],
   "source": [
    "fluid = \"kcl\""
   ]
  },
  {
   "cell_type": "code",
   "execution_count": 10,
   "metadata": {},
   "outputs": [],
   "source": [
    "parameters = dict({\"kcl\": dict({\"component\": [\"K\", \"Cl\"], \"valence\": np.array([\n",
    "                  1.0, -1.0]), \"temperature\": 1075.0, \"concentration\": np.array([19.265, 19.265]),\n",
    "                  \"epsilon_r\": 1.0})})\n",
    "\n",
    "        #parameters = dict({\"name\": \"H_2O\", \"component\": [\"H\", \"O\"], \"valence\": np.array([\n",
    "        #                1.0, -1.0]), \"temperature\": 298.0, \"concentration\": np.array([1.0, 1.0]),\n",
    "        #    \"epsilon_r\": 1.0})\n"
   ]
  },
  {
   "cell_type": "code",
   "execution_count": 11,
   "metadata": {},
   "outputs": [],
   "source": [
    "@dataclass\n",
    "class Fluid:\n",
    "    name: str\n",
    "    component: list[str]\n",
    "    valence: np.ndarray\n",
    "    temperature: float\n",
    "    concentration: np.ndarray\n",
    "    epsilon_r: float\n",
    "    n_component: int\n",
    "    n_pair: int"
   ]
  },
  {
   "cell_type": "code",
   "execution_count": 12,
   "metadata": {},
   "outputs": [],
   "source": [
    "def set_fluid_parameters(name):\n",
    "    name = name.lower()\n",
    "    model_params = parameters[name]\n",
    "    model_params[\"name\"] = name\n",
    "    n_component = model_params[\"n_component\"] = len(model_params[\"component\"])\n",
    "    model_params[\"n_pair\"] = int((n_component+1) * (n_component) / 2)\n",
    "    return from_dict(data_class=Fluid, data=model_params)"
   ]
  },
  {
   "cell_type": "code",
   "execution_count": 13,
   "metadata": {},
   "outputs": [],
   "source": [
    "fluid = set_fluid_parameters(\"kcl\")"
   ]
  },
  {
   "cell_type": "code",
   "execution_count": 14,
   "metadata": {},
   "outputs": [
    {
     "data": {
      "text/plain": [
       "Fluid(name='kcl', component=['K', 'Cl'], valence=array([ 1., -1.]), temperature=1075.0, concentration=array([19.265, 19.265]), epsilon_r=1.0, n_component=2, n_pair=3)"
      ]
     },
     "execution_count": 14,
     "metadata": {},
     "output_type": "execute_result"
    }
   ],
   "source": [
    "fluid"
   ]
  },
  {
   "cell_type": "markdown",
   "metadata": {},
   "source": [
    "Numerical discretisation"
   ]
  },
  {
   "cell_type": "code",
   "execution_count": 15,
   "metadata": {},
   "outputs": [],
   "source": [
    "z_cutoff = 50.0    # from UI\n",
    "n_point = 2001     # from UI\n",
    "grid_size = z_cutoff / (n_point - 1) \n",
    "z = np.linspace(0.0, z_cutoff, n_point)\n",
    "z_indices = np.arange(0, n_point, dtype=int)"
   ]
  },
  {
   "cell_type": "markdown",
   "metadata": {},
   "source": [
    "$\\beta = 1 / k T$. Units: $\\rm m^{-2} \\cdot kg^{-1} \\cdot s^{2}$"
   ]
  },
  {
   "cell_type": "code",
   "execution_count": 104,
   "metadata": {},
   "outputs": [],
   "source": [
    "beta = 1.0 / (Boltzmann * fluid.temperature)"
   ]
  },
  {
   "cell_type": "code",
   "execution_count": 106,
   "metadata": {},
   "outputs": [
    {
     "data": {
      "text/plain": [
       "6.737646991665042e+19"
      ]
     },
     "execution_count": 106,
     "metadata": {},
     "output_type": "execute_result"
    }
   ],
   "source": [
    "beta"
   ]
  },
  {
   "cell_type": "code",
   "execution_count": null,
   "metadata": {},
   "outputs": [],
   "source": []
  },
  {
   "cell_type": "code",
   "execution_count": 107,
   "metadata": {},
   "outputs": [],
   "source": [
    "epsilon = 4.0 * np.pi * fluid.epsilon_r * epsilon_0  # units same as $\\epsilon_0$ (allow for distances in angstrom)"
   ]
  },
  {
   "cell_type": "code",
   "execution_count": 108,
   "metadata": {},
   "outputs": [
    {
     "data": {
      "text/plain": [
       "1.1126500554478704e-10"
      ]
     },
     "execution_count": 108,
     "metadata": {},
     "output_type": "execute_result"
    }
   ],
   "source": [
    "epsilon"
   ]
  },
  {
   "cell_type": "code",
   "execution_count": 129,
   "metadata": {},
   "outputs": [],
   "source": [
    "dist = 10 / 1e10"
   ]
  },
  {
   "cell_type": "code",
   "execution_count": 130,
   "metadata": {},
   "outputs": [],
   "source": [
    "denominator = (epsilon * dist)"
   ]
  },
  {
   "cell_type": "code",
   "execution_count": 132,
   "metadata": {},
   "outputs": [
    {
     "data": {
      "text/plain": [
       "1.1126500554478705e-19"
      ]
     },
     "execution_count": 132,
     "metadata": {},
     "output_type": "execute_result"
    }
   ],
   "source": [
    "denominator"
   ]
  },
  {
   "cell_type": "code",
   "execution_count": 133,
   "metadata": {},
   "outputs": [
    {
     "data": {
      "text/plain": [
       "15.544274130073246"
      ]
     },
     "execution_count": 133,
     "metadata": {},
     "output_type": "execute_result"
    }
   ],
   "source": [
    "beta * elementary_charge * elementary_charge / denominator"
   ]
  },
  {
   "cell_type": "code",
   "execution_count": 19,
   "metadata": {},
   "outputs": [],
   "source": [
    "valence = fluid.valence\n",
    "concentration = fluid.concentration\n",
    "n_pair = fluid.n_pair\n",
    "n_component = fluid.n_component"
   ]
  },
  {
   "cell_type": "markdown",
   "metadata": {},
   "source": [
    "Model potential KCl"
   ]
  },
  {
   "cell_type": "code",
   "execution_count": 20,
   "metadata": {},
   "outputs": [
    {
     "data": {
      "text/markdown": [
       "$$ u_{ij}(r) = \\frac{q_i q_j}{\\varepsilon r} + B_{ij} \\exp(-\\alpha r) + \\frac{C_ij}{r^6} + \\frac{D_{ij}}{r^8} $$"
      ],
      "text/plain": [
       "<IPython.core.display.Markdown object>"
      ]
     },
     "metadata": {},
     "output_type": "display_data"
    },
    {
     "data": {
      "text/markdown": [
       "$$ B_{ij} = \\beta_{ij} \\, b \\exp[\\alpha(\\sigma_i + \\sigma_j)] $$"
      ],
      "text/plain": [
       "<IPython.core.display.Markdown object>"
      ]
     },
     "metadata": {},
     "output_type": "display_data"
    },
    {
     "data": {
      "text/markdown": [
       "$$ \\beta_{ij} = 1 + \\frac{Z_i}{n_i} + \\frac{Z_j}{n_j} $$"
      ],
      "text/plain": [
       "<IPython.core.display.Markdown object>"
      ]
     },
     "metadata": {},
     "output_type": "display_data"
    }
   ],
   "source": [
    "read_render_markdown_file(\"../docs/equation_4_1.md\")\n",
    "read_render_markdown_file(\"../docs/equation_4_2.md\")\n",
    "read_render_markdown_file(\"../docs/equation_4_3.md\")"
   ]
  },
  {
   "cell_type": "code",
   "execution_count": 21,
   "metadata": {},
   "outputs": [],
   "source": [
    "n_outer_shell = np.array([8., 8.])"
   ]
  },
  {
   "cell_type": "code",
   "execution_count": 22,
   "metadata": {},
   "outputs": [],
   "source": [
    "def calc_l_index(i, j):\n",
    "    return i + j    "
   ]
  },
  {
   "cell_type": "code",
   "execution_count": 23,
   "metadata": {},
   "outputs": [],
   "source": [
    "def calc_beta_pauling(valence, n_outer_shell):\n",
    "    beta_pauling = np.zeros(n_pair)\n",
    "    for i in range(n_component):\n",
    "        for j in range(i, n_component):\n",
    "            l = calc_l_index(i, j)\n",
    "            beta_pauling[l] = 1.0 + valence[i] / n_outer_shell[i] + valence[j] / n_outer_shell[j]\n",
    "    return beta_pauling"
   ]
  },
  {
   "cell_type": "code",
   "execution_count": 24,
   "metadata": {},
   "outputs": [],
   "source": [
    "beta_pauling = calc_beta_pauling(fluid.valence, n_outer_shell)"
   ]
  },
  {
   "cell_type": "code",
   "execution_count": 25,
   "metadata": {},
   "outputs": [
    {
     "data": {
      "text/plain": [
       "array([1.25, 1.  , 0.75])"
      ]
     },
     "execution_count": 25,
     "metadata": {},
     "output_type": "execute_result"
    }
   ],
   "source": [
    "beta_pauling"
   ]
  },
  {
   "cell_type": "code",
   "execution_count": 26,
   "metadata": {},
   "outputs": [],
   "source": [
    "alpha = 1.0 / 0.337\n",
    "b = 0.338e-19\n",
    "sigma = [1.463, 1.585]\n",
    "\n",
    "cap_c = np.array([24.3, 48.0, 124.5]) * 1e-19\n",
    "cap_d = np.array([24.0, 73.0, 250.0]) * 1e-19"
   ]
  },
  {
   "cell_type": "code",
   "execution_count": 166,
   "metadata": {},
   "outputs": [],
   "source": [
    "def calc_cap_b(beta_pauling, b, alpha, sigma):\n",
    "    cap_b = np.zeros(n_pair)\n",
    "    for i in range(n_component):\n",
    "        for j in range(i, n_component):\n",
    "            l = calc_l_index(i, j)\n",
    "            cap_b[l] = beta_pauling[l] * b * np.exp(alpha * (sigma[i] + sigma[j]))\n",
    "    return cap_b"
   ]
  },
  {
   "cell_type": "code",
   "execution_count": 167,
   "metadata": {},
   "outputs": [],
   "source": [
    "cap_b = calc_cap_b(beta_pauling, b, alpha, sigma)"
   ]
  },
  {
   "cell_type": "code",
   "execution_count": 169,
   "metadata": {},
   "outputs": [
    {
     "data": {
      "text/plain": [
       "array([16791.65813278, 19293.2728126 , 20782.10350479])"
      ]
     },
     "execution_count": 169,
     "metadata": {},
     "output_type": "execute_result"
    }
   ],
   "source": [
    "beta * cap_b"
   ]
  },
  {
   "cell_type": "code",
   "execution_count": 30,
   "metadata": {},
   "outputs": [],
   "source": [
    "#TODO: Fix up choice of c(r) / c*(r) and make sure discretisation matches\n",
    "# Read in some c(r) -- currently LJ charged spheres\n",
    "\n",
    "def load_cr():\n",
    "    CR_PATH = \"../pyOZ_bulk_fluid/tests/lj/nrcg-cr.dat.orig\"\n",
    "    cr_df = pd.read_csv(CR_PATH, header=None, delim_whitespace=True)\n",
    "    cr_df.set_index(0, inplace=True)\n",
    "    r = cr_df.index.to_numpy()\n",
    "    cr = cr_df.to_numpy()\n",
    "    return cr, r"
   ]
  },
  {
   "cell_type": "code",
   "execution_count": 31,
   "metadata": {},
   "outputs": [],
   "source": [
    "cr_in, r_in = load_cr()"
   ]
  },
  {
   "cell_type": "code",
   "execution_count": 32,
   "metadata": {},
   "outputs": [
    {
     "data": {
      "image/png": "[encoded data removed]",
      "text/plain": [
       "<Figure size 432x288 with 1 Axes>"
      ]
     },
     "metadata": {
      "needs_background": "light"
     },
     "output_type": "display_data"
    },
    {
     "data": {
      "text/plain": [
       "'cr'"
      ]
     },
     "execution_count": 32,
     "metadata": {},
     "output_type": "execute_result"
    }
   ],
   "source": [
    "make_simple_plot(r_in, cr_in, \"r\", \"cr\", \"cr\", yliml=[-2, 2])"
   ]
  },
  {
   "cell_type": "code",
   "execution_count": 33,
   "metadata": {},
   "outputs": [],
   "source": [
    "\n",
    "def interpolate_cr(r_in, cr_in):\n",
    "    cr = np.zeros((n_point, n_pair))\n",
    "    for l in range(n_pair):\n",
    "        f = interpolate.interp1d(r_in, cr_in[:, l])\n",
    "        r = z\n",
    "        cr[:, l] = f(r)\n",
    "    return cr, r"
   ]
  },
  {
   "cell_type": "code",
   "execution_count": 34,
   "metadata": {},
   "outputs": [],
   "source": [
    "cr, r = interpolate_cr(r_in, cr_in)"
   ]
  },
  {
   "cell_type": "code",
   "execution_count": 35,
   "metadata": {},
   "outputs": [
    {
     "data": {
      "image/png": "[encoded data removed]",
      "text/plain": [
       "<Figure size 432x288 with 1 Axes>"
      ]
     },
     "metadata": {
      "needs_background": "light"
     },
     "output_type": "display_data"
    },
    {
     "data": {
      "text/plain": [
       "'cr'"
      ]
     },
     "execution_count": 35,
     "metadata": {},
     "output_type": "execute_result"
    }
   ],
   "source": [
    "make_simple_plot(r, cr, \"r\", \"cr\", \"cr\", yliml=[-2, 2])"
   ]
  },
  {
   "cell_type": "code",
   "execution_count": 36,
   "metadata": {},
   "outputs": [],
   "source": [
    "def calc_charge(valence):\n",
    "    return valence * elementary_charge"
   ]
  },
  {
   "cell_type": "code",
   "execution_count": 37,
   "metadata": {},
   "outputs": [],
   "source": [
    "charge = calc_charge(valence)"
   ]
  },
  {
   "cell_type": "code",
   "execution_count": 141,
   "metadata": {},
   "outputs": [],
   "source": [
    "r_m = r * 1e-10  # convert distance from Angstrom to m"
   ]
  },
  {
   "cell_type": "code",
   "execution_count": 170,
   "metadata": {},
   "outputs": [],
   "source": [
    "# Use same discretisation for r as z [Confirm?]\n",
    "\n",
    "def calc_u(valence, cap_b, alpha, cap_c, cap_d, r):\n",
    "    u = np.zeros((n_point, n_pair))\n",
    "    for i in range(n_component):\n",
    "        for j in range(i, n_component):\n",
    "            l = calc_l_index(i, j)\n",
    "            u[1:, l] = (charge[i] * charge[j]) / (r_m[1:] * epsilon) + cap_c[l] / \\\n",
    "                r[1:]**6 + cap_d[l]/r[1:]**8 + \\\n",
    "                cap_b[l] * np.exp(-alpha * r[1:])\n",
    "    return u\n"
   ]
  },
  {
   "cell_type": "code",
   "execution_count": 171,
   "metadata": {},
   "outputs": [],
   "source": [
    "#TODO: Sort out units for this - doesn't make sense currently\n",
    "\n",
    "u = calc_u(charge, cap_b, alpha, cap_c, cap_d, r)"
   ]
  },
  {
   "cell_type": "code",
   "execution_count": 172,
   "metadata": {},
   "outputs": [
    {
     "data": {
      "text/plain": [
       "array([[ 0.00000000e+00,  0.00000000e+00,  0.00000000e+00],\n",
       "       [ 1.06041086e+15,  3.22470124e+15,  1.10423967e+16],\n",
       "       [ 4.15008872e+12,  1.26120128e+13,  4.31746263e+13],\n",
       "       ...,\n",
       "       [ 3.11196680e+00, -3.11196677e+00,  3.11196685e+00],\n",
       "       [ 3.11041004e+00, -3.11041001e+00,  3.11041008e+00],\n",
       "       [ 3.10885484e+00, -3.10885481e+00,  3.10885488e+00]])"
      ]
     },
     "execution_count": 172,
     "metadata": {},
     "output_type": "execute_result"
    }
   ],
   "source": [
    "beta * u"
   ]
  },
  {
   "cell_type": "code",
   "execution_count": 173,
   "metadata": {},
   "outputs": [
    {
     "data": {
      "image/png": "[encoded data removed]",
      "text/plain": [
       "<Figure size 432x288 with 1 Axes>"
      ]
     },
     "metadata": {
      "needs_background": "light"
     },
     "output_type": "display_data"
    },
    {
     "data": {
      "text/plain": [
       "'Dimensionless ion-ion potential'"
      ]
     },
     "execution_count": 173,
     "metadata": {},
     "output_type": "execute_result"
    }
   ],
   "source": [
    "make_simple_plot(r, beta * u, \"r\", \"u\", \"Dimensionless ion-ion potential\", xliml=[0, 10], yliml=[-100, 200])"
   ]
  },
  {
   "cell_type": "code",
   "execution_count": 43,
   "metadata": {},
   "outputs": [],
   "source": [
    "psi_0 = 100     # 100 mV  -- get from UI"
   ]
  },
  {
   "cell_type": "markdown",
   "metadata": {},
   "source": [
    "rho ($\\rho$) is the number density which we calculate from the concentration ($c$):\n",
    "\n",
    "$\\rho = c \\, \\rm mol \\, dm^{-3} \\cdot dm^{3} / 1.0 \\cdot 10^{27} \\cdot A^{3} \\cdot N_{A} \\, mol^{-1}$. Units: $\\rm A^{-3}$\n"
   ]
  },
  {
   "cell_type": "code",
   "execution_count": 44,
   "metadata": {},
   "outputs": [],
   "source": [
    "def calc_rho(concentration):\n",
    "    return np.array(concentration) / 1.0e27 * Avogadro"
   ]
  },
  {
   "cell_type": "code",
   "execution_count": 45,
   "metadata": {},
   "outputs": [],
   "source": [
    "rho = calc_rho(concentration)"
   ]
  },
  {
   "cell_type": "code",
   "execution_count": 46,
   "metadata": {},
   "outputs": [
    {
     "data": {
      "text/plain": [
       "array([0.01160165, 0.01160165])"
      ]
     },
     "execution_count": 46,
     "metadata": {},
     "output_type": "execute_result"
    }
   ],
   "source": [
    "rho   # values seem reasonable (compared with those in thesis)"
   ]
  },
  {
   "cell_type": "code",
   "execution_count": 47,
   "metadata": {},
   "outputs": [],
   "source": [
    "charge = calc_charge(valence)"
   ]
  },
  {
   "cell_type": "code",
   "execution_count": 48,
   "metadata": {},
   "outputs": [],
   "source": [
    "def calc_kappa(beta, rho, epsilon):\n",
    "    return np.sqrt(4.0 * np.pi * beta / epsilon * 1e10 *\n",
    "    sum(np.multiply(charge**2, rho)))\n"
   ]
  },
  {
   "cell_type": "code",
   "execution_count": 49,
   "metadata": {},
   "outputs": [],
   "source": [
    "kappa = calc_kappa(beta, rho, epsilon)"
   ]
  },
  {
   "cell_type": "code",
   "execution_count": 50,
   "metadata": {},
   "outputs": [
    {
     "data": {
      "text/plain": [
       "6.732325586635704"
      ]
     },
     "execution_count": 50,
     "metadata": {},
     "output_type": "execute_result"
    }
   ],
   "source": [
    "kappa      # similar to thesis value (6.77) page 62 - maybe revisions to physical constants in past 25 years (e.g. 2019 change for $e$)"
   ]
  },
  {
   "cell_type": "markdown",
   "metadata": {},
   "source": [
    "### Wall-ion soft-potential"
   ]
  },
  {
   "cell_type": "code",
   "execution_count": 51,
   "metadata": {},
   "outputs": [],
   "source": [
    "phiw = np.zeros((n_point, n_component))\n",
    "hw = np.zeros((n_point, n_component))\n",
    "tw = np.zeros((n_point, n_component))\n",
    "# int_0_z = np.zeros((n_point, n_component))\n",
    "# int_z_inf = np.zeros((n_point, n_component))"
   ]
  },
  {
   "cell_type": "code",
   "execution_count": 52,
   "metadata": {},
   "outputs": [],
   "source": [
    "# same for both ions\n",
    "\n",
    "def calc_phiw(z, n_component):\n",
    "    capital_a = 16.274e-19 # joules\n",
    "    wall_d = 2.97  # inverse Angstrom\n",
    "    for i in range(n_component):\n",
    "        phiw[:, i] = np.exp(-wall_d * z) * capital_a * (wall_d * z + 2)\n",
    "    return phiw\n"
   ]
  },
  {
   "cell_type": "code",
   "execution_count": 53,
   "metadata": {},
   "outputs": [],
   "source": [
    "beta_phiw = beta * calc_phiw(z, n_component)"
   ]
  },
  {
   "cell_type": "code",
   "execution_count": 54,
   "metadata": {},
   "outputs": [
    {
     "data": {
      "image/png": "[encoded data removed]",
      "text/plain": [
       "<Figure size 432x288 with 1 Axes>"
      ]
     },
     "metadata": {
      "needs_background": "light"
     },
     "output_type": "display_data"
    },
    {
     "data": {
      "text/plain": [
       "'Dimensionless wall-ion potentials'"
      ]
     },
     "execution_count": 54,
     "metadata": {},
     "output_type": "execute_result"
    }
   ],
   "source": [
    "make_simple_plot(z, beta_phiw, \"z\", \"$beta phi_{wi}(z)$\", \"Dimensionless wall-ion potentials\")"
   ]
  },
  {
   "cell_type": "markdown",
   "metadata": {},
   "source": [
    "This dimensionless plot matches well with Figure 4.1(b) of thesis."
   ]
  },
  {
   "cell_type": "markdown",
   "metadata": {},
   "source": [
    "### Bulk fluid inputs\n",
    "\n",
    "Not sure what to do here -- maybe run pyOZ for ionic fluid and try using c_{ij}(r) from this as an approximation?"
   ]
  },
  {
   "cell_type": "code",
   "execution_count": 55,
   "metadata": {},
   "outputs": [
    {
     "data": {
      "text/markdown": [
       "$$ f_{ij}^{(n)}(z) = \\int_z^{\\infty} dr r^n c_{ij}^{*} $$"
      ],
      "text/plain": [
       "<IPython.core.display.Markdown object>"
      ]
     },
     "metadata": {},
     "output_type": "display_data"
    }
   ],
   "source": [
    "read_render_markdown_file(\"../docs/equation_3_4.md\")"
   ]
  },
  {
   "cell_type": "code",
   "execution_count": 56,
   "metadata": {},
   "outputs": [],
   "source": [
    "# Assume all of the moments of the short-ranged bulk direct correlation functions to be zero initially\n",
    "\n",
    "f1 = np.zeros((n_point, n_pair))\n",
    "f2 = np.zeros((n_point, n_pair))\n",
    "c_short = np.zeros((n_point, n_pair))"
   ]
  },
  {
   "cell_type": "code",
   "execution_count": 57,
   "metadata": {},
   "outputs": [],
   "source": [
    "# for now assume c*(r) = c(r)\n",
    "\n",
    "c_short = cr"
   ]
  },
  {
   "cell_type": "code",
   "execution_count": 58,
   "metadata": {},
   "outputs": [],
   "source": [
    "charge_pair = np.array([1, -1, 1]) * elementary_charge"
   ]
  },
  {
   "cell_type": "code",
   "execution_count": 59,
   "metadata": {},
   "outputs": [
    {
     "data": {
      "text/markdown": [
       "$$ c_{ij}^*(r) = c_{ij}(r) + \\beta q_i q_j / (\\varepsilon r) $$"
      ],
      "text/plain": [
       "<IPython.core.display.Markdown object>"
      ]
     },
     "metadata": {},
     "output_type": "display_data"
    }
   ],
   "source": [
    "read_render_markdown_file(\"../docs/equation_3_5.md\")"
   ]
  },
  {
   "cell_type": "code",
   "execution_count": 60,
   "metadata": {},
   "outputs": [
    {
     "data": {
      "text/plain": [
       "97019728038.75784"
      ]
     },
     "execution_count": 60,
     "metadata": {},
     "output_type": "execute_result"
    }
   ],
   "source": [
    "#TODO: Too big?\n",
    "\n",
    "beta * charge_pair[0] / epsilon"
   ]
  },
  {
   "cell_type": "code",
   "execution_count": 61,
   "metadata": {},
   "outputs": [
    {
     "data": {
      "text/plain": [
       "array([[ 0.     ,  0.     ,  0.     ],\n",
       "       [-0.57316, -0.58233, -0.63448],\n",
       "       [-1.14632, -1.16466, -1.26896],\n",
       "       ...,\n",
       "       [ 0.     ,  0.     ,  0.     ],\n",
       "       [ 0.     ,  0.     ,  0.     ],\n",
       "       [ 0.     ,  0.     ,  0.     ]])"
      ]
     },
     "execution_count": 61,
     "metadata": {},
     "output_type": "execute_result"
    }
   ],
   "source": [
    "c_short"
   ]
  },
  {
   "cell_type": "code",
   "execution_count": 62,
   "metadata": {},
   "outputs": [],
   "source": [
    "# skip r = 0 to avoid divide by 0 error\n",
    "\n",
    "#for l in range(n_pair):\n",
    "#    c_short[1:, l] = c_short[1:, l]  + beta * charge_pair[l] * 1e-10 / (epsilon * r[1:])\n",
    "    "
   ]
  },
  {
   "cell_type": "code",
   "execution_count": 63,
   "metadata": {},
   "outputs": [
    {
     "data": {
      "text/plain": [
       "array([[ 0.     ,  0.     ,  0.     ],\n",
       "       [-0.57316, -0.58233, -0.63448],\n",
       "       [-1.14632, -1.16466, -1.26896],\n",
       "       ...,\n",
       "       [ 0.     ,  0.     ,  0.     ],\n",
       "       [ 0.     ,  0.     ,  0.     ],\n",
       "       [ 0.     ,  0.     ,  0.     ]])"
      ]
     },
     "execution_count": 63,
     "metadata": {},
     "output_type": "execute_result"
    }
   ],
   "source": [
    "c_short"
   ]
  },
  {
   "cell_type": "code",
   "execution_count": 64,
   "metadata": {},
   "outputs": [
    {
     "data": {
      "image/png": "[encoded data removed]",
      "text/plain": [
       "<Figure size 432x288 with 1 Axes>"
      ]
     },
     "metadata": {
      "needs_background": "light"
     },
     "output_type": "display_data"
    },
    {
     "data": {
      "text/plain": [
       "'SR direct correlation ion-ion functions'"
      ]
     },
     "execution_count": 64,
     "metadata": {},
     "output_type": "execute_result"
    }
   ],
   "source": [
    "make_simple_plot(r, c_short, \"r\", \"$c_{ij}^*$\", \"SR direct correlation ion-ion functions\", xliml=[0, 20], yliml=[-2, 2])"
   ]
  },
  {
   "cell_type": "code",
   "execution_count": 65,
   "metadata": {},
   "outputs": [],
   "source": [
    "def int_z_infty_dr_r_c_short(c_short, z):\n",
    "    for ij in range(n_pair):\n",
    "        for k, _ in enumerate(z):\n",
    "            f1[k, ij] = trapezoid(y=z[:k] * c_short[k, ij], x=z[:k])\n",
    "    return f1"
   ]
  },
  {
   "cell_type": "code",
   "execution_count": 66,
   "metadata": {},
   "outputs": [],
   "source": [
    "def int_z_infty_dr_r2_c_short(c_short, z):\n",
    "    for ij in range(n_pair):\n",
    "        for k, _ in enumerate(z):\n",
    "            f2[k, ij] = trapezoid(y=z[:k] * z[:k] * c_short[k, ij], x=z[:k])\n",
    "    return f2"
   ]
  },
  {
   "cell_type": "code",
   "execution_count": 67,
   "metadata": {},
   "outputs": [],
   "source": [
    "f1 = int_z_infty_dr_r_c_short(c_short, z)"
   ]
  },
  {
   "cell_type": "code",
   "execution_count": 68,
   "metadata": {},
   "outputs": [
    {
     "data": {
      "image/png": "[encoded data removed]",
      "text/plain": [
       "<Figure size 432x288 with 1 Axes>"
      ]
     },
     "metadata": {
      "needs_background": "light"
     },
     "output_type": "display_data"
    },
    {
     "data": {
      "text/plain": [
       "'Moment 1 of c^*(r)'"
      ]
     },
     "execution_count": 68,
     "metadata": {},
     "output_type": "execute_result"
    }
   ],
   "source": [
    "make_simple_plot(z, f1, \"z\", \"$f_{ij}(z)$\", \"Moment 1 of c^*(r)\", yliml=[-15, 5])"
   ]
  },
  {
   "cell_type": "code",
   "execution_count": 69,
   "metadata": {},
   "outputs": [],
   "source": [
    "f2 = int_z_infty_dr_r2_c_short(c_short, z)"
   ]
  },
  {
   "cell_type": "code",
   "execution_count": 70,
   "metadata": {},
   "outputs": [
    {
     "data": {
      "image/png": "[encoded data removed]",
      "text/plain": [
       "<Figure size 432x288 with 1 Axes>"
      ]
     },
     "metadata": {
      "needs_background": "light"
     },
     "output_type": "display_data"
    },
    {
     "data": {
      "text/plain": [
       "'Moment 2 of c^*(r)'"
      ]
     },
     "execution_count": 70,
     "metadata": {},
     "output_type": "execute_result"
    }
   ],
   "source": [
    "make_simple_plot(z, f2, \"z\", \"$f2_{ij}(z)$\", \"Moment 2 of c^*(r)\", yliml=[-40, 5])"
   ]
  },
  {
   "cell_type": "markdown",
   "metadata": {},
   "source": [
    "Initial guess for solution $t_{wi}(z)$ - solving $F(t(z)) = 0$"
   ]
  },
  {
   "cell_type": "code",
   "execution_count": 71,
   "metadata": {},
   "outputs": [],
   "source": [
    "tw_initial = np.zeros((n_point, n_component))    # initial guess of zero - maybe should be \\beta \\phi\n",
    "\n",
    "# tw = beta_phiw_i"
   ]
  },
  {
   "cell_type": "code",
   "execution_count": 72,
   "metadata": {},
   "outputs": [
    {
     "data": {
      "image/png": "[encoded data removed]",
      "text/plain": [
       "<Figure size 432x288 with 1 Axes>"
      ]
     },
     "metadata": {
      "needs_background": "light"
     },
     "output_type": "display_data"
    },
    {
     "data": {
      "text/plain": [
       "'Initial guess for $t_{wi}(z)$'"
      ]
     },
     "execution_count": 72,
     "metadata": {},
     "output_type": "execute_result"
    }
   ],
   "source": [
    "make_simple_plot(z, tw_initial, \"z\", \"$t_{wi}(z)$\", \"Initial guess for $t_{wi}(z)$\")"
   ]
  },
  {
   "cell_type": "code",
   "execution_count": 73,
   "metadata": {},
   "outputs": [],
   "source": [
    "def calc_hw(tw, beta_phiw):\n",
    "    for i in range(n_component):\n",
    "        hw[:, i] = np.exp(tw[:, i] - beta_phiw[:, i]) - 1.0\n",
    "    return hw\n"
   ]
  },
  {
   "cell_type": "code",
   "execution_count": 74,
   "metadata": {},
   "outputs": [],
   "source": [
    "hw = calc_hw(tw_initial, beta_phiw)"
   ]
  },
  {
   "cell_type": "code",
   "execution_count": 75,
   "metadata": {},
   "outputs": [
    {
     "data": {
      "image/png": "[encoded data removed]",
      "text/plain": [
       "<Figure size 432x288 with 1 Axes>"
      ]
     },
     "metadata": {
      "needs_background": "light"
     },
     "output_type": "display_data"
    },
    {
     "data": {
      "text/plain": [
       "'Initial version of $h_{wi}(z)$'"
      ]
     },
     "execution_count": 75,
     "metadata": {},
     "output_type": "execute_result"
    }
   ],
   "source": [
    "make_simple_plot(z, hw, \"z\", \"$h_{wi}(z)$\", \"Initial version of $h_{wi}(z)$\", yliml=[-1, 2])"
   ]
  },
  {
   "cell_type": "code",
   "execution_count": 76,
   "metadata": {},
   "outputs": [],
   "source": [
    "beta_psi =  beta * psi_0"
   ]
  },
  {
   "cell_type": "code",
   "execution_count": 77,
   "metadata": {},
   "outputs": [
    {
     "data": {
      "text/plain": [
       "6.737646991665042e+21"
      ]
     },
     "execution_count": 77,
     "metadata": {},
     "output_type": "execute_result"
    }
   ],
   "source": [
    "beta_psi"
   ]
  },
  {
   "cell_type": "code",
   "execution_count": 78,
   "metadata": {},
   "outputs": [
    {
     "data": {
      "text/plain": [
       "array([[219.29693428, 219.29693428],\n",
       "       [211.16274464, 211.16274464],\n",
       "       [203.06973038, 203.06973038],\n",
       "       ...,\n",
       "       [  0.        ,   0.        ],\n",
       "       [  0.        ,   0.        ],\n",
       "       [  0.        ,   0.        ]])"
      ]
     },
     "execution_count": 78,
     "metadata": {},
     "output_type": "execute_result"
    }
   ],
   "source": [
    "np.log(np.exp(beta_phiw))"
   ]
  },
  {
   "cell_type": "code",
   "execution_count": 79,
   "metadata": {},
   "outputs": [
    {
     "data": {
      "text/markdown": [
       "$$ \\large t_{wi}(z) = \\ln \\left[ g_{wi}(z) \\exp(\\beta \\phi_{wi}(z)) \\right] $$"
      ],
      "text/plain": [
       "<IPython.core.display.Markdown object>"
      ]
     },
     "metadata": {},
     "output_type": "display_data"
    },
    {
     "data": {
      "text/markdown": [
       "$$ t_{wi}(z) ~=~ - \\beta q_i \\psi_0 + 2 \\pi \\sum_{j} \\bar{\\rho_j} \\left \\{  z f_{ij}^{(1)}(z) - f_{ij}^{(2)}(z) - \\left( 2 \\beta q_i q_j / \\varepsilon \\right ) \\left(  \\int_0^z dt t h_{wj}(t) + z \\int_{z}^{\\infty} dt h_{wj}(t) \\right) + \\int_0^{\\infty} dt h_{wj}(t) f_{ij}^{(1)} ( | z - t | ) \\right \\} $$"
      ],
      "text/plain": [
       "<IPython.core.display.Markdown object>"
      ]
     },
     "metadata": {},
     "output_type": "display_data"
    }
   ],
   "source": [
    "read_render_markdown_file(\"../docs/equation_5_9.md\")\n",
    "read_render_markdown_file(\"../docs/equation_5_9b.md\")"
   ]
  },
  {
   "cell_type": "code",
   "execution_count": 80,
   "metadata": {},
   "outputs": [],
   "source": [
    "int_0_z = np.zeros((n_point, n_component))\n",
    "int_z_infty = np.zeros((n_point, n_component))"
   ]
  },
  {
   "cell_type": "code",
   "execution_count": 81,
   "metadata": {},
   "outputs": [
    {
     "data": {
      "text/plain": [
       "1079.4900578186123"
      ]
     },
     "execution_count": 81,
     "metadata": {},
     "output_type": "execute_result"
    }
   ],
   "source": [
    "beta_psi * charge[0]"
   ]
  },
  {
   "cell_type": "code",
   "execution_count": 82,
   "metadata": {},
   "outputs": [
    {
     "data": {
      "text/plain": [
       "310.8854826014649"
      ]
     },
     "execution_count": 82,
     "metadata": {},
     "output_type": "execute_result"
    }
   ],
   "source": [
    "2.0 * beta * charge[0] * charge[0] / epsilon * 1e10"
   ]
  },
  {
   "cell_type": "code",
   "execution_count": 83,
   "metadata": {},
   "outputs": [],
   "source": [
    "# TODO: Get limits to make sure treating end points of arrays appropriately\n",
    "\n",
    "def calc_tw(tw_in, beta_psi, rho, f1, f2, z):\n",
    "    hw = calc_hw(tw_in, beta_phiw)\n",
    "\n",
    "    for i in range(n_component):\n",
    "        for k in range(n_point):\n",
    "            int_0_z[k, i] = trapezoid(y=hw[:k, i], x=z[:k])\n",
    "            int_z_infty[k, i] = trapezoid(y=z[k:] * hw[k:, i], x=z[k:])\n",
    "\n",
    "    for i in range(n_component):\n",
    "        tw[:, i] = -beta_psi * charge[i]\n",
    "        for k in range(n_point):\n",
    "            z_minus_t = np.flip(z_indices[:k])\n",
    "            t_minus_z = z_indices[k:] - k\n",
    "            for j in range(n_component):\n",
    "                l = calc_l_index(i, j)\n",
    "                tw[k, i] = tw[k, i] + 2.0 * np.pi * rho[j] * (z[k] * f1[k, l] - f2[k, l] +\n",
    "                                                              (2.0 * beta * charge[i] * charge[j] / epsilon * 1e10) *\n",
    "                                                              (int_z_infty[k, j] + z[k] * int_0_z[k, j])\n",
    "                                                              + trapezoid(y=hw[:k, j] * f1[z_minus_t, l])\n",
    "                                                              + trapezoid(y=hw[k:, j] * f1[t_minus_z, l]))\n",
    "    return tw, int_0_z, int_z_infty\n"
   ]
  },
  {
   "cell_type": "code",
   "execution_count": 84,
   "metadata": {},
   "outputs": [],
   "source": [
    "tw_tmp, int_0_z, int_z_infty = calc_tw(tw_initial, beta_psi, rho, f1, f2, z)"
   ]
  },
  {
   "cell_type": "code",
   "execution_count": 85,
   "metadata": {},
   "outputs": [
    {
     "data": {
      "text/plain": [
       "107.91608509180199"
      ]
     },
     "execution_count": 85,
     "metadata": {},
     "output_type": "execute_result"
    }
   ],
   "source": [
    "k = 100\n",
    "z_minus_t = np.flip(z_indices[:k])\n",
    "trapezoid(y=hw[:k, 1] * f1[z_minus_t, 0])"
   ]
  },
  {
   "cell_type": "code",
   "execution_count": 86,
   "metadata": {},
   "outputs": [
    {
     "data": {
      "text/plain": [
       "array([[-1061.01045463,  1099.27060212],\n",
       "       [-1061.49074208,  1098.73998124],\n",
       "       [-1061.96365242,  1098.21890275],\n",
       "       ...,\n",
       "       [-1079.49005782,  1079.49005782],\n",
       "       [-1079.49005782,  1079.49005782],\n",
       "       [-1079.49005782,  1079.49005782]])"
      ]
     },
     "execution_count": 86,
     "metadata": {},
     "output_type": "execute_result"
    }
   ],
   "source": [
    "tw_tmp"
   ]
  },
  {
   "cell_type": "code",
   "execution_count": 87,
   "metadata": {},
   "outputs": [
    {
     "data": {
      "image/png": "[encoded data removed]",
      "text/plain": [
       "<Figure size 432x288 with 1 Axes>"
      ]
     },
     "metadata": {
      "needs_background": "light"
     },
     "output_type": "display_data"
    },
    {
     "data": {
      "text/plain": [
       "'Fast plot'"
      ]
     },
     "execution_count": 87,
     "metadata": {},
     "output_type": "execute_result"
    }
   ],
   "source": [
    "fast_plot(z, tw_tmp)"
   ]
  },
  {
   "cell_type": "code",
   "execution_count": 88,
   "metadata": {},
   "outputs": [
    {
     "data": {
      "text/plain": [
       "array([[ 0.        ,  0.        ],\n",
       "       [ 0.        ,  0.        ],\n",
       "       [-0.025     , -0.025     ],\n",
       "       ...,\n",
       "       [-2.53101045, -2.53101045],\n",
       "       [-2.53101045, -2.53101045],\n",
       "       [-2.53101045, -2.53101045]])"
      ]
     },
     "execution_count": 88,
     "metadata": {},
     "output_type": "execute_result"
    }
   ],
   "source": [
    "int_0_z"
   ]
  },
  {
   "cell_type": "code",
   "execution_count": 89,
   "metadata": {},
   "outputs": [
    {
     "data": {
      "image/png": "[encoded data removed]",
      "text/plain": [
       "<Figure size 432x288 with 1 Axes>"
      ]
     },
     "metadata": {
      "needs_background": "light"
     },
     "output_type": "display_data"
    },
    {
     "data": {
      "text/plain": [
       "'Fast plot'"
      ]
     },
     "execution_count": 89,
     "metadata": {},
     "output_type": "execute_result"
    }
   ],
   "source": [
    "fast_plot(z, int_0_z)"
   ]
  },
  {
   "cell_type": "code",
   "execution_count": 90,
   "metadata": {},
   "outputs": [
    {
     "data": {
      "text/plain": [
       "array([[-3.31797208, -3.31797208],\n",
       "       [-3.31765958, -3.31765958],\n",
       "       [-3.31672208, -3.31672208],\n",
       "       ...,\n",
       "       [ 0.        ,  0.        ],\n",
       "       [ 0.        ,  0.        ],\n",
       "       [ 0.        ,  0.        ]])"
      ]
     },
     "execution_count": 90,
     "metadata": {},
     "output_type": "execute_result"
    }
   ],
   "source": [
    "int_z_infty"
   ]
  },
  {
   "cell_type": "code",
   "execution_count": 91,
   "metadata": {},
   "outputs": [
    {
     "data": {
      "image/png": "[encoded data removed]",
      "text/plain": [
       "<Figure size 432x288 with 1 Axes>"
      ]
     },
     "metadata": {
      "needs_background": "light"
     },
     "output_type": "display_data"
    },
    {
     "data": {
      "text/plain": [
       "'Fast plot'"
      ]
     },
     "execution_count": 91,
     "metadata": {},
     "output_type": "execute_result"
    }
   ],
   "source": [
    "fast_plot(z, int_z_infty)"
   ]
  },
  {
   "cell_type": "code",
   "execution_count": 92,
   "metadata": {},
   "outputs": [
    {
     "data": {
      "text/plain": [
       "array([[-1061.01045463,  1099.27060212],\n",
       "       [-1061.49074208,  1098.73998124],\n",
       "       [-1061.96365242,  1098.21890275],\n",
       "       ...,\n",
       "       [-1079.49005782,  1079.49005782],\n",
       "       [-1079.49005782,  1079.49005782],\n",
       "       [-1079.49005782,  1079.49005782]])"
      ]
     },
     "execution_count": 92,
     "metadata": {},
     "output_type": "execute_result"
    }
   ],
   "source": [
    "tw"
   ]
  },
  {
   "cell_type": "code",
   "execution_count": 93,
   "metadata": {},
   "outputs": [
    {
     "data": {
      "image/png": "[encoded data removed]",
      "text/plain": [
       "<Figure size 432x288 with 1 Axes>"
      ]
     },
     "metadata": {
      "needs_background": "light"
     },
     "output_type": "display_data"
    },
    {
     "data": {
      "text/plain": [
       "'Fast plot'"
      ]
     },
     "execution_count": 93,
     "metadata": {},
     "output_type": "execute_result"
    }
   ],
   "source": [
    "fast_plot(z, tw)"
   ]
  },
  {
   "cell_type": "code",
   "execution_count": 94,
   "metadata": {},
   "outputs": [
    {
     "name": "stderr",
     "output_type": "stream",
     "text": [
      "/var/folders/wc/zhl433ms1fx5rvtvcrkw6dgw0000gn/T/ipykernel_95805/1870090535.py:3: RuntimeWarning: overflow encountered in exp\n",
      "  hw[:, i] = np.exp(tw[:, i] - beta_phiw[:, i]) - 1.0\n",
      "/var/folders/wc/zhl433ms1fx5rvtvcrkw6dgw0000gn/T/ipykernel_95805/3399659632.py:9: RuntimeWarning: invalid value encountered in multiply\n",
      "  int_z_infty[k, i] = trapezoid(y=z[k:] * hw[k:, i], x=z[k:])\n",
      "/var/folders/wc/zhl433ms1fx5rvtvcrkw6dgw0000gn/T/ipykernel_95805/3399659632.py:22: RuntimeWarning: invalid value encountered in multiply\n",
      "  + trapezoid(y=hw[k:, j] * f1[t_minus_z, l]))\n",
      "/Users/mjboothaus/code/github/mjboothaus/PhD-Thesis/.venv_phd-thesis/lib/python3.9/site-packages/numpy/lib/function_base.py:4832: RuntimeWarning: invalid value encountered in add\n",
      "  ret = (d * (y[tuple(slice1)] + y[tuple(slice2)]) / 2.0).sum(axis)\n",
      "/Users/mjboothaus/code/github/mjboothaus/PhD-Thesis/.venv_phd-thesis/lib/python3.9/site-packages/numpy/core/_methods.py:48: RuntimeWarning: invalid value encountered in reduce\n",
      "  return umr_sum(a, axis, dtype, out, keepdims, initial, where)\n",
      "/var/folders/wc/zhl433ms1fx5rvtvcrkw6dgw0000gn/T/ipykernel_95805/3399659632.py:21: RuntimeWarning: invalid value encountered in multiply\n",
      "  + trapezoid(y=hw[:k, j] * f1[z_minus_t, l])\n"
     ]
    }
   ],
   "source": [
    "tw, _, _ = calc_tw(tw, beta_psi, rho, f1, f2, z)"
   ]
  },
  {
   "cell_type": "code",
   "execution_count": 95,
   "metadata": {},
   "outputs": [
    {
     "data": {
      "image/png": "[encoded data removed]",
      "text/plain": [
       "<Figure size 432x288 with 1 Axes>"
      ]
     },
     "metadata": {
      "needs_background": "light"
     },
     "output_type": "display_data"
    },
    {
     "data": {
      "text/plain": [
       "'Current $t_{wi}(z)$'"
      ]
     },
     "execution_count": 95,
     "metadata": {},
     "output_type": "execute_result"
    }
   ],
   "source": [
    "make_simple_plot(z, tw, \"z\", \"$t_{wi}(z)$\", \"Current $t_{wi}(z)$\", xliml=[0, 15], yliml=[-10, 60])"
   ]
  },
  {
   "cell_type": "markdown",
   "metadata": {},
   "source": [
    "### Numerical solver: Newton-GMRES"
   ]
  },
  {
   "cell_type": "code",
   "execution_count": 96,
   "metadata": {},
   "outputs": [],
   "source": [
    "# this should equal 0 (as t(z) converges to solution)\n",
    "\n",
    "def opt_func(tw):\n",
    "    return tw - calc_tw(tw, beta_psi, rho, f1, f2, z)"
   ]
  },
  {
   "cell_type": "code",
   "execution_count": 97,
   "metadata": {},
   "outputs": [],
   "source": [
    "tolerance = 1e-9"
   ]
  },
  {
   "cell_type": "code",
   "execution_count": 98,
   "metadata": {},
   "outputs": [
    {
     "ename": "ValueError",
     "evalue": "expected square matrix, but got shape=(12006, 4002)",
     "output_type": "error",
     "traceback": [
      "\u001b[0;31m---------------------------------------------------------------------------\u001b[0m",
      "\u001b[0;31mValueError\u001b[0m                                Traceback (most recent call last)",
      "\u001b[1;32m/Users/mjboothaus/code/github/mjboothaus/PhD-Thesis/notebooks/singlet_kcl.ipynb Cell 113\u001b[0m in \u001b[0;36m<cell line: 1>\u001b[0;34m()\u001b[0m\n\u001b[0;32m----> <a href='vscode-notebook-cell:/Users/mjboothaus/code/github/mjboothaus/PhD-Thesis/notebooks/singlet_kcl.ipynb#ch0000057?line=0'>1</a>\u001b[0m solution \u001b[39m=\u001b[39m optim\u001b[39m.\u001b[39;49mroot(opt_func, tw_initial, method\u001b[39m=\u001b[39;49m\u001b[39m\"\u001b[39;49m\u001b[39mkrylov\u001b[39;49m\u001b[39m\"\u001b[39;49m, jac\u001b[39m=\u001b[39;49m\u001b[39mNone\u001b[39;49;00m, tol\u001b[39m=\u001b[39;49mtolerance, callback\u001b[39m=\u001b[39;49m\u001b[39mNone\u001b[39;49;00m, options\u001b[39m=\u001b[39;49m\u001b[39mNone\u001b[39;49;00m)\n",
      "File \u001b[0;32m~/code/github/mjboothaus/PhD-Thesis/.venv_phd-thesis/lib/python3.9/site-packages/scipy/optimize/_root.py:244\u001b[0m, in \u001b[0;36mroot\u001b[0;34m(fun, x0, args, method, jac, tol, callback, options)\u001b[0m\n\u001b[1;32m    241\u001b[0m \u001b[39melif\u001b[39;00m meth \u001b[39min\u001b[39;00m (\u001b[39m'\u001b[39m\u001b[39mbroyden1\u001b[39m\u001b[39m'\u001b[39m, \u001b[39m'\u001b[39m\u001b[39mbroyden2\u001b[39m\u001b[39m'\u001b[39m, \u001b[39m'\u001b[39m\u001b[39manderson\u001b[39m\u001b[39m'\u001b[39m, \u001b[39m'\u001b[39m\u001b[39mlinearmixing\u001b[39m\u001b[39m'\u001b[39m,\n\u001b[1;32m    242\u001b[0m               \u001b[39m'\u001b[39m\u001b[39mdiagbroyden\u001b[39m\u001b[39m'\u001b[39m, \u001b[39m'\u001b[39m\u001b[39mexcitingmixing\u001b[39m\u001b[39m'\u001b[39m, \u001b[39m'\u001b[39m\u001b[39mkrylov\u001b[39m\u001b[39m'\u001b[39m):\n\u001b[1;32m    243\u001b[0m     _warn_jac_unused(jac, method)\n\u001b[0;32m--> 244\u001b[0m     sol \u001b[39m=\u001b[39m _root_nonlin_solve(fun, x0, args\u001b[39m=\u001b[39;49margs, jac\u001b[39m=\u001b[39;49mjac,\n\u001b[1;32m    245\u001b[0m                              _method\u001b[39m=\u001b[39;49mmeth, _callback\u001b[39m=\u001b[39;49mcallback,\n\u001b[1;32m    246\u001b[0m                              \u001b[39m*\u001b[39;49m\u001b[39m*\u001b[39;49moptions)\n\u001b[1;32m    247\u001b[0m \u001b[39melse\u001b[39;00m:\n\u001b[1;32m    248\u001b[0m     \u001b[39mraise\u001b[39;00m \u001b[39mValueError\u001b[39;00m(\u001b[39m'\u001b[39m\u001b[39mUnknown solver \u001b[39m\u001b[39m%s\u001b[39;00m\u001b[39m'\u001b[39m \u001b[39m%\u001b[39m method)\n",
      "File \u001b[0;32m~/code/github/mjboothaus/PhD-Thesis/.venv_phd-thesis/lib/python3.9/site-packages/scipy/optimize/_root.py:342\u001b[0m, in \u001b[0;36m_root_nonlin_solve\u001b[0;34m(fun, x0, args, jac, _callback, _method, nit, disp, maxiter, ftol, fatol, xtol, xatol, tol_norm, line_search, jac_options, **unknown_options)\u001b[0m\n\u001b[1;32m    339\u001b[0m \u001b[39melse\u001b[39;00m:\n\u001b[1;32m    340\u001b[0m     f \u001b[39m=\u001b[39m fun\n\u001b[0;32m--> 342\u001b[0m x, info \u001b[39m=\u001b[39m nonlin\u001b[39m.\u001b[39;49mnonlin_solve(f, x0, jacobian\u001b[39m=\u001b[39;49mjacobian(\u001b[39m*\u001b[39;49m\u001b[39m*\u001b[39;49mjac_options),\n\u001b[1;32m    343\u001b[0m                               \u001b[39miter\u001b[39;49m\u001b[39m=\u001b[39;49mnit, verbose\u001b[39m=\u001b[39;49mverbose,\n\u001b[1;32m    344\u001b[0m                               maxiter\u001b[39m=\u001b[39;49mmaxiter, f_tol\u001b[39m=\u001b[39;49mf_tol,\n\u001b[1;32m    345\u001b[0m                               f_rtol\u001b[39m=\u001b[39;49mf_rtol, x_tol\u001b[39m=\u001b[39;49mx_tol,\n\u001b[1;32m    346\u001b[0m                               x_rtol\u001b[39m=\u001b[39;49mx_rtol, tol_norm\u001b[39m=\u001b[39;49mtol_norm,\n\u001b[1;32m    347\u001b[0m                               line_search\u001b[39m=\u001b[39;49mline_search,\n\u001b[1;32m    348\u001b[0m                               callback\u001b[39m=\u001b[39;49m_callback, full_output\u001b[39m=\u001b[39;49m\u001b[39mTrue\u001b[39;49;00m,\n\u001b[1;32m    349\u001b[0m                               raise_exception\u001b[39m=\u001b[39;49m\u001b[39mFalse\u001b[39;49;00m)\n\u001b[1;32m    350\u001b[0m sol \u001b[39m=\u001b[39m OptimizeResult(x\u001b[39m=\u001b[39mx)\n\u001b[1;32m    351\u001b[0m sol\u001b[39m.\u001b[39mupdate(info)\n",
      "File \u001b[0;32m~/code/github/mjboothaus/PhD-Thesis/.venv_phd-thesis/lib/python3.9/site-packages/scipy/optimize/_nonlin.py:203\u001b[0m, in \u001b[0;36mnonlin_solve\u001b[0;34m(F, x0, jacobian, iter, verbose, maxiter, f_tol, f_rtol, x_tol, x_rtol, tol_norm, line_search, callback, full_output, raise_exception)\u001b[0m\n\u001b[1;32m    201\u001b[0m \u001b[39m# The tolerance, as computed for scipy.sparse.linalg.* routines\u001b[39;00m\n\u001b[1;32m    202\u001b[0m tol \u001b[39m=\u001b[39m \u001b[39mmin\u001b[39m(eta, eta\u001b[39m*\u001b[39mFx_norm)\n\u001b[0;32m--> 203\u001b[0m dx \u001b[39m=\u001b[39m \u001b[39m-\u001b[39mjacobian\u001b[39m.\u001b[39;49msolve(Fx, tol\u001b[39m=\u001b[39;49mtol)\n\u001b[1;32m    205\u001b[0m \u001b[39mif\u001b[39;00m norm(dx) \u001b[39m==\u001b[39m \u001b[39m0\u001b[39m:\n\u001b[1;32m    206\u001b[0m     \u001b[39mraise\u001b[39;00m \u001b[39mValueError\u001b[39;00m(\u001b[39m\"\u001b[39m\u001b[39mJacobian inversion yielded zero vector. \u001b[39m\u001b[39m\"\u001b[39m\n\u001b[1;32m    207\u001b[0m                      \u001b[39m\"\u001b[39m\u001b[39mThis indicates a bug in the Jacobian \u001b[39m\u001b[39m\"\u001b[39m\n\u001b[1;32m    208\u001b[0m                      \u001b[39m\"\u001b[39m\u001b[39mapproximation.\u001b[39m\u001b[39m\"\u001b[39m)\n",
      "File \u001b[0;32m~/code/github/mjboothaus/PhD-Thesis/.venv_phd-thesis/lib/python3.9/site-packages/scipy/optimize/_nonlin.py:1470\u001b[0m, in \u001b[0;36mKrylovJacobian.solve\u001b[0;34m(self, rhs, tol)\u001b[0m\n\u001b[1;32m   1468\u001b[0m     sol, info \u001b[39m=\u001b[39m \u001b[39mself\u001b[39m\u001b[39m.\u001b[39mmethod(\u001b[39mself\u001b[39m\u001b[39m.\u001b[39mop, rhs, \u001b[39m*\u001b[39m\u001b[39m*\u001b[39m\u001b[39mself\u001b[39m\u001b[39m.\u001b[39mmethod_kw)\n\u001b[1;32m   1469\u001b[0m \u001b[39melse\u001b[39;00m:\n\u001b[0;32m-> 1470\u001b[0m     sol, info \u001b[39m=\u001b[39m \u001b[39mself\u001b[39;49m\u001b[39m.\u001b[39;49mmethod(\u001b[39mself\u001b[39;49m\u001b[39m.\u001b[39;49mop, rhs, tol\u001b[39m=\u001b[39;49mtol, \u001b[39m*\u001b[39;49m\u001b[39m*\u001b[39;49m\u001b[39mself\u001b[39;49m\u001b[39m.\u001b[39;49mmethod_kw)\n\u001b[1;32m   1471\u001b[0m \u001b[39mreturn\u001b[39;00m sol\n",
      "File \u001b[0;32m~/code/github/mjboothaus/PhD-Thesis/.venv_phd-thesis/lib/python3.9/site-packages/scipy/sparse/linalg/_isolve/lgmres.py:125\u001b[0m, in \u001b[0;36mlgmres\u001b[0;34m(A, b, x0, tol, maxiter, M, callback, inner_m, outer_k, outer_v, store_outer_Av, prepend_outer_v, atol)\u001b[0m\n\u001b[1;32m     15\u001b[0m \u001b[39mdef\u001b[39;00m \u001b[39mlgmres\u001b[39m(A, b, x0\u001b[39m=\u001b[39m\u001b[39mNone\u001b[39;00m, tol\u001b[39m=\u001b[39m\u001b[39m1e-5\u001b[39m, maxiter\u001b[39m=\u001b[39m\u001b[39m1000\u001b[39m, M\u001b[39m=\u001b[39m\u001b[39mNone\u001b[39;00m, callback\u001b[39m=\u001b[39m\u001b[39mNone\u001b[39;00m,\n\u001b[1;32m     16\u001b[0m            inner_m\u001b[39m=\u001b[39m\u001b[39m30\u001b[39m, outer_k\u001b[39m=\u001b[39m\u001b[39m3\u001b[39m, outer_v\u001b[39m=\u001b[39m\u001b[39mNone\u001b[39;00m, store_outer_Av\u001b[39m=\u001b[39m\u001b[39mTrue\u001b[39;00m,\n\u001b[1;32m     17\u001b[0m            prepend_outer_v\u001b[39m=\u001b[39m\u001b[39mFalse\u001b[39;00m, atol\u001b[39m=\u001b[39m\u001b[39mNone\u001b[39;00m):\n\u001b[1;32m     18\u001b[0m     \u001b[39m\"\"\"\u001b[39;00m\n\u001b[1;32m     19\u001b[0m \u001b[39m    Solve a matrix equation using the LGMRES algorithm.\u001b[39;00m\n\u001b[1;32m     20\u001b[0m \n\u001b[0;32m   (...)\u001b[0m\n\u001b[1;32m    123\u001b[0m \u001b[39m    True\u001b[39;00m\n\u001b[1;32m    124\u001b[0m \u001b[39m    \"\"\"\u001b[39;00m\n\u001b[0;32m--> 125\u001b[0m     A,M,x,b,postprocess \u001b[39m=\u001b[39m make_system(A,M,x0,b)\n\u001b[1;32m    127\u001b[0m     \u001b[39mif\u001b[39;00m \u001b[39mnot\u001b[39;00m np\u001b[39m.\u001b[39misfinite(b)\u001b[39m.\u001b[39mall():\n\u001b[1;32m    128\u001b[0m         \u001b[39mraise\u001b[39;00m \u001b[39mValueError\u001b[39;00m(\u001b[39m\"\u001b[39m\u001b[39mRHS must contain only finite numbers\u001b[39m\u001b[39m\"\u001b[39m)\n",
      "File \u001b[0;32m~/code/github/mjboothaus/PhD-Thesis/.venv_phd-thesis/lib/python3.9/site-packages/scipy/sparse/linalg/_isolve/utils.py:69\u001b[0m, in \u001b[0;36mmake_system\u001b[0;34m(A, M, x0, b)\u001b[0m\n\u001b[1;32m     66\u001b[0m A \u001b[39m=\u001b[39m aslinearoperator(A)\n\u001b[1;32m     68\u001b[0m \u001b[39mif\u001b[39;00m A\u001b[39m.\u001b[39mshape[\u001b[39m0\u001b[39m] \u001b[39m!=\u001b[39m A\u001b[39m.\u001b[39mshape[\u001b[39m1\u001b[39m]:\n\u001b[0;32m---> 69\u001b[0m     \u001b[39mraise\u001b[39;00m \u001b[39mValueError\u001b[39;00m(\u001b[39m'\u001b[39m\u001b[39mexpected square matrix, but got shape=\u001b[39m\u001b[39m%s\u001b[39;00m\u001b[39m'\u001b[39m \u001b[39m%\u001b[39m (A\u001b[39m.\u001b[39mshape,))\n\u001b[1;32m     71\u001b[0m N \u001b[39m=\u001b[39m A\u001b[39m.\u001b[39mshape[\u001b[39m0\u001b[39m]\n\u001b[1;32m     73\u001b[0m b \u001b[39m=\u001b[39m asanyarray(b)\n",
      "\u001b[0;31mValueError\u001b[0m: expected square matrix, but got shape=(12006, 4002)"
     ]
    }
   ],
   "source": [
    "solution = optim.root(opt_func, tw_initial, method=\"krylov\", jac=None, tol=tolerance, callback=None, options=None)"
   ]
  },
  {
   "cell_type": "code",
   "execution_count": null,
   "metadata": {},
   "outputs": [],
   "source": [
    "tw_solution = solution.x"
   ]
  },
  {
   "cell_type": "code",
   "execution_count": null,
   "metadata": {},
   "outputs": [],
   "source": [
    "solution.nit"
   ]
  },
  {
   "cell_type": "code",
   "execution_count": null,
   "metadata": {},
   "outputs": [],
   "source": [
    "make_simple_plot(z, tw_solution, \"z\", \"t_{wi}(z)$\", \"Solution for $t_{wi}(z)$\", xliml=[0, 20], yliml=[-2, 2])"
   ]
  },
  {
   "cell_type": "code",
   "execution_count": null,
   "metadata": {},
   "outputs": [],
   "source": [
    "hw_solution = calc_hw(tw_solution, beta_phiw)"
   ]
  },
  {
   "cell_type": "code",
   "execution_count": null,
   "metadata": {},
   "outputs": [],
   "source": [
    "make_simple_plot(z, hw_solution+1, \"z\", \"g_{wi}(z)$\", \"Solution for $g_{wi}(z)$\", xliml=[0, 20], yliml=[-2, 2])"
   ]
  },
  {
   "cell_type": "code",
   "execution_count": null,
   "metadata": {},
   "outputs": [],
   "source": [
    "opt_func(tw)"
   ]
  }
 ],
 "metadata": {
  "kernelspec": {
   "display_name": "Python 3.9.12 ('.venv_phd-thesis': venv)",
   "language": "python",
   "name": "python3"
  },
  "language_info": {
   "codemirror_mode": {
    "name": "ipython",
    "version": 3
   },
   "file_extension": ".py",
   "mimetype": "text/x-python",
   "name": "python",
   "nbconvert_exporter": "python",
   "pygments_lexer": "ipython3",
   "version": "3.9.12"
  },
  "orig_nbformat": 4,
  "vscode": {
   "interpreter": {
    "hash": "efcec08cf809be12f43e7dcea9299edcddae7b0767a012083e6ceef75ec1ca14"
   }
  }
 },
 "nbformat": 4,
 "nbformat_minor": 2
}
