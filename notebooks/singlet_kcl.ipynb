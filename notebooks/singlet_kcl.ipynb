{
 "cells": [
  {
   "cell_type": "code",
   "execution_count": 1,
   "metadata": {},
   "outputs": [],
   "source": [
    "# allow for imports from ../src directory\n",
    "\n",
    "from os import path as os_path, getcwd\n",
    "from sys import path as sys_path\n",
    "\n",
    "sys_path.append(os_path.dirname(getcwd())) \n",
    "sys.path.append(f\"{os_path.dirname(getcwd())}/src\")"
   ]
  },
  {
   "cell_type": "code",
   "execution_count": 2,
   "metadata": {},
   "outputs": [
    {
     "name": "stdout",
     "output_type": "stream",
     "text": [
      "['/Users/mjboothaus/code/github/mjboothaus/PhD-Thesis/notebooks', '/Users/mjboothaus/.vscode/extensions/ms-toolsai.jupyter-2022.6.1201981810/pythonFiles', '/Users/mjboothaus/.vscode/extensions/ms-toolsai.jupyter-2022.6.1201981810/pythonFiles/lib/python', '/Users/mjboothaus/.pyenv/versions/3.9.12/lib/python39.zip', '/Users/mjboothaus/.pyenv/versions/3.9.12/lib/python3.9', '/Users/mjboothaus/.pyenv/versions/3.9.12/lib/python3.9/lib-dynload', '', '/Users/mjboothaus/code/github/mjboothaus/PhD-Thesis/.venv_dev_michael-booth-phd-thesis/lib/python3.9/site-packages', '/Users/mjboothaus/code/github/mjboothaus/PhD-Thesis', '/Users/mjboothaus/code/github/mjboothaus/PhD-Thesis/src']\n"
     ]
    }
   ],
   "source": [
    "print(sys.path)"
   ]
  },
  {
   "cell_type": "code",
   "execution_count": 5,
   "metadata": {},
   "outputs": [
    {
     "ename": "ModuleNotFoundError",
     "evalue": "No module named 'siunits'",
     "output_type": "error",
     "traceback": [
      "\u001b[0;31m---------------------------------------------------------------------------\u001b[0m",
      "\u001b[0;31mModuleNotFoundError\u001b[0m                       Traceback (most recent call last)",
      "\u001b[1;32m/Users/mjboothaus/code/github/mjboothaus/PhD-Thesis/notebooks/singlet_kcl.ipynb Cell 3\u001b[0m in \u001b[0;36m<cell line: 6>\u001b[0;34m()\u001b[0m\n\u001b[1;32m      <a href='vscode-notebook-cell:/Users/mjboothaus/code/github/mjboothaus/PhD-Thesis/notebooks/singlet_kcl.ipynb#ch0000001?line=3'>4</a>\u001b[0m \u001b[39mimport\u001b[39;00m \u001b[39mnumpy\u001b[39;00m \u001b[39mas\u001b[39;00m \u001b[39mnp\u001b[39;00m\n\u001b[1;32m      <a href='vscode-notebook-cell:/Users/mjboothaus/code/github/mjboothaus/PhD-Thesis/notebooks/singlet_kcl.ipynb#ch0000001?line=4'>5</a>\u001b[0m \u001b[39mimport\u001b[39;00m \u001b[39mpandas\u001b[39;00m \u001b[39mas\u001b[39;00m \u001b[39mpd\u001b[39;00m\n\u001b[0;32m----> <a href='vscode-notebook-cell:/Users/mjboothaus/code/github/mjboothaus/PhD-Thesis/notebooks/singlet_kcl.ipynb#ch0000001?line=5'>6</a>\u001b[0m \u001b[39mimport\u001b[39;00m \u001b[39msiunits\u001b[39;00m \u001b[39mas\u001b[39;00m \u001b[39munit\u001b[39;00m\n\u001b[1;32m      <a href='vscode-notebook-cell:/Users/mjboothaus/code/github/mjboothaus/PhD-Thesis/notebooks/singlet_kcl.ipynb#ch0000001?line=7'>8</a>\u001b[0m \u001b[39mfrom\u001b[39;00m \u001b[39mscipy\u001b[39;00m \u001b[39mimport\u001b[39;00m interpolate\n\u001b[1;32m      <a href='vscode-notebook-cell:/Users/mjboothaus/code/github/mjboothaus/PhD-Thesis/notebooks/singlet_kcl.ipynb#ch0000001?line=8'>9</a>\u001b[0m \u001b[39mfrom\u001b[39;00m \u001b[39mscipy\u001b[39;00m\u001b[39m.\u001b[39;00m\u001b[39mintegrate\u001b[39;00m \u001b[39mimport\u001b[39;00m trapezoid\n",
      "\u001b[0;31mModuleNotFoundError\u001b[0m: No module named 'siunits'"
     ]
    }
   ],
   "source": [
    "from dataclasses import dataclass\n",
    "\n",
    "import scipy.optimize as optim\n",
    "import numpy as np\n",
    "import pandas as pd\n",
    "import siunits as unit\n",
    "\n",
    "from scipy import interpolate\n",
    "from scipy.integrate import trapezoid\n",
    "from scipy.constants import epsilon_0, elementary_charge, Boltzmann, Avogadro\n",
    "from src.helper_functions import read_render_markdown_file\n",
    "from src.plotting import make_simple_plot, fast_plot, plotly_line\n",
    "\n",
    "from src.modelling import *\n",
    "from src.numerics import set_num_parameters"
   ]
  },
  {
   "cell_type": "code",
   "execution_count": 9,
   "metadata": {},
   "outputs": [],
   "source": [
    "tw = np.array([0, 1, 2, 3, 4])\n",
    "\n",
    "z = np.linspace(0, 50, 51)"
   ]
  },
  {
   "cell_type": "code",
   "execution_count": 10,
   "metadata": {},
   "outputs": [
    {
     "data": {
      "text/plain": [
       "array([ 0.,  1.,  2.,  3.,  4.,  5.,  6.,  7.,  8.,  9., 10., 11., 12.,\n",
       "       13., 14., 15., 16., 17., 18., 19., 20., 21., 22., 23., 24., 25.,\n",
       "       26., 27., 28., 29., 30., 31., 32., 33., 34., 35., 36., 37., 38.,\n",
       "       39., 40., 41., 42., 43., 44., 45., 46., 47., 48., 49., 50.])"
      ]
     },
     "execution_count": 10,
     "metadata": {},
     "output_type": "execute_result"
    }
   ],
   "source": [
    "z"
   ]
  },
  {
   "cell_type": "code",
   "execution_count": 8,
   "metadata": {},
   "outputs": [
    {
     "data": {
      "text/plain": [
       "(array([1, 2, 3, 4]), array([0, 1, 2, 3]))"
      ]
     },
     "execution_count": 8,
     "metadata": {},
     "output_type": "execute_result"
    }
   ],
   "source": [
    "tw[1:], tw[:-1]"
   ]
  },
  {
   "cell_type": "code",
   "execution_count": 11,
   "metadata": {},
   "outputs": [
    {
     "data": {
      "text/plain": [
       "array([1., 1., 1., 1., 1., 1., 1., 1., 1., 1., 1., 1., 1., 1., 1., 1., 1.,\n",
       "       1., 1., 1., 1., 1., 1., 1., 1., 1., 1., 1., 1., 1., 1., 1., 1., 1.,\n",
       "       1., 1., 1., 1., 1., 1., 1., 1., 1., 1., 1., 1., 1., 1., 1., 1.])"
      ]
     },
     "execution_count": 11,
     "metadata": {},
     "output_type": "execute_result"
    }
   ],
   "source": [
    "z[1:] - z[:-1]"
   ]
  },
  {
   "cell_type": "markdown",
   "metadata": {},
   "source": [
    "### Physical constants\n",
    "\n",
    "1. the electric constant (vacuum permittivity) $\\epsilon_0$. Units:  $\\textstyle{\\rm s^{4}\\cdot A^{2}\\cdot kg^{-1}\\cdot m^{-3}}$ or $\\textstyle{\\rm C^2 \\cdot N^{−1} \\cdot m^{−2}}$ or $\\textstyle{\\rm C \\cdot V^{−1} \\cdot m^{−1}}$ "
   ]
  },
  {
   "cell_type": "code",
   "execution_count": null,
   "metadata": {},
   "outputs": [],
   "source": [
    "unit.epsilon_0"
   ]
  },
  {
   "cell_type": "code",
   "execution_count": null,
   "metadata": {},
   "outputs": [],
   "source": [
    "epsilon_0"
   ]
  },
  {
   "cell_type": "markdown",
   "metadata": {},
   "source": [
    "2. Elementary charge (charge on electron). Units: $\\rm C$"
   ]
  },
  {
   "cell_type": "code",
   "execution_count": null,
   "metadata": {},
   "outputs": [],
   "source": [
    "unit.c"
   ]
  },
  {
   "cell_type": "code",
   "execution_count": null,
   "metadata": {},
   "outputs": [],
   "source": [
    "elementary_charge"
   ]
  },
  {
   "cell_type": "markdown",
   "metadata": {},
   "source": [
    "3. Boltzmann constant. Units: $\\rm m^2 \\cdot kg \\cdot s^{-2} \\cdot {K}^{-1}$"
   ]
  },
  {
   "cell_type": "code",
   "execution_count": null,
   "metadata": {},
   "outputs": [],
   "source": [
    "Boltzmann"
   ]
  },
  {
   "cell_type": "markdown",
   "metadata": {},
   "source": [
    "4. Avogadro's number. Units: $\\rm mol^{-1}$"
   ]
  },
  {
   "cell_type": "code",
   "execution_count": null,
   "metadata": {},
   "outputs": [],
   "source": [
    "Avogadro"
   ]
  },
  {
   "cell_type": "markdown",
   "metadata": {},
   "source": [
    "### Singlet model parameters\n",
    "\n",
    "See Page 62"
   ]
  },
  {
   "cell_type": "markdown",
   "metadata": {},
   "source": [
    "Dictionary of model parameters"
   ]
  },
  {
   "cell_type": "code",
   "execution_count": null,
   "metadata": {},
   "outputs": [],
   "source": [
    "fluid = \"kcl\""
   ]
  },
  {
   "cell_type": "code",
   "execution_count": null,
   "metadata": {},
   "outputs": [],
   "source": [
    "fluid = set_fluid_parameters(\"kcl\")"
   ]
  },
  {
   "cell_type": "code",
   "execution_count": null,
   "metadata": {},
   "outputs": [],
   "source": [
    "fluid"
   ]
  },
  {
   "cell_type": "code",
   "execution_count": null,
   "metadata": {},
   "outputs": [],
   "source": [
    "fluid.rho = np.array([1, 1, 1])"
   ]
  },
  {
   "cell_type": "code",
   "execution_count": null,
   "metadata": {},
   "outputs": [],
   "source": [
    "fluid.rho"
   ]
  },
  {
   "cell_type": "code",
   "execution_count": null,
   "metadata": {},
   "outputs": [],
   "source": [
    "valence = fluid.valence\n",
    "concentration = fluid.concentration\n",
    "n_pair = fluid.n_pair\n",
    "n_component = fluid.n_component"
   ]
  },
  {
   "cell_type": "markdown",
   "metadata": {},
   "source": [
    "Numerical discretisation"
   ]
  },
  {
   "cell_type": "code",
   "execution_count": null,
   "metadata": {},
   "outputs": [],
   "source": [
    "z_cutoff = 50.0    # from UI\n",
    "n_point = 2001     # from UI"
   ]
  },
  {
   "cell_type": "code",
   "execution_count": null,
   "metadata": {},
   "outputs": [],
   "source": [
    "tolerance = 1e-9\n",
    "max_iteration = 100"
   ]
  },
  {
   "cell_type": "code",
   "execution_count": null,
   "metadata": {},
   "outputs": [],
   "source": [
    "discrete = set_num_parameters(n_point, z_cutoff, n_component, n_pair, tolerance, max_iteration)"
   ]
  },
  {
   "cell_type": "code",
   "execution_count": null,
   "metadata": {},
   "outputs": [],
   "source": [
    "grid_size = discrete.grid_size\n",
    "z = np.linspace(0.0, z_cutoff, n_point)\n",
    "z_index = np.arange(0, n_point, dtype=int)"
   ]
  },
  {
   "cell_type": "markdown",
   "metadata": {},
   "source": [
    "Calculate physical constants"
   ]
  },
  {
   "cell_type": "markdown",
   "metadata": {},
   "source": [
    "$\\beta = 1 / k T$. Units: $\\rm m^{-2} \\cdot kg^{-1} \\cdot s^{2}$"
   ]
  },
  {
   "cell_type": "code",
   "execution_count": null,
   "metadata": {},
   "outputs": [],
   "source": [
    "beta = 1.0 / (Boltzmann * fluid.temperature)"
   ]
  },
  {
   "cell_type": "code",
   "execution_count": null,
   "metadata": {},
   "outputs": [],
   "source": [
    "epsilon = 4.0 * np.pi * fluid.epsilon_r * epsilon_0  # units same as $\\epsilon_0$ (allow for distances in angstrom)"
   ]
  },
  {
   "cell_type": "markdown",
   "metadata": {},
   "source": [
    "Model potential KCl"
   ]
  },
  {
   "cell_type": "code",
   "execution_count": null,
   "metadata": {},
   "outputs": [],
   "source": [
    "read_render_markdown_file(\"../docs/equation_4_1.md\")\n",
    "read_render_markdown_file(\"../docs/equation_4_2.md\")\n",
    "read_render_markdown_file(\"../docs/equation_4_3.md\")"
   ]
  },
  {
   "cell_type": "code",
   "execution_count": null,
   "metadata": {},
   "outputs": [],
   "source": [
    "n_outer_shell = np.array([8., 8.])"
   ]
  },
  {
   "cell_type": "code",
   "execution_count": null,
   "metadata": {},
   "outputs": [],
   "source": [
    "# def calc_l_index(i, j):\n",
    "#     return i + j    "
   ]
  },
  {
   "cell_type": "code",
   "execution_count": null,
   "metadata": {},
   "outputs": [],
   "source": [
    "# def calc_beta_pauling(valence, n_outer_shell):\n",
    "#     beta_pauling = np.zeros(n_pair)\n",
    "#     for i in range(n_component):\n",
    "#         for j in range(i, n_component):\n",
    "#             l = calc_l_index(i, j)\n",
    "#             beta_pauling[l] = 1.0 + valence[i] / n_outer_shell[i] + valence[j] / n_outer_shell[j]\n",
    "#     return beta_pauling"
   ]
  },
  {
   "cell_type": "code",
   "execution_count": null,
   "metadata": {},
   "outputs": [],
   "source": [
    "beta_pauling = calc_beta_pauling(fluid.valence, n_outer_shell, n_component, n_pair)"
   ]
  },
  {
   "cell_type": "code",
   "execution_count": null,
   "metadata": {},
   "outputs": [],
   "source": [
    "beta_pauling"
   ]
  },
  {
   "cell_type": "code",
   "execution_count": null,
   "metadata": {},
   "outputs": [],
   "source": [
    "alpha = 1.0 / 0.337\n",
    "b = 0.338e-19\n",
    "sigma = [1.463, 1.585]\n",
    "\n",
    "cap_c = np.array([24.3, 48.0, 124.5]) * 1e-19\n",
    "cap_d = np.array([24.0, 73.0, 250.0]) * 1e-19"
   ]
  },
  {
   "cell_type": "code",
   "execution_count": null,
   "metadata": {},
   "outputs": [],
   "source": [
    "def calc_cap_b(beta_pauling, b, alpha, sigma):\n",
    "    cap_b = np.zeros(n_pair)\n",
    "    for i in range(n_component):\n",
    "        for j in range(i, n_component):\n",
    "            l = calc_l_index(i, j)\n",
    "            cap_b[l] = beta_pauling[l] * b * np.exp(alpha * (sigma[i] + sigma[j]))\n",
    "    return cap_b"
   ]
  },
  {
   "cell_type": "code",
   "execution_count": null,
   "metadata": {},
   "outputs": [],
   "source": [
    "cap_b = calc_cap_b(beta_pauling, b, alpha, sigma)"
   ]
  },
  {
   "cell_type": "code",
   "execution_count": null,
   "metadata": {},
   "outputs": [],
   "source": [
    "cap_b"
   ]
  },
  {
   "cell_type": "code",
   "execution_count": null,
   "metadata": {},
   "outputs": [],
   "source": [
    "#TODO: Fix up choice of c(r) / c*(r) and make sure discretisation matches\n",
    "# Read in some c(r) -- currently LJ charged spheres\n",
    "\n",
    "def load_cr():\n",
    "    CR_PATH = \"../pyOZ_bulk_fluid/tests/lj/nrcg-cr.dat.orig\"\n",
    "    cr_df = pd.read_csv(CR_PATH, header=None, delim_whitespace=True)\n",
    "    cr_df.set_index(0, inplace=True)\n",
    "    r = cr_df.index.to_numpy()\n",
    "    cr = cr_df.to_numpy()\n",
    "    return cr, r"
   ]
  },
  {
   "cell_type": "code",
   "execution_count": null,
   "metadata": {},
   "outputs": [],
   "source": [
    "cr_in, r_in = load_cr()"
   ]
  },
  {
   "cell_type": "code",
   "execution_count": null,
   "metadata": {},
   "outputs": [],
   "source": [
    "cr_in.shape, r_in.shape"
   ]
  },
  {
   "cell_type": "code",
   "execution_count": null,
   "metadata": {},
   "outputs": [],
   "source": [
    "type(r_in)"
   ]
  },
  {
   "cell_type": "code",
   "execution_count": null,
   "metadata": {},
   "outputs": [],
   "source": [
    "make_simple_plot(r_in, cr_in, \"r\", \"cr\", \"cr\", yliml=[-2, 2])"
   ]
  },
  {
   "cell_type": "code",
   "execution_count": null,
   "metadata": {},
   "outputs": [],
   "source": [
    "\n",
    "def interpolate_cr(r_in, cr_in):\n",
    "    cr = np.zeros((n_point, n_pair))\n",
    "    for l in range(n_pair):\n",
    "        f = interpolate.interp1d(r_in, cr_in[:, l])\n",
    "        r = z\n",
    "        cr[:, l] = f(r)\n",
    "    return cr, r"
   ]
  },
  {
   "cell_type": "code",
   "execution_count": null,
   "metadata": {},
   "outputs": [],
   "source": [
    "cr, r = interpolate_cr(r_in, cr_in)"
   ]
  },
  {
   "cell_type": "code",
   "execution_count": null,
   "metadata": {},
   "outputs": [],
   "source": [
    "make_simple_plot(r, cr, \"r\", \"cr\", \"cr\", yliml=[-2, 2])"
   ]
  },
  {
   "cell_type": "code",
   "execution_count": null,
   "metadata": {},
   "outputs": [],
   "source": [
    "def calc_charge(valence):\n",
    "    return valence * elementary_charge"
   ]
  },
  {
   "cell_type": "code",
   "execution_count": null,
   "metadata": {},
   "outputs": [],
   "source": [
    "charge = calc_charge(valence)"
   ]
  },
  {
   "cell_type": "code",
   "execution_count": null,
   "metadata": {},
   "outputs": [],
   "source": [
    "r_m = r * 1e-10  # convert distance from Angstrom to m"
   ]
  },
  {
   "cell_type": "code",
   "execution_count": null,
   "metadata": {},
   "outputs": [],
   "source": [
    "# Use same discretisation for r as z [Confirm?]\n",
    "\n",
    "# def calc_u(valence, cap_b, alpha, cap_c, cap_d, r):\n",
    "#     u = np.zeros((n_point, n_pair))\n",
    "#     for i in range(n_component):\n",
    "#         for j in range(i, n_component):\n",
    "#             l = calc_l_index(i, j)\n",
    "#             u[1:, l] = (charge[i] * charge[j]) / (r_m[1:] * epsilon) + cap_c[l] / \\\n",
    "#                 r[1:]**6 + cap_d[l]/r[1:]**8 + \\\n",
    "#                 cap_b[l] * np.exp(-alpha * r[1:])\n",
    "#     return u\n"
   ]
  },
  {
   "cell_type": "code",
   "execution_count": null,
   "metadata": {},
   "outputs": [],
   "source": [
    "#TODO: Sort out units for this - doesn't make sense currently\n",
    "\n",
    "u = calc_u(charge, cap_b, alpha, cap_c, cap_d, n_point, n_component, n_pair, epsilon, r)"
   ]
  },
  {
   "cell_type": "code",
   "execution_count": null,
   "metadata": {},
   "outputs": [],
   "source": [
    "make_simple_plot(r, beta * u, \"r\", \"u\", \"Dimensionless ion-ion potential\", xliml=[0, 10], yliml=[-100, 200])"
   ]
  },
  {
   "cell_type": "code",
   "execution_count": null,
   "metadata": {},
   "outputs": [],
   "source": [
    "fig = plotly_line(r, beta*u, [\"r\", \"u0\", \"u1\", \"u2\"], xliml=[0, 10], yliml=[-100, 200])\n",
    "fig.show()"
   ]
  },
  {
   "cell_type": "code",
   "execution_count": null,
   "metadata": {},
   "outputs": [],
   "source": [
    "# f.plot(x=\"r\", y=[\"u0\", \"u1\", \"u2\"], xlim=[0, 10], ylim=[-100, 200])"
   ]
  },
  {
   "cell_type": "code",
   "execution_count": null,
   "metadata": {},
   "outputs": [],
   "source": [
    "psi_0 = 100. / 1000.     # 100 mV (in Volts)  -- get from UI"
   ]
  },
  {
   "cell_type": "markdown",
   "metadata": {},
   "source": [
    "rho ($\\rho$) is the number density which we calculate from the concentration ($c$):\n",
    "\n",
    "$\\rho = c \\, \\rm mol \\, dm^{-3} \\cdot dm^{3} / 1.0 \\cdot 10^{27} \\cdot A^{3} \\cdot N_{A} \\, mol^{-1}$. Units: $\\rm A^{-3}$\n"
   ]
  },
  {
   "cell_type": "code",
   "execution_count": null,
   "metadata": {},
   "outputs": [],
   "source": [
    "def calc_rho(concentration):\n",
    "    return np.array(concentration) / 1.0e27 * Avogadro"
   ]
  },
  {
   "cell_type": "code",
   "execution_count": null,
   "metadata": {},
   "outputs": [],
   "source": [
    "rho = calc_rho(concentration)"
   ]
  },
  {
   "cell_type": "code",
   "execution_count": null,
   "metadata": {},
   "outputs": [],
   "source": [
    "rho   # values seem reasonable (compared with those in thesis)"
   ]
  },
  {
   "cell_type": "code",
   "execution_count": null,
   "metadata": {},
   "outputs": [],
   "source": [
    "charge = calc_charge(valence)"
   ]
  },
  {
   "cell_type": "code",
   "execution_count": null,
   "metadata": {},
   "outputs": [],
   "source": [
    "def calc_kappa(beta, rho, epsilon):\n",
    "    return np.sqrt(4.0 * np.pi * beta / epsilon * 1e10 *\n",
    "    sum(np.multiply(charge**2, rho)))\n"
   ]
  },
  {
   "cell_type": "code",
   "execution_count": null,
   "metadata": {},
   "outputs": [],
   "source": [
    "kappa = calc_kappa(beta, rho, epsilon)"
   ]
  },
  {
   "cell_type": "code",
   "execution_count": null,
   "metadata": {},
   "outputs": [],
   "source": [
    "kappa      # similar to thesis value (6.77) page 62 - maybe revisions to physical constants in past 25 years (e.g. 2019 change for $e$)"
   ]
  },
  {
   "cell_type": "markdown",
   "metadata": {},
   "source": [
    "### Wall-ion soft-potential"
   ]
  },
  {
   "cell_type": "code",
   "execution_count": null,
   "metadata": {},
   "outputs": [],
   "source": [
    "phiw = np.zeros((n_point, n_component))\n",
    "hw = np.zeros((n_point, n_component))\n",
    "tw = np.zeros((n_point, n_component))\n",
    "# integral_0_z = np.zeros((n_point, n_component))\n",
    "# integral_z_inf = np.zeros((n_point, n_component))"
   ]
  },
  {
   "cell_type": "code",
   "execution_count": null,
   "metadata": {},
   "outputs": [],
   "source": [
    "# same for both ions\n",
    "\n",
    "def calc_phiw(z, n_component):\n",
    "    capital_a = 16.274e-19 # joules\n",
    "    wall_d = 2.97  # inverse Angstrom\n",
    "    for i in range(n_component):\n",
    "        phiw[:, i] = np.exp(-wall_d * z) * capital_a * (wall_d * z + 2)\n",
    "    return phiw\n"
   ]
  },
  {
   "cell_type": "code",
   "execution_count": null,
   "metadata": {},
   "outputs": [],
   "source": [
    "beta_phiw = beta * calc_phiw(z, n_component)"
   ]
  },
  {
   "cell_type": "code",
   "execution_count": null,
   "metadata": {},
   "outputs": [],
   "source": [
    "make_simple_plot(z, beta_phiw, \"z\", \"$beta phi_{wi}(z)$\", \"Dimensionless wall-ion potentials\")"
   ]
  },
  {
   "cell_type": "markdown",
   "metadata": {},
   "source": [
    "This dimensionless plot matches well with Figure 4.1(b) of thesis."
   ]
  },
  {
   "cell_type": "markdown",
   "metadata": {},
   "source": [
    "### Bulk fluid inputs\n",
    "\n",
    "Not sure what to do here -- maybe run pyOZ for ionic fluid and try using c_{ij}(r) from this as an approximation?"
   ]
  },
  {
   "cell_type": "code",
   "execution_count": null,
   "metadata": {},
   "outputs": [],
   "source": [
    "read_render_markdown_file(\"../docs/equation_3_4.md\")"
   ]
  },
  {
   "cell_type": "code",
   "execution_count": null,
   "metadata": {},
   "outputs": [],
   "source": [
    "# Assume all of the moments of the short-ranged bulk direct correlation functions to be zero initially\n",
    "\n",
    "f1 = np.zeros((n_point, n_pair))\n",
    "f2 = np.zeros((n_point, n_pair))\n",
    "c_short = np.zeros((n_point, n_pair))"
   ]
  },
  {
   "cell_type": "code",
   "execution_count": null,
   "metadata": {},
   "outputs": [],
   "source": [
    "# for now assume c*(r) = c(r)\n",
    "\n",
    "c_short = cr"
   ]
  },
  {
   "cell_type": "code",
   "execution_count": null,
   "metadata": {},
   "outputs": [],
   "source": [
    "charge_pair = np.array([1, -1, 1]) * elementary_charge"
   ]
  },
  {
   "cell_type": "code",
   "execution_count": null,
   "metadata": {},
   "outputs": [],
   "source": [
    "read_render_markdown_file(\"../docs/equation_3_5.md\")"
   ]
  },
  {
   "cell_type": "code",
   "execution_count": null,
   "metadata": {},
   "outputs": [],
   "source": [
    "#TODO: Too big?\n",
    "\n",
    "beta * charge_pair[0] * elementary_charge * elementary_charge / (epsilon * 1e-10) "
   ]
  },
  {
   "cell_type": "code",
   "execution_count": null,
   "metadata": {},
   "outputs": [],
   "source": [
    "c_short"
   ]
  },
  {
   "cell_type": "code",
   "execution_count": null,
   "metadata": {},
   "outputs": [],
   "source": [
    "# skip r = 0 to avoid divide by 0 error\n",
    "\n",
    "#for l in range(n_pair):\n",
    "#    c_short[1:, l] = c_short[1:, l]  + beta * charge_pair[l] * 1e-10 / (epsilon * r[1:])\n",
    "    "
   ]
  },
  {
   "cell_type": "code",
   "execution_count": null,
   "metadata": {},
   "outputs": [],
   "source": [
    "c_short"
   ]
  },
  {
   "cell_type": "code",
   "execution_count": null,
   "metadata": {},
   "outputs": [],
   "source": [
    "make_simple_plot(r, c_short, \"r\", \"$c_{ij}^*$\", \"SR direct correlation ion-ion functions\", xliml=[0, 20], yliml=[-2, 2])"
   ]
  },
  {
   "cell_type": "code",
   "execution_count": null,
   "metadata": {},
   "outputs": [],
   "source": [
    "def integral_z_infty_dr_r_c_short(c_short, z):\n",
    "    for ij in range(n_pair):\n",
    "        for k, _ in enumerate(z):\n",
    "            f1[k, ij] = trapezoid(y=z[:k] * c_short[k, ij], x=z[:k])\n",
    "    return f1"
   ]
  },
  {
   "cell_type": "code",
   "execution_count": null,
   "metadata": {},
   "outputs": [],
   "source": [
    "def integral_z_infty_dr_r2_c_short(c_short, z):\n",
    "    for ij in range(n_pair):\n",
    "        for k, _ in enumerate(z):\n",
    "            f2[k, ij] = trapezoid(y=z[:k] * z[:k] * c_short[k, ij], x=z[:k])\n",
    "    return f2"
   ]
  },
  {
   "cell_type": "code",
   "execution_count": null,
   "metadata": {},
   "outputs": [],
   "source": [
    "f1 = integral_z_infty_dr_r_c_short(c_short, z)"
   ]
  },
  {
   "cell_type": "code",
   "execution_count": null,
   "metadata": {},
   "outputs": [],
   "source": [
    "make_simple_plot(z, f1, \"z\", \"$f_{ij}(z)$\", \"Moment 1 of c^*(r)\", yliml=[-15, 5])"
   ]
  },
  {
   "cell_type": "code",
   "execution_count": null,
   "metadata": {},
   "outputs": [],
   "source": [
    "f2 = integral_z_infty_dr_r2_c_short(c_short, z)"
   ]
  },
  {
   "cell_type": "code",
   "execution_count": null,
   "metadata": {},
   "outputs": [],
   "source": [
    "make_simple_plot(z, f2, \"z\", \"$f2_{ij}(z)$\", \"Moment 2 of c^*(r)\", yliml=[-40, 5])"
   ]
  },
  {
   "cell_type": "markdown",
   "metadata": {},
   "source": [
    "Initial guess for solution $t_{wi}(z)$ - solving $F(t(z)) = 0$"
   ]
  },
  {
   "cell_type": "code",
   "execution_count": null,
   "metadata": {},
   "outputs": [],
   "source": [
    "tw_initial = np.zeros((n_point, n_component))    # initial guess of zero - maybe should be \\beta \\phi\n",
    "\n",
    "# tw = beta_phiw_i"
   ]
  },
  {
   "cell_type": "code",
   "execution_count": null,
   "metadata": {},
   "outputs": [],
   "source": [
    "make_simple_plot(z, tw_initial, \"z\", \"$t_{wi}(z)$\", \"Initial guess for $t_{wi}(z)$\")"
   ]
  },
  {
   "cell_type": "code",
   "execution_count": null,
   "metadata": {},
   "outputs": [],
   "source": [
    "def calc_hw(tw, beta_phiw):\n",
    "    for i in range(n_component):\n",
    "        hw[:, i] = np.exp(tw[:, i] - beta_phiw[:, i]) - 1.0\n",
    "    return hw\n"
   ]
  },
  {
   "cell_type": "code",
   "execution_count": null,
   "metadata": {},
   "outputs": [],
   "source": [
    "hw = calc_hw(tw_initial, beta_phiw)"
   ]
  },
  {
   "cell_type": "code",
   "execution_count": null,
   "metadata": {},
   "outputs": [],
   "source": [
    "make_simple_plot(z, hw, \"z\", \"$h_{wi}(z)$\", \"Initial version of $h_{wi}(z)$\", yliml=[-1, 2])"
   ]
  },
  {
   "cell_type": "code",
   "execution_count": null,
   "metadata": {},
   "outputs": [],
   "source": [
    "beta_psi =  beta * psi_0"
   ]
  },
  {
   "cell_type": "code",
   "execution_count": null,
   "metadata": {},
   "outputs": [],
   "source": [
    "read_render_markdown_file(\"../docs/equation_5_9.md\")\n",
    "read_render_markdown_file(\"../docs/equation_5_9b.md\")"
   ]
  },
  {
   "cell_type": "code",
   "execution_count": null,
   "metadata": {},
   "outputs": [],
   "source": [
    "integral_0_z = np.zeros((n_point, n_component))\n",
    "integral_z_infty = np.zeros((n_point, n_component))"
   ]
  },
  {
   "cell_type": "code",
   "execution_count": null,
   "metadata": {},
   "outputs": [],
   "source": [
    "beta_psi * charge[0]"
   ]
  },
  {
   "cell_type": "code",
   "execution_count": null,
   "metadata": {},
   "outputs": [],
   "source": [
    "2.0 * beta * charge[0] * charge[0] / epsilon * 1e10"
   ]
  },
  {
   "cell_type": "markdown",
   "metadata": {},
   "source": [
    "#### TODO: Check limits to make sure treating end points of arrays appropriately\n",
    "\n"
   ]
  },
  {
   "cell_type": "code",
   "execution_count": null,
   "metadata": {},
   "outputs": [],
   "source": [
    "beta_psi_charge = np.zeros((n_point, n_component))"
   ]
  },
  {
   "cell_type": "code",
   "execution_count": null,
   "metadata": {},
   "outputs": [],
   "source": [
    "def calc_tw_term_by_term(tw_in, beta_psi, rho, f1, f2, z):\n",
    "    hw = calc_hw(tw_in, beta_phiw)\n",
    "\n",
    "    for i in range(n_component):\n",
    "        for k in range(n_point):\n",
    "            integral_0_z[k, i] = trapezoid(y=hw[:k, i], x=z[:k])\n",
    "            integral_z_infty[k, i] = trapezoid(y=z[k:] * hw[k:, i], x=z[k:])\n",
    "\n",
    "    for i in range(n_component):\n",
    "        beta_psi_charge[:, i] = -beta_psi * charge[i]\n",
    "        for k in range(n_point):\n",
    "            z_minus_t = np.flip(z_index[:k])\n",
    "            t_minus_z = z_index[k:] - k\n",
    "            for j in range(n_component):\n",
    "                l = calc_l_index(i, j)\n",
    "                tw[k, i] = beta_psi_charge[k, i] + 2.0 * np.pi * rho[j] * (z[k] * f1[k, l] - f2[k, l])\n",
    "                # +\n",
    "                #                                               (2.0 * beta * charge[i] * charge[j] / epsilon) *\n",
    "                #                                               (integral_z_infty[k, j] + z[k] * integral_0_z[k, j])\n",
    "                #                                               + trapezoid(y=hw[:k, j] * f1[z_minus_t, l])\n",
    "                #                                               + trapezoid(y=hw[k:, j] * f1[t_minus_z, l]))\n",
    "    return hw, integral_0_z, integral_z_infty, beta_psi_charge, z_minus_t, t_minus_z, tw, k"
   ]
  },
  {
   "cell_type": "code",
   "execution_count": null,
   "metadata": {},
   "outputs": [],
   "source": [
    "hw_initial, integral_0_z, integral_z_infty, beta_psi_charge, z_minus_t, t_minus_z, tw, k = calc_tw_term_by_term(tw_initial, beta_psi, rho, f1, f2, z)"
   ]
  },
  {
   "cell_type": "code",
   "execution_count": null,
   "metadata": {},
   "outputs": [],
   "source": [
    "make_simple_plot(z, hw_initial, title=\"hw_initial\", yliml=[-1, 0])\n",
    "make_simple_plot(z, integral_0_z, title=\"integral_0_z\", yliml=[-5, 5])\n",
    "make_simple_plot(z, integral_z_infty, title=\"integral_z_infty\", yliml=[-5, 5])\n",
    "make_simple_plot(z, beta_psi_charge, title=\"beta_psi_charge\")\n",
    "make_simple_plot(z, tw, title=\"tw\", yliml=[-10, 10])\n",
    "make_simple_plot(z, calc_hw(tw, beta_phiw), title=\"hw\", yliml=[-2, 8])"
   ]
  },
  {
   "cell_type": "code",
   "execution_count": null,
   "metadata": {},
   "outputs": [],
   "source": [
    "def calc_tw(tw_in, beta_psi, rho, f1, f2, z):\n",
    "    hw = calc_hw(tw_in, beta_phiw)\n",
    "\n",
    "    for i in range(n_component):\n",
    "        for k in range(n_point):\n",
    "            integral_0_z[k, i] = trapezoid(y=hw[:k, i], x=z[:k])\n",
    "            integral_z_infty[k, i] = trapezoid(y=z[k:] * hw[k:, i], x=z[k:])\n",
    "\n",
    "    for i in range(n_component):\n",
    "        beta_psi_charge[:, i] = -beta_psi * charge[i]\n",
    "        for k in range(n_point):\n",
    "            z_minus_t = np.flip(z_index[:k])\n",
    "            t_minus_z = z_index[k:] - k\n",
    "            for j in range(n_component):\n",
    "                l = calc_l_index(i, j)\n",
    "                tw[k, i] = beta_psi_charge[i]\n",
    "                tw[k, i] += TWO_PI * rho[j] * (z[k] * f1[k, l] - f2[k, l]\n",
    "                                                + charge_pair[l] * (integral_z_infty[k, j] + z[k] * integral_0_z[k, j])\n",
    "                                                + trapezoid(y=hw[:k, j] * f1[z_minus_t, l])\n",
    "                                                + trapezoid(y=hw[k:, j] * f1[t_minus_z, l]))\n",
    "    return tw\n"
   ]
  },
  {
   "cell_type": "markdown",
   "metadata": {},
   "source": [
    "### Numerical solver: Newton-GMRES"
   ]
  },
  {
   "cell_type": "code",
   "execution_count": null,
   "metadata": {},
   "outputs": [],
   "source": [
    "# this should equal 0 (as t(z) converges to solution)\n",
    "\n",
    "def opt_func(tw):\n",
    "    return tw - calc_tw(tw, beta_psi, rho, f1, f2, z)"
   ]
  },
  {
   "cell_type": "code",
   "execution_count": null,
   "metadata": {},
   "outputs": [],
   "source": [
    "# Documentation: https://scipy.github.io/devdocs/reference/optimize.root-krylov.html\n",
    "\n",
    "solution = optim.root(opt_func, tw_initial, method=\"krylov\", jac=None,\n",
    "                      tol=tolerance, callback=None, options={\"disp\": True, \"maxiter\": max_iteration})\n"
   ]
  },
  {
   "cell_type": "code",
   "execution_count": null,
   "metadata": {},
   "outputs": [],
   "source": [
    "tw_solution = solution.x"
   ]
  },
  {
   "cell_type": "code",
   "execution_count": null,
   "metadata": {},
   "outputs": [],
   "source": [
    "solution.nit"
   ]
  },
  {
   "cell_type": "code",
   "execution_count": null,
   "metadata": {},
   "outputs": [],
   "source": [
    "make_simple_plot(z, tw_solution, \"z\", \"t_{wi}(z)$\", \"Solution for $t_{wi}(z)$\", xliml=[0, 20], yliml=[-1, 10])"
   ]
  },
  {
   "cell_type": "code",
   "execution_count": null,
   "metadata": {},
   "outputs": [],
   "source": [
    "hw_solution = calc_hw(tw_solution, beta_phiw)"
   ]
  },
  {
   "cell_type": "code",
   "execution_count": null,
   "metadata": {},
   "outputs": [],
   "source": [
    "make_simple_plot(z, hw_solution+1, \"z\", \"g_{wi}(z)$\", \"Solution for $g_{wi}(z)$\", xliml=[0, 20], yliml=[0, 10])"
   ]
  },
  {
   "cell_type": "code",
   "execution_count": null,
   "metadata": {},
   "outputs": [],
   "source": [
    "assert np.sum(opt_func(tw)) < tolerance"
   ]
  },
  {
   "cell_type": "code",
   "execution_count": null,
   "metadata": {},
   "outputs": [],
   "source": []
  }
 ],
 "metadata": {
  "kernelspec": {
   "display_name": "Python 3.9.12 ('.venv_dev_michael-booth-phd-thesis': venv)",
   "language": "python",
   "name": "python3"
  },
  "language_info": {
   "codemirror_mode": {
    "name": "ipython",
    "version": 3
   },
   "file_extension": ".py",
   "mimetype": "text/x-python",
   "name": "python",
   "nbconvert_exporter": "python",
   "pygments_lexer": "ipython3",
   "version": "3.9.12"
  },
  "orig_nbformat": 4,
  "vscode": {
   "interpreter": {
    "hash": "277df5c1efdb1880c16f84c47c38346983de44053d32f1390bd3f0633600e852"
   }
  }
 },
 "nbformat": 4,
 "nbformat_minor": 2
}
