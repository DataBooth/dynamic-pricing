{
 "cells": [
  {
   "cell_type": "code",
   "execution_count": 1,
   "metadata": {},
   "outputs": [],
   "source": [
    "# allow for imports from ../src directory\n",
    "\n",
    "from os import path as os_path\n",
    "from os import getcwd\n",
    "from sys import path as sys_path\n",
    "\n",
    "sys_path.append(os_path.dirname(getcwd())) "
   ]
  },
  {
   "cell_type": "code",
   "execution_count": 2,
   "metadata": {},
   "outputs": [],
   "source": [
    "from dataclasses import dataclass\n",
    "from dacite import from_dict\n",
    "\n",
    "import scipy.optimize as optim\n",
    "import numpy as np\n",
    "import pandas as pd\n",
    "import siunits as unit\n",
    "\n",
    "from scipy import interpolate\n",
    "from scipy.integrate import trapezoid\n",
    "from scipy.constants import epsilon_0, elementary_charge, Boltzmann, Avogadro\n",
    "from src.helper_functions import read_render_markdown_file\n",
    "from src.plotting import make_simple_plot, fast_plot\n",
    "\n",
    "from src.model_parameters import set_fluid_parameters\n",
    "from src.numerical_parameters import set_num_parameters"
   ]
  },
  {
   "cell_type": "markdown",
   "metadata": {},
   "source": [
    "### Physical constants\n",
    "\n",
    "1. the electric constant (vacuum permittivity) $\\epsilon_0$. Units:  $\\textstyle{\\rm s^{4}\\cdot A^{2}\\cdot kg^{-1}\\cdot m^{-3}}$ or $\\textstyle{\\rm C^2 \\cdot N^{−1} \\cdot m^{−2}}$ or $\\textstyle{\\rm C \\cdot V^{−1} \\cdot m^{−1}}$ "
   ]
  },
  {
   "cell_type": "code",
   "execution_count": 3,
   "metadata": {},
   "outputs": [
    {
     "data": {
      "text/plain": [
       "ampere²·second⁴·meter⁻³·kilogram⁻¹ (A²·s⁴·m⁻³·kg⁻¹), [kg: -1, s: 4, A: 2, m: -3]"
      ]
     },
     "execution_count": 3,
     "metadata": {},
     "output_type": "execute_result"
    }
   ],
   "source": [
    "unit.epsilon_0"
   ]
  },
  {
   "cell_type": "code",
   "execution_count": 4,
   "metadata": {},
   "outputs": [
    {
     "data": {
      "text/plain": [
       "8.8541878128e-12"
      ]
     },
     "execution_count": 4,
     "metadata": {},
     "output_type": "execute_result"
    }
   ],
   "source": [
    "epsilon_0"
   ]
  },
  {
   "cell_type": "markdown",
   "metadata": {},
   "source": [
    "2. Elementary charge (charge on electron). Units: $\\rm C$"
   ]
  },
  {
   "cell_type": "code",
   "execution_count": 5,
   "metadata": {},
   "outputs": [
    {
     "data": {
      "text/plain": [
       "coulomb (C), [s: 1, A: 1]"
      ]
     },
     "execution_count": 5,
     "metadata": {},
     "output_type": "execute_result"
    }
   ],
   "source": [
    "unit.c"
   ]
  },
  {
   "cell_type": "code",
   "execution_count": 6,
   "metadata": {},
   "outputs": [
    {
     "data": {
      "text/plain": [
       "1.602176634e-19"
      ]
     },
     "execution_count": 6,
     "metadata": {},
     "output_type": "execute_result"
    }
   ],
   "source": [
    "elementary_charge"
   ]
  },
  {
   "cell_type": "markdown",
   "metadata": {},
   "source": [
    "3. Boltzmann constant. Units: $\\rm m^2 \\cdot kg \\cdot s^{-2} \\cdot {K}^{-1}$"
   ]
  },
  {
   "cell_type": "code",
   "execution_count": 7,
   "metadata": {},
   "outputs": [
    {
     "data": {
      "text/plain": [
       "1.380649e-23"
      ]
     },
     "execution_count": 7,
     "metadata": {},
     "output_type": "execute_result"
    }
   ],
   "source": [
    "Boltzmann"
   ]
  },
  {
   "cell_type": "markdown",
   "metadata": {},
   "source": [
    "4. Avogadro's number. Units: $\\rm mol^{-1}$"
   ]
  },
  {
   "cell_type": "code",
   "execution_count": 8,
   "metadata": {},
   "outputs": [
    {
     "data": {
      "text/plain": [
       "6.02214076e+23"
      ]
     },
     "execution_count": 8,
     "metadata": {},
     "output_type": "execute_result"
    }
   ],
   "source": [
    "Avogadro"
   ]
  },
  {
   "cell_type": "markdown",
   "metadata": {},
   "source": [
    "### Singlet model parameters\n",
    "\n",
    "See Page 62"
   ]
  },
  {
   "cell_type": "markdown",
   "metadata": {},
   "source": [
    "Dictionary of model parameters"
   ]
  },
  {
   "cell_type": "code",
   "execution_count": 9,
   "metadata": {},
   "outputs": [],
   "source": [
    "fluid = \"kcl\""
   ]
  },
  {
   "cell_type": "code",
   "execution_count": 10,
   "metadata": {},
   "outputs": [],
   "source": [
    "fluid = set_fluid_parameters(\"kcl\")"
   ]
  },
  {
   "cell_type": "code",
   "execution_count": 11,
   "metadata": {},
   "outputs": [
    {
     "data": {
      "text/plain": [
       "Fluid(name='Potassium Chloride', symbol='KCl', component=['K', 'Cl'], valence=array([ 1., -1.]), temperature=1075.0, concentration=array([19.265, 19.265]), epsilon_r=1.0, n_component=2, n_pair=3, index=1)"
      ]
     },
     "execution_count": 11,
     "metadata": {},
     "output_type": "execute_result"
    }
   ],
   "source": [
    "fluid"
   ]
  },
  {
   "cell_type": "code",
   "execution_count": 12,
   "metadata": {},
   "outputs": [],
   "source": [
    "valence = fluid.valence\n",
    "concentration = fluid.concentration\n",
    "n_pair = fluid.n_pair\n",
    "n_component = fluid.n_component"
   ]
  },
  {
   "cell_type": "markdown",
   "metadata": {},
   "source": [
    "Numerical discretisation"
   ]
  },
  {
   "cell_type": "code",
   "execution_count": 13,
   "metadata": {},
   "outputs": [],
   "source": [
    "z_cutoff = 50.0    # from UI\n",
    "n_point = 2001     # from UI"
   ]
  },
  {
   "cell_type": "code",
   "execution_count": 14,
   "metadata": {},
   "outputs": [],
   "source": [
    "discrete = set_num_parameters(n_point, z_cutoff, n_pair)"
   ]
  },
  {
   "cell_type": "code",
   "execution_count": 15,
   "metadata": {},
   "outputs": [],
   "source": [
    "grid_size = discrete.grid_size\n",
    "z = discrete.z\n",
    "z_indices = discrete.z_index"
   ]
  },
  {
   "cell_type": "markdown",
   "metadata": {},
   "source": [
    "Calculate physical constants"
   ]
  },
  {
   "cell_type": "markdown",
   "metadata": {},
   "source": [
    "$\\beta = 1 / k T$. Units: $\\rm m^{-2} \\cdot kg^{-1} \\cdot s^{2}$"
   ]
  },
  {
   "cell_type": "code",
   "execution_count": 17,
   "metadata": {},
   "outputs": [],
   "source": [
    "beta = 1.0 / (Boltzmann * fluid.temperature)"
   ]
  },
  {
   "cell_type": "code",
   "execution_count": 18,
   "metadata": {},
   "outputs": [],
   "source": [
    "epsilon = 4.0 * np.pi * fluid.epsilon_r * epsilon_0  # units same as $\\epsilon_0$ (allow for distances in angstrom)"
   ]
  },
  {
   "cell_type": "markdown",
   "metadata": {},
   "source": [
    "Model potential KCl"
   ]
  },
  {
   "cell_type": "code",
   "execution_count": 19,
   "metadata": {},
   "outputs": [
    {
     "data": {
      "text/markdown": [
       "$$ u_{ij}(r) = \\frac{q_i q_j}{\\varepsilon r} + B_{ij} \\exp(-\\alpha r) + \\frac{C_ij}{r^6} + \\frac{D_{ij}}{r^8} $$"
      ],
      "text/plain": [
       "<IPython.core.display.Markdown object>"
      ]
     },
     "metadata": {},
     "output_type": "display_data"
    },
    {
     "data": {
      "text/markdown": [
       "$$ B_{ij} = \\beta_{ij} \\, b \\exp[\\alpha(\\sigma_i + \\sigma_j)] $$"
      ],
      "text/plain": [
       "<IPython.core.display.Markdown object>"
      ]
     },
     "metadata": {},
     "output_type": "display_data"
    },
    {
     "data": {
      "text/markdown": [
       "$$ \\beta_{ij} = 1 + \\frac{Z_i}{n_i} + \\frac{Z_j}{n_j} $$"
      ],
      "text/plain": [
       "<IPython.core.display.Markdown object>"
      ]
     },
     "metadata": {},
     "output_type": "display_data"
    }
   ],
   "source": [
    "read_render_markdown_file(\"../docs/equation_4_1.md\")\n",
    "read_render_markdown_file(\"../docs/equation_4_2.md\")\n",
    "read_render_markdown_file(\"../docs/equation_4_3.md\")"
   ]
  },
  {
   "cell_type": "code",
   "execution_count": 20,
   "metadata": {},
   "outputs": [],
   "source": [
    "n_outer_shell = np.array([8., 8.])"
   ]
  },
  {
   "cell_type": "code",
   "execution_count": 21,
   "metadata": {},
   "outputs": [],
   "source": [
    "def calc_l_index(i, j):\n",
    "    return i + j    "
   ]
  },
  {
   "cell_type": "code",
   "execution_count": 22,
   "metadata": {},
   "outputs": [],
   "source": [
    "def calc_beta_pauling(valence, n_outer_shell):\n",
    "    beta_pauling = np.zeros(n_pair)\n",
    "    for i in range(n_component):\n",
    "        for j in range(i, n_component):\n",
    "            l = calc_l_index(i, j)\n",
    "            beta_pauling[l] = 1.0 + valence[i] / n_outer_shell[i] + valence[j] / n_outer_shell[j]\n",
    "    return beta_pauling"
   ]
  },
  {
   "cell_type": "code",
   "execution_count": 23,
   "metadata": {},
   "outputs": [],
   "source": [
    "beta_pauling = calc_beta_pauling(fluid.valence, n_outer_shell)"
   ]
  },
  {
   "cell_type": "code",
   "execution_count": 24,
   "metadata": {},
   "outputs": [],
   "source": [
    "alpha = 1.0 / 0.337\n",
    "b = 0.338e-19\n",
    "sigma = [1.463, 1.585]\n",
    "\n",
    "cap_c = np.array([24.3, 48.0, 124.5]) * 1e-19\n",
    "cap_d = np.array([24.0, 73.0, 250.0]) * 1e-19"
   ]
  },
  {
   "cell_type": "code",
   "execution_count": 25,
   "metadata": {},
   "outputs": [],
   "source": [
    "def calc_cap_b(beta_pauling, b, alpha, sigma):\n",
    "    cap_b = np.zeros(n_pair)\n",
    "    for i in range(n_component):\n",
    "        for j in range(i, n_component):\n",
    "            l = calc_l_index(i, j)\n",
    "            cap_b[l] = beta_pauling[l] * b * np.exp(alpha * (sigma[i] + sigma[j]))\n",
    "    return cap_b"
   ]
  },
  {
   "cell_type": "code",
   "execution_count": 26,
   "metadata": {},
   "outputs": [],
   "source": [
    "cap_b = calc_cap_b(beta_pauling, b, alpha, sigma)"
   ]
  },
  {
   "cell_type": "code",
   "execution_count": 27,
   "metadata": {},
   "outputs": [],
   "source": [
    "#TODO: Fix up choice of c(r) / c*(r) and make sure discretisation matches\n",
    "# Read in some c(r) -- currently LJ charged spheres\n",
    "\n",
    "def load_cr():\n",
    "    CR_PATH = \"../pyOZ_bulk_fluid/tests/lj/nrcg-cr.dat.orig\"\n",
    "    cr_df = pd.read_csv(CR_PATH, header=None, delim_whitespace=True)\n",
    "    cr_df.set_index(0, inplace=True)\n",
    "    r = cr_df.index.to_numpy()\n",
    "    cr = cr_df.to_numpy()\n",
    "    return cr, r"
   ]
  },
  {
   "cell_type": "code",
   "execution_count": 28,
   "metadata": {},
   "outputs": [],
   "source": [
    "cr_in, r_in = load_cr()"
   ]
  },
  {
   "cell_type": "code",
   "execution_count": 29,
   "metadata": {},
   "outputs": [
    {
     "data": {
      "image/png": "[encoded data removed]",
      "text/plain": [
       "<Figure size 432x288 with 1 Axes>"
      ]
     },
     "metadata": {
      "needs_background": "light"
     },
     "output_type": "display_data"
    },
    {
     "data": {
      "text/plain": [
       "'cr'"
      ]
     },
     "execution_count": 29,
     "metadata": {},
     "output_type": "execute_result"
    }
   ],
   "source": [
    "make_simple_plot(r_in, cr_in, \"r\", \"cr\", \"cr\", yliml=[-2, 2])"
   ]
  },
  {
   "cell_type": "code",
   "execution_count": 30,
   "metadata": {},
   "outputs": [],
   "source": [
    "\n",
    "def interpolate_cr(r_in, cr_in):\n",
    "    cr = np.zeros((n_point, n_pair))\n",
    "    for l in range(n_pair):\n",
    "        f = interpolate.interp1d(r_in, cr_in[:, l])\n",
    "        r = z\n",
    "        cr[:, l] = f(r)\n",
    "    return cr, r"
   ]
  },
  {
   "cell_type": "code",
   "execution_count": 31,
   "metadata": {},
   "outputs": [],
   "source": [
    "cr, r = interpolate_cr(r_in, cr_in)"
   ]
  },
  {
   "cell_type": "code",
   "execution_count": 32,
   "metadata": {},
   "outputs": [
    {
     "data": {
      "image/png": "[encoded data removed]",
      "text/plain": [
       "<Figure size 432x288 with 1 Axes>"
      ]
     },
     "metadata": {
      "needs_background": "light"
     },
     "output_type": "display_data"
    },
    {
     "data": {
      "text/plain": [
       "'cr'"
      ]
     },
     "execution_count": 32,
     "metadata": {},
     "output_type": "execute_result"
    }
   ],
   "source": [
    "make_simple_plot(r, cr, \"r\", \"cr\", \"cr\", yliml=[-2, 2])"
   ]
  },
  {
   "cell_type": "code",
   "execution_count": 33,
   "metadata": {},
   "outputs": [],
   "source": [
    "def calc_charge(valence):\n",
    "    return valence * elementary_charge"
   ]
  },
  {
   "cell_type": "code",
   "execution_count": 34,
   "metadata": {},
   "outputs": [],
   "source": [
    "charge = calc_charge(valence)"
   ]
  },
  {
   "cell_type": "code",
   "execution_count": 35,
   "metadata": {},
   "outputs": [],
   "source": [
    "r_m = r * 1e-10  # convert distance from Angstrom to m"
   ]
  },
  {
   "cell_type": "code",
   "execution_count": 36,
   "metadata": {},
   "outputs": [],
   "source": [
    "# Use same discretisation for r as z [Confirm?]\n",
    "\n",
    "def calc_u(valence, cap_b, alpha, cap_c, cap_d, r):\n",
    "    u = np.zeros((n_point, n_pair))\n",
    "    for i in range(n_component):\n",
    "        for j in range(i, n_component):\n",
    "            l = calc_l_index(i, j)\n",
    "            u[1:, l] = (charge[i] * charge[j]) / (r_m[1:] * epsilon) + cap_c[l] / \\\n",
    "                r[1:]**6 + cap_d[l]/r[1:]**8 + \\\n",
    "                cap_b[l] * np.exp(-alpha * r[1:])\n",
    "    return u\n"
   ]
  },
  {
   "cell_type": "code",
   "execution_count": 37,
   "metadata": {},
   "outputs": [],
   "source": [
    "#TODO: Sort out units for this - doesn't make sense currently\n",
    "\n",
    "u = calc_u(charge, cap_b, alpha, cap_c, cap_d, r)"
   ]
  },
  {
   "cell_type": "code",
   "execution_count": 38,
   "metadata": {},
   "outputs": [
    {
     "data": {
      "text/plain": [
       "array([[ 0.00000000e+00,  0.00000000e+00,  0.00000000e+00],\n",
       "       [ 1.06041086e+15,  3.22470124e+15,  1.10423967e+16],\n",
       "       [ 4.15008872e+12,  1.26120128e+13,  4.31746263e+13],\n",
       "       ...,\n",
       "       [ 3.11196680e+00, -3.11196677e+00,  3.11196685e+00],\n",
       "       [ 3.11041004e+00, -3.11041001e+00,  3.11041008e+00],\n",
       "       [ 3.10885484e+00, -3.10885481e+00,  3.10885488e+00]])"
      ]
     },
     "execution_count": 38,
     "metadata": {},
     "output_type": "execute_result"
    }
   ],
   "source": [
    "beta * u"
   ]
  },
  {
   "cell_type": "code",
   "execution_count": 39,
   "metadata": {},
   "outputs": [
    {
     "data": {
      "image/png": "[encoded data removed]",
      "text/plain": [
       "<Figure size 432x288 with 1 Axes>"
      ]
     },
     "metadata": {
      "needs_background": "light"
     },
     "output_type": "display_data"
    },
    {
     "data": {
      "text/plain": [
       "'Dimensionless ion-ion potential'"
      ]
     },
     "execution_count": 39,
     "metadata": {},
     "output_type": "execute_result"
    }
   ],
   "source": [
    "make_simple_plot(r, beta * u, \"r\", \"u\", \"Dimensionless ion-ion potential\", xliml=[0, 10], yliml=[-100, 200])"
   ]
  },
  {
   "cell_type": "code",
   "execution_count": 40,
   "metadata": {},
   "outputs": [],
   "source": [
    "psi_0 = 100. / 1000.     # 100 mV (in Volts)  -- get from UI"
   ]
  },
  {
   "cell_type": "code",
   "execution_count": 41,
   "metadata": {},
   "outputs": [
    {
     "data": {
      "text/plain": [
       "0.1"
      ]
     },
     "execution_count": 41,
     "metadata": {},
     "output_type": "execute_result"
    }
   ],
   "source": [
    "psi_0"
   ]
  },
  {
   "cell_type": "markdown",
   "metadata": {},
   "source": [
    "rho ($\\rho$) is the number density which we calculate from the concentration ($c$):\n",
    "\n",
    "$\\rho = c \\, \\rm mol \\, dm^{-3} \\cdot dm^{3} / 1.0 \\cdot 10^{27} \\cdot A^{3} \\cdot N_{A} \\, mol^{-1}$. Units: $\\rm A^{-3}$\n"
   ]
  },
  {
   "cell_type": "code",
   "execution_count": 42,
   "metadata": {},
   "outputs": [],
   "source": [
    "def calc_rho(concentration):\n",
    "    return np.array(concentration) / 1.0e27 * Avogadro"
   ]
  },
  {
   "cell_type": "code",
   "execution_count": 43,
   "metadata": {},
   "outputs": [],
   "source": [
    "rho = calc_rho(concentration)"
   ]
  },
  {
   "cell_type": "code",
   "execution_count": 44,
   "metadata": {},
   "outputs": [
    {
     "data": {
      "text/plain": [
       "array([0.01160165, 0.01160165])"
      ]
     },
     "execution_count": 44,
     "metadata": {},
     "output_type": "execute_result"
    }
   ],
   "source": [
    "rho   # values seem reasonable (compared with those in thesis)"
   ]
  },
  {
   "cell_type": "code",
   "execution_count": 45,
   "metadata": {},
   "outputs": [],
   "source": [
    "charge = calc_charge(valence)"
   ]
  },
  {
   "cell_type": "code",
   "execution_count": 46,
   "metadata": {},
   "outputs": [],
   "source": [
    "def calc_kappa(beta, rho, epsilon):\n",
    "    return np.sqrt(4.0 * np.pi * beta / epsilon * 1e10 *\n",
    "    sum(np.multiply(charge**2, rho)))\n"
   ]
  },
  {
   "cell_type": "code",
   "execution_count": 47,
   "metadata": {},
   "outputs": [],
   "source": [
    "kappa = calc_kappa(beta, rho, epsilon)"
   ]
  },
  {
   "cell_type": "code",
   "execution_count": 48,
   "metadata": {},
   "outputs": [
    {
     "data": {
      "text/plain": [
       "6.732325586635704"
      ]
     },
     "execution_count": 48,
     "metadata": {},
     "output_type": "execute_result"
    }
   ],
   "source": [
    "kappa      # similar to thesis value (6.77) page 62 - maybe revisions to physical constants in past 25 years (e.g. 2019 change for $e$)"
   ]
  },
  {
   "cell_type": "markdown",
   "metadata": {},
   "source": [
    "### Wall-ion soft-potential"
   ]
  },
  {
   "cell_type": "code",
   "execution_count": 49,
   "metadata": {},
   "outputs": [],
   "source": [
    "phiw = np.zeros((n_point, n_component))\n",
    "hw = np.zeros((n_point, n_component))\n",
    "tw = np.zeros((n_point, n_component))\n",
    "# integral_0_z = np.zeros((n_point, n_component))\n",
    "# integral_z_inf = np.zeros((n_point, n_component))"
   ]
  },
  {
   "cell_type": "code",
   "execution_count": 50,
   "metadata": {},
   "outputs": [],
   "source": [
    "# same for both ions\n",
    "\n",
    "def calc_phiw(z, n_component):\n",
    "    capital_a = 16.274e-19 # joules\n",
    "    wall_d = 2.97  # inverse Angstrom\n",
    "    for i in range(n_component):\n",
    "        phiw[:, i] = np.exp(-wall_d * z) * capital_a * (wall_d * z + 2)\n",
    "    return phiw\n"
   ]
  },
  {
   "cell_type": "code",
   "execution_count": 51,
   "metadata": {},
   "outputs": [],
   "source": [
    "beta_phiw = beta * calc_phiw(z, n_component)"
   ]
  },
  {
   "cell_type": "code",
   "execution_count": 52,
   "metadata": {},
   "outputs": [
    {
     "data": {
      "image/png": "[encoded data removed]",
      "text/plain": [
       "<Figure size 432x288 with 1 Axes>"
      ]
     },
     "metadata": {
      "needs_background": "light"
     },
     "output_type": "display_data"
    },
    {
     "data": {
      "text/plain": [
       "'Dimensionless wall-ion potentials'"
      ]
     },
     "execution_count": 52,
     "metadata": {},
     "output_type": "execute_result"
    }
   ],
   "source": [
    "make_simple_plot(z, beta_phiw, \"z\", \"$beta phi_{wi}(z)$\", \"Dimensionless wall-ion potentials\")"
   ]
  },
  {
   "cell_type": "markdown",
   "metadata": {},
   "source": [
    "This dimensionless plot matches well with Figure 4.1(b) of thesis."
   ]
  },
  {
   "cell_type": "markdown",
   "metadata": {},
   "source": [
    "### Bulk fluid inputs\n",
    "\n",
    "Not sure what to do here -- maybe run pyOZ for ionic fluid and try using c_{ij}(r) from this as an approximation?"
   ]
  },
  {
   "cell_type": "code",
   "execution_count": 53,
   "metadata": {},
   "outputs": [
    {
     "data": {
      "text/markdown": [
       "$$ f_{ij}^{(n)}(z) = \\int_z^{\\infty} dr r^n c_{ij}^{*} $$"
      ],
      "text/plain": [
       "<IPython.core.display.Markdown object>"
      ]
     },
     "metadata": {},
     "output_type": "display_data"
    }
   ],
   "source": [
    "read_render_markdown_file(\"../docs/equation_3_4.md\")"
   ]
  },
  {
   "cell_type": "code",
   "execution_count": 54,
   "metadata": {},
   "outputs": [],
   "source": [
    "# Assume all of the moments of the short-ranged bulk direct correlation functions to be zero initially\n",
    "\n",
    "f1 = np.zeros((n_point, n_pair))\n",
    "f2 = np.zeros((n_point, n_pair))\n",
    "c_short = np.zeros((n_point, n_pair))"
   ]
  },
  {
   "cell_type": "code",
   "execution_count": 55,
   "metadata": {},
   "outputs": [],
   "source": [
    "# for now assume c*(r) = c(r)\n",
    "\n",
    "c_short = cr"
   ]
  },
  {
   "cell_type": "code",
   "execution_count": 56,
   "metadata": {},
   "outputs": [],
   "source": [
    "charge_pair = np.array([1, -1, 1]) * elementary_charge"
   ]
  },
  {
   "cell_type": "code",
   "execution_count": 57,
   "metadata": {},
   "outputs": [
    {
     "data": {
      "text/markdown": [
       "$$ c_{ij}^*(r) = c_{ij}(r) + \\beta q_i q_j / (\\varepsilon r) $$"
      ],
      "text/plain": [
       "<IPython.core.display.Markdown object>"
      ]
     },
     "metadata": {},
     "output_type": "display_data"
    }
   ],
   "source": [
    "read_render_markdown_file(\"../docs/equation_3_5.md\")"
   ]
  },
  {
   "cell_type": "code",
   "execution_count": 58,
   "metadata": {},
   "outputs": [
    {
     "data": {
      "text/plain": [
       "2.4904672803694033e-17"
      ]
     },
     "execution_count": 58,
     "metadata": {},
     "output_type": "execute_result"
    }
   ],
   "source": [
    "#TODO: Too big?\n",
    "\n",
    "beta * charge_pair[0] * elementary_charge * elementary_charge / (epsilon * 1e-10) "
   ]
  },
  {
   "cell_type": "code",
   "execution_count": 59,
   "metadata": {},
   "outputs": [
    {
     "data": {
      "text/plain": [
       "array([[ 0.     ,  0.     ,  0.     ],\n",
       "       [-0.57316, -0.58233, -0.63448],\n",
       "       [-1.14632, -1.16466, -1.26896],\n",
       "       ...,\n",
       "       [ 0.     ,  0.     ,  0.     ],\n",
       "       [ 0.     ,  0.     ,  0.     ],\n",
       "       [ 0.     ,  0.     ,  0.     ]])"
      ]
     },
     "execution_count": 59,
     "metadata": {},
     "output_type": "execute_result"
    }
   ],
   "source": [
    "c_short"
   ]
  },
  {
   "cell_type": "code",
   "execution_count": 60,
   "metadata": {},
   "outputs": [],
   "source": [
    "# skip r = 0 to avoid divide by 0 error\n",
    "\n",
    "#for l in range(n_pair):\n",
    "#    c_short[1:, l] = c_short[1:, l]  + beta * charge_pair[l] * 1e-10 / (epsilon * r[1:])\n",
    "    "
   ]
  },
  {
   "cell_type": "code",
   "execution_count": 61,
   "metadata": {},
   "outputs": [
    {
     "data": {
      "text/plain": [
       "array([[ 0.     ,  0.     ,  0.     ],\n",
       "       [-0.57316, -0.58233, -0.63448],\n",
       "       [-1.14632, -1.16466, -1.26896],\n",
       "       ...,\n",
       "       [ 0.     ,  0.     ,  0.     ],\n",
       "       [ 0.     ,  0.     ,  0.     ],\n",
       "       [ 0.     ,  0.     ,  0.     ]])"
      ]
     },
     "execution_count": 61,
     "metadata": {},
     "output_type": "execute_result"
    }
   ],
   "source": [
    "c_short"
   ]
  },
  {
   "cell_type": "code",
   "execution_count": 62,
   "metadata": {},
   "outputs": [
    {
     "data": {
      "image/png": "[encoded data removed]",
      "text/plain": [
       "<Figure size 432x288 with 1 Axes>"
      ]
     },
     "metadata": {
      "needs_background": "light"
     },
     "output_type": "display_data"
    },
    {
     "data": {
      "text/plain": [
       "'SR direct correlation ion-ion functions'"
      ]
     },
     "execution_count": 62,
     "metadata": {},
     "output_type": "execute_result"
    }
   ],
   "source": [
    "make_simple_plot(r, c_short, \"r\", \"$c_{ij}^*$\", \"SR direct correlation ion-ion functions\", xliml=[0, 20], yliml=[-2, 2])"
   ]
  },
  {
   "cell_type": "code",
   "execution_count": 63,
   "metadata": {},
   "outputs": [],
   "source": [
    "def integral_z_infty_dr_r_c_short(c_short, z):\n",
    "    for ij in range(n_pair):\n",
    "        for k, _ in enumerate(z):\n",
    "            f1[k, ij] = trapezoid(y=z[:k] * c_short[k, ij], x=z[:k])\n",
    "    return f1"
   ]
  },
  {
   "cell_type": "code",
   "execution_count": 64,
   "metadata": {},
   "outputs": [],
   "source": [
    "def integral_z_infty_dr_r2_c_short(c_short, z):\n",
    "    for ij in range(n_pair):\n",
    "        for k, _ in enumerate(z):\n",
    "            f2[k, ij] = trapezoid(y=z[:k] * z[:k] * c_short[k, ij], x=z[:k])\n",
    "    return f2"
   ]
  },
  {
   "cell_type": "code",
   "execution_count": 65,
   "metadata": {},
   "outputs": [],
   "source": [
    "f1 = integral_z_infty_dr_r_c_short(c_short, z)"
   ]
  },
  {
   "cell_type": "code",
   "execution_count": 66,
   "metadata": {},
   "outputs": [
    {
     "data": {
      "image/png": "[encoded data removed]",
      "text/plain": [
       "<Figure size 432x288 with 1 Axes>"
      ]
     },
     "metadata": {
      "needs_background": "light"
     },
     "output_type": "display_data"
    },
    {
     "data": {
      "text/plain": [
       "'Moment 1 of c^*(r)'"
      ]
     },
     "execution_count": 66,
     "metadata": {},
     "output_type": "execute_result"
    }
   ],
   "source": [
    "make_simple_plot(z, f1, \"z\", \"$f_{ij}(z)$\", \"Moment 1 of c^*(r)\", yliml=[-15, 5])"
   ]
  },
  {
   "cell_type": "code",
   "execution_count": 67,
   "metadata": {},
   "outputs": [],
   "source": [
    "f2 = integral_z_infty_dr_r2_c_short(c_short, z)"
   ]
  },
  {
   "cell_type": "code",
   "execution_count": 68,
   "metadata": {},
   "outputs": [
    {
     "data": {
      "image/png": "[encoded data removed]",
      "text/plain": [
       "<Figure size 432x288 with 1 Axes>"
      ]
     },
     "metadata": {
      "needs_background": "light"
     },
     "output_type": "display_data"
    },
    {
     "data": {
      "text/plain": [
       "'Moment 2 of c^*(r)'"
      ]
     },
     "execution_count": 68,
     "metadata": {},
     "output_type": "execute_result"
    }
   ],
   "source": [
    "make_simple_plot(z, f2, \"z\", \"$f2_{ij}(z)$\", \"Moment 2 of c^*(r)\", yliml=[-40, 5])"
   ]
  },
  {
   "cell_type": "markdown",
   "metadata": {},
   "source": [
    "Initial guess for solution $t_{wi}(z)$ - solving $F(t(z)) = 0$"
   ]
  },
  {
   "cell_type": "code",
   "execution_count": 69,
   "metadata": {},
   "outputs": [],
   "source": [
    "tw_initial = np.zeros((n_point, n_component))    # initial guess of zero - maybe should be \\beta \\phi\n",
    "\n",
    "# tw = beta_phiw_i"
   ]
  },
  {
   "cell_type": "code",
   "execution_count": 70,
   "metadata": {},
   "outputs": [
    {
     "data": {
      "image/png": "[encoded data removed]",
      "text/plain": [
       "<Figure size 432x288 with 1 Axes>"
      ]
     },
     "metadata": {
      "needs_background": "light"
     },
     "output_type": "display_data"
    },
    {
     "data": {
      "text/plain": [
       "'Initial guess for $t_{wi}(z)$'"
      ]
     },
     "execution_count": 70,
     "metadata": {},
     "output_type": "execute_result"
    }
   ],
   "source": [
    "make_simple_plot(z, tw_initial, \"z\", \"$t_{wi}(z)$\", \"Initial guess for $t_{wi}(z)$\")"
   ]
  },
  {
   "cell_type": "code",
   "execution_count": 71,
   "metadata": {},
   "outputs": [],
   "source": [
    "def calc_hw(tw, beta_phiw):\n",
    "    for i in range(n_component):\n",
    "        hw[:, i] = np.exp(tw[:, i] - beta_phiw[:, i]) - 1.0\n",
    "    return hw\n"
   ]
  },
  {
   "cell_type": "code",
   "execution_count": 72,
   "metadata": {},
   "outputs": [],
   "source": [
    "hw = calc_hw(tw_initial, beta_phiw)"
   ]
  },
  {
   "cell_type": "code",
   "execution_count": 73,
   "metadata": {},
   "outputs": [
    {
     "data": {
      "image/png": "[encoded data removed]",
      "text/plain": [
       "<Figure size 432x288 with 1 Axes>"
      ]
     },
     "metadata": {
      "needs_background": "light"
     },
     "output_type": "display_data"
    },
    {
     "data": {
      "text/plain": [
       "'Initial version of $h_{wi}(z)$'"
      ]
     },
     "execution_count": 73,
     "metadata": {},
     "output_type": "execute_result"
    }
   ],
   "source": [
    "make_simple_plot(z, hw, \"z\", \"$h_{wi}(z)$\", \"Initial version of $h_{wi}(z)$\", yliml=[-1, 2])"
   ]
  },
  {
   "cell_type": "code",
   "execution_count": 74,
   "metadata": {},
   "outputs": [],
   "source": [
    "beta_psi =  beta * psi_0"
   ]
  },
  {
   "cell_type": "code",
   "execution_count": 75,
   "metadata": {},
   "outputs": [
    {
     "data": {
      "text/plain": [
       "6.737646991665042e+18"
      ]
     },
     "execution_count": 75,
     "metadata": {},
     "output_type": "execute_result"
    }
   ],
   "source": [
    "beta_psi"
   ]
  },
  {
   "cell_type": "code",
   "execution_count": 76,
   "metadata": {},
   "outputs": [
    {
     "data": {
      "text/plain": [
       "array([[219.29693428, 219.29693428],\n",
       "       [211.16274464, 211.16274464],\n",
       "       [203.06973038, 203.06973038],\n",
       "       ...,\n",
       "       [  0.        ,   0.        ],\n",
       "       [  0.        ,   0.        ],\n",
       "       [  0.        ,   0.        ]])"
      ]
     },
     "execution_count": 76,
     "metadata": {},
     "output_type": "execute_result"
    }
   ],
   "source": [
    "np.log(np.exp(beta_phiw))"
   ]
  },
  {
   "cell_type": "code",
   "execution_count": 77,
   "metadata": {},
   "outputs": [
    {
     "data": {
      "text/markdown": [
       "$$ \\large t_{wi}(z) = \\ln \\left[ g_{wi}(z) \\exp(\\beta \\phi_{wi}(z)) \\right] $$"
      ],
      "text/plain": [
       "<IPython.core.display.Markdown object>"
      ]
     },
     "metadata": {},
     "output_type": "display_data"
    },
    {
     "data": {
      "text/markdown": [
       "$$ t_{wi}(z) ~=~ - \\beta q_i \\psi_0 + 2 \\pi \\sum_{j} \\bar{\\rho_j} \\left \\{  z f_{ij}^{(1)}(z) - f_{ij}^{(2)}(z) - \\left( 2 \\beta q_i q_j / \\varepsilon \\right ) \\left(  \\int_0^z dt t h_{wj}(t) + z \\int_{z}^{\\infty} dt h_{wj}(t) \\right) + \\int_0^{\\infty} dt h_{wj}(t) f_{ij}^{(1)} ( | z - t | ) \\right \\} $$"
      ],
      "text/plain": [
       "<IPython.core.display.Markdown object>"
      ]
     },
     "metadata": {},
     "output_type": "display_data"
    }
   ],
   "source": [
    "read_render_markdown_file(\"../docs/equation_5_9.md\")\n",
    "read_render_markdown_file(\"../docs/equation_5_9b.md\")"
   ]
  },
  {
   "cell_type": "code",
   "execution_count": 78,
   "metadata": {},
   "outputs": [],
   "source": [
    "integral_0_z = np.zeros((n_point, n_component))\n",
    "integral_z_infty = np.zeros((n_point, n_component))"
   ]
  },
  {
   "cell_type": "code",
   "execution_count": 79,
   "metadata": {},
   "outputs": [
    {
     "data": {
      "text/plain": [
       "1.0794900578186124"
      ]
     },
     "execution_count": 79,
     "metadata": {},
     "output_type": "execute_result"
    }
   ],
   "source": [
    "beta_psi * charge[0]"
   ]
  },
  {
   "cell_type": "code",
   "execution_count": 80,
   "metadata": {},
   "outputs": [
    {
     "data": {
      "text/plain": [
       "310.8854826014649"
      ]
     },
     "execution_count": 80,
     "metadata": {},
     "output_type": "execute_result"
    }
   ],
   "source": [
    "2.0 * beta * charge[0] * charge[0] / epsilon * 1e10"
   ]
  },
  {
   "cell_type": "markdown",
   "metadata": {},
   "source": [
    "#### TODO: Check limits to make sure treating end points of arrays appropriately\n",
    "\n"
   ]
  },
  {
   "cell_type": "code",
   "execution_count": 81,
   "metadata": {},
   "outputs": [],
   "source": [
    "beta_psi_charge = np.zeros((n_point, n_component))"
   ]
  },
  {
   "cell_type": "code",
   "execution_count": 82,
   "metadata": {},
   "outputs": [],
   "source": [
    "def calc_tw_term_by_term(tw_in, beta_psi, rho, f1, f2, z):\n",
    "    hw = calc_hw(tw_in, beta_phiw)\n",
    "\n",
    "    for i in range(n_component):\n",
    "        for k in range(n_point):\n",
    "            integral_0_z[k, i] = trapezoid(y=hw[:k, i], x=z[:k])\n",
    "            integral_z_infty[k, i] = trapezoid(y=z[k:] * hw[k:, i], x=z[k:])\n",
    "\n",
    "    for i in range(n_component):\n",
    "        beta_psi_charge[:, i] = -beta_psi * charge[i]\n",
    "        for k in range(n_point):\n",
    "            z_minus_t = np.flip(z_indices[:k])\n",
    "            t_minus_z = z_indices[k:] - k\n",
    "            for j in range(n_component):\n",
    "                l = calc_l_index(i, j)\n",
    "                tw[k, i] = beta_psi_charge[k, i] + 2.0 * np.pi * rho[j] * (z[k] * f1[k, l] - f2[k, l])\n",
    "                # +\n",
    "                #                                               (2.0 * beta * charge[i] * charge[j] / epsilon) *\n",
    "                #                                               (integral_z_infty[k, j] + z[k] * integral_0_z[k, j])\n",
    "                #                                               + trapezoid(y=hw[:k, j] * f1[z_minus_t, l])\n",
    "                #                                               + trapezoid(y=hw[k:, j] * f1[t_minus_z, l]))\n",
    "    return hw, integral_0_z, integral_z_infty, beta_psi_charge, z_minus_t, t_minus_z, tw, k"
   ]
  },
  {
   "cell_type": "code",
   "execution_count": 83,
   "metadata": {},
   "outputs": [],
   "source": [
    "hw_initial, integral_0_z, integral_z_infty, beta_psi_charge, z_minus_t, t_minus_z, tw, k = calc_tw_term_by_term(tw_initial, beta_psi, rho, f1, f2, z)"
   ]
  },
  {
   "cell_type": "code",
   "execution_count": 84,
   "metadata": {},
   "outputs": [
    {
     "data": {
      "image/png": "[encoded data removed]",
      "text/plain": [
       "<Figure size 432x288 with 1 Axes>"
      ]
     },
     "metadata": {
      "needs_background": "light"
     },
     "output_type": "display_data"
    },
    {
     "data": {
      "image/png": "[encoded data removed]",
      "text/plain": [
       "<Figure size 432x288 with 1 Axes>"
      ]
     },
     "metadata": {
      "needs_background": "light"
     },
     "output_type": "display_data"
    },
    {
     "data": {
      "image/png": "[encoded data removed]",
      "text/plain": [
       "<Figure size 432x288 with 1 Axes>"
      ]
     },
     "metadata": {
      "needs_background": "light"
     },
     "output_type": "display_data"
    },
    {
     "data": {
      "image/png": "[encoded data removed]",
      "text/plain": [
       "<Figure size 432x288 with 1 Axes>"
      ]
     },
     "metadata": {
      "needs_background": "light"
     },
     "output_type": "display_data"
    },
    {
     "data": {
      "image/png": "[encoded data removed]",
      "text/plain": [
       "<Figure size 432x288 with 1 Axes>"
      ]
     },
     "metadata": {
      "needs_background": "light"
     },
     "output_type": "display_data"
    },
    {
     "data": {
      "image/png": "[encoded data removed]",
      "text/plain": [
       "<Figure size 432x288 with 1 Axes>"
      ]
     },
     "metadata": {
      "needs_background": "light"
     },
     "output_type": "display_data"
    },
    {
     "data": {
      "text/plain": [
       "'hw'"
      ]
     },
     "execution_count": 84,
     "metadata": {},
     "output_type": "execute_result"
    }
   ],
   "source": [
    "make_simple_plot(z, hw_initial, title=\"hw_initial\", yliml=[-1, 0])\n",
    "make_simple_plot(z, integral_0_z, title=\"integral_0_z\", yliml=[-5, 5])\n",
    "make_simple_plot(z, integral_z_infty, title=\"integral_z_infty\", yliml=[-5, 5])\n",
    "make_simple_plot(z, beta_psi_charge, title=\"beta_psi_charge\")\n",
    "make_simple_plot(z, tw, title=\"tw\", yliml=[-10, 10])\n",
    "make_simple_plot(z, calc_hw(tw, beta_phiw), title=\"hw\", yliml=[-2, 8])"
   ]
  },
  {
   "cell_type": "code",
   "execution_count": 85,
   "metadata": {},
   "outputs": [],
   "source": [
    "def calc_tw(tw_in, beta_psi, rho, f1, f2, z):\n",
    "    hw = calc_hw(tw_in, beta_phiw)\n",
    "\n",
    "    for i in range(n_component):\n",
    "        for k in range(n_point):\n",
    "            integral_0_z[k, i] = trapezoid(y=hw[:k, i], x=z[:k])\n",
    "            integral_z_infty[k, i] = trapezoid(y=z[k:] * hw[k:, i], x=z[k:])\n",
    "\n",
    "    for i in range(n_component):\n",
    "        beta_psi_charge[:, i] = -beta_psi * charge[i]\n",
    "        for k in range(n_point):\n",
    "            z_minus_t = np.flip(z_indices[:k])\n",
    "            t_minus_z = z_indices[k:] - k\n",
    "            for j in range(n_component):\n",
    "                l = calc_l_index(i, j)\n",
    "                tw[k, i] = beta_psi_charge[k, i] + 2.0 * np.pi * rho[j] * (z[k] * f1[k, l] - f2[k, l] +\n",
    "                                                              (2.0 * beta * charge[i] * charge[j] / epsilon / 1e10) *\n",
    "                                                              (integral_z_infty[k, j] + z[k] * integral_0_z[k, j])\n",
    "                                                              + trapezoid(y=hw[:k, j] * f1[z_minus_t, l])\n",
    "                                                              + trapezoid(y=hw[k:, j] * f1[t_minus_z, l]))\n",
    "    return tw\n"
   ]
  },
  {
   "cell_type": "code",
   "execution_count": 86,
   "metadata": {},
   "outputs": [],
   "source": [
    "# print(\"Notebook execution aborted.\")\n",
    "# assert(False)\n",
    "\n",
    "# STOP_CALCULATION"
   ]
  },
  {
   "cell_type": "markdown",
   "metadata": {},
   "source": [
    "### Numerical solver: Newton-GMRES"
   ]
  },
  {
   "cell_type": "code",
   "execution_count": 87,
   "metadata": {},
   "outputs": [],
   "source": [
    "# this should equal 0 (as t(z) converges to solution)\n",
    "\n",
    "def opt_func(tw):\n",
    "    return tw - calc_tw(tw, beta_psi, rho, f1, f2, z)"
   ]
  },
  {
   "cell_type": "code",
   "execution_count": 88,
   "metadata": {},
   "outputs": [],
   "source": [
    "tolerance = 1e-9"
   ]
  },
  {
   "cell_type": "code",
   "execution_count": 89,
   "metadata": {},
   "outputs": [
    {
     "name": "stdout",
     "output_type": "stream",
     "text": [
      "0:  |F(x)| = 55.6519; step 0.0511985\n",
      "1:  |F(x)| = 52.697; step 0.0828371\n",
      "2:  |F(x)| = 46.9173; step 0.167511\n",
      "3:  |F(x)| = 30.5482; step 0.493538\n",
      "4:  |F(x)| = 29.6365; step 1\n",
      "5:  |F(x)| = 25.1308; step 1\n",
      "6:  |F(x)| = 22.0025; step 0.480716\n",
      "7:  |F(x)| = 22.23; step 1\n",
      "8:  |F(x)| = 21.7994; step 0.499312\n",
      "9:  |F(x)| = 22.777; step 1\n",
      "10:  |F(x)| = 21.8745; step 1\n",
      "11:  |F(x)| = 21.9568; step 1\n",
      "12:  |F(x)| = 21.9067; step 0.0175735\n",
      "13:  |F(x)| = 21.8426; step 0.0212153\n",
      "14:  |F(x)| = 21.765; step 0.0241841\n",
      "15:  |F(x)| = 21.6618; step 0.0281649\n",
      "16:  |F(x)| = 21.4678; step 0.0524962\n",
      "17:  |F(x)| = 21.5483; step 0.0850134\n",
      "18:  |F(x)| = 21.5883; step 0.0717981\n",
      "19:  |F(x)| = 21.5609; step 0.0353577\n"
     ]
    }
   ],
   "source": [
    "# Documentation: https://scipy.github.io/devdocs/reference/optimize.root-krylov.html\n",
    "\n",
    "solution = optim.root(opt_func, tw_initial, method=\"krylov\", jac=None,\n",
    "                      tol=tolerance, callback=None, options={\"disp\": True, \"maxiter\": 20})\n"
   ]
  },
  {
   "cell_type": "code",
   "execution_count": 90,
   "metadata": {},
   "outputs": [],
   "source": [
    "tw_solution = solution.x"
   ]
  },
  {
   "cell_type": "code",
   "execution_count": 91,
   "metadata": {},
   "outputs": [
    {
     "data": {
      "text/plain": [
       "20"
      ]
     },
     "execution_count": 91,
     "metadata": {},
     "output_type": "execute_result"
    }
   ],
   "source": [
    "solution.nit"
   ]
  },
  {
   "cell_type": "code",
   "execution_count": 92,
   "metadata": {},
   "outputs": [
    {
     "data": {
      "image/png": "[encoded data removed]",
      "text/plain": [
       "<Figure size 432x288 with 1 Axes>"
      ]
     },
     "metadata": {
      "needs_background": "light"
     },
     "output_type": "display_data"
    },
    {
     "data": {
      "text/plain": [
       "'Solution for $t_{wi}(z)$'"
      ]
     },
     "execution_count": 92,
     "metadata": {},
     "output_type": "execute_result"
    }
   ],
   "source": [
    "make_simple_plot(z, tw_solution, \"z\", \"t_{wi}(z)$\", \"Solution for $t_{wi}(z)$\", xliml=[0, 20], yliml=[-2, 2])"
   ]
  },
  {
   "cell_type": "code",
   "execution_count": 93,
   "metadata": {},
   "outputs": [],
   "source": [
    "hw_solution = calc_hw(tw_solution, beta_phiw)"
   ]
  },
  {
   "cell_type": "code",
   "execution_count": 94,
   "metadata": {},
   "outputs": [
    {
     "data": {
      "image/png": "[encoded data removed]",
      "text/plain": [
       "<Figure size 432x288 with 1 Axes>"
      ]
     },
     "metadata": {
      "needs_background": "light"
     },
     "output_type": "display_data"
    },
    {
     "data": {
      "text/plain": [
       "'Solution for $g_{wi}(z)$'"
      ]
     },
     "execution_count": 94,
     "metadata": {},
     "output_type": "execute_result"
    }
   ],
   "source": [
    "make_simple_plot(z, hw_solution+1, \"z\", \"g_{wi}(z)$\", \"Solution for $g_{wi}(z)$\", xliml=[0, 20], yliml=[0, 5])"
   ]
  },
  {
   "cell_type": "code",
   "execution_count": 95,
   "metadata": {},
   "outputs": [
    {
     "data": {
      "text/plain": [
       "array([[0., 0.],\n",
       "       [0., 0.],\n",
       "       [0., 0.],\n",
       "       ...,\n",
       "       [0., 0.],\n",
       "       [0., 0.],\n",
       "       [0., 0.]])"
      ]
     },
     "execution_count": 95,
     "metadata": {},
     "output_type": "execute_result"
    }
   ],
   "source": [
    "opt_func(tw)"
   ]
  },
  {
   "cell_type": "code",
   "execution_count": null,
   "metadata": {},
   "outputs": [],
   "source": []
  }
 ],
 "metadata": {
  "kernelspec": {
   "display_name": "Python 3.9.12 ('.venv_phd-thesis': venv)",
   "language": "python",
   "name": "python3"
  },
  "language_info": {
   "codemirror_mode": {
    "name": "ipython",
    "version": 3
   },
   "file_extension": ".py",
   "mimetype": "text/x-python",
   "name": "python",
   "nbconvert_exporter": "python",
   "pygments_lexer": "ipython3",
   "version": "3.9.12"
  },
  "orig_nbformat": 4,
  "vscode": {
   "interpreter": {
    "hash": "efcec08cf809be12f43e7dcea9299edcddae7b0767a012083e6ceef75ec1ca14"
   }
  }
 },
 "nbformat": 4,
 "nbformat_minor": 2
}
