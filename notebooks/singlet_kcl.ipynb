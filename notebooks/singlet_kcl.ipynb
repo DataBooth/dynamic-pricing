{
 "cells": [
  {
   "cell_type": "code",
   "execution_count": 1,
   "metadata": {},
   "outputs": [],
   "source": [
    "# allow for imports from ../src directory\n",
    "\n",
    "from os import path as os_path\n",
    "from os import getcwd\n",
    "from sys import path as sys_path\n",
    "\n",
    "sys_path.append(os_path.dirname(getcwd())) "
   ]
  },
  {
   "cell_type": "code",
   "execution_count": 87,
   "metadata": {},
   "outputs": [],
   "source": [
    "import scipy.optimize as optim\n",
    "import numpy as np\n",
    "import pandas as pd\n",
    "import siunits as unit\n",
    "\n",
    "from scipy import interpolate\n",
    "from scipy.integrate import trapezoid\n",
    "from scipy.constants import epsilon_0, elementary_charge, Boltzmann, Avogadro\n",
    "from src.helper_functions import read_render_markdown_file\n",
    "from src.plotting import make_simple_plot"
   ]
  },
  {
   "cell_type": "markdown",
   "metadata": {},
   "source": [
    "### Physical constants\n",
    "\n",
    "1. the electric constant (vacuum permittivity) $\\epsilon_0$. Units:  $\\textstyle{\\rm s^{4}\\cdot A^{2}\\cdot kg^{-1}\\cdot m^{-3}}$ or $\\textstyle{\\rm C^2 \\cdot N^{−1} \\cdot m^{−2}}$ or $\\textstyle{\\rm C \\cdot V^{−1} \\cdot m^{−1}}$ "
   ]
  },
  {
   "cell_type": "code",
   "execution_count": 3,
   "metadata": {},
   "outputs": [
    {
     "data": {
      "text/plain": [
       "ampere²·second⁴·meter⁻³·kilogram⁻¹ (A²·s⁴·m⁻³·kg⁻¹), [kg: -1, s: 4, A: 2, m: -3]"
      ]
     },
     "execution_count": 3,
     "metadata": {},
     "output_type": "execute_result"
    }
   ],
   "source": [
    "unit.epsilon_0"
   ]
  },
  {
   "cell_type": "code",
   "execution_count": 4,
   "metadata": {},
   "outputs": [
    {
     "data": {
      "text/plain": [
       "8.8541878128e-12"
      ]
     },
     "execution_count": 4,
     "metadata": {},
     "output_type": "execute_result"
    }
   ],
   "source": [
    "epsilon_0"
   ]
  },
  {
   "cell_type": "markdown",
   "metadata": {},
   "source": [
    "2. Elementary charge (charge on electron). Units: $\\rm C$"
   ]
  },
  {
   "cell_type": "code",
   "execution_count": 5,
   "metadata": {},
   "outputs": [
    {
     "data": {
      "text/plain": [
       "coulomb (C), [s: 1, A: 1]"
      ]
     },
     "execution_count": 5,
     "metadata": {},
     "output_type": "execute_result"
    }
   ],
   "source": [
    "unit.c"
   ]
  },
  {
   "cell_type": "code",
   "execution_count": 6,
   "metadata": {},
   "outputs": [
    {
     "data": {
      "text/plain": [
       "1.602176634e-19"
      ]
     },
     "execution_count": 6,
     "metadata": {},
     "output_type": "execute_result"
    }
   ],
   "source": [
    "elementary_charge"
   ]
  },
  {
   "cell_type": "markdown",
   "metadata": {},
   "source": [
    "3. Boltzmann constant. Units: $\\rm m^2 \\cdot kg \\cdot s^{-2} \\cdot {K}^{-1}$"
   ]
  },
  {
   "cell_type": "code",
   "execution_count": 7,
   "metadata": {},
   "outputs": [
    {
     "data": {
      "text/plain": [
       "1.380649e-23"
      ]
     },
     "execution_count": 7,
     "metadata": {},
     "output_type": "execute_result"
    }
   ],
   "source": [
    "Boltzmann"
   ]
  },
  {
   "cell_type": "markdown",
   "metadata": {},
   "source": [
    "4. Avogadro's number. Units: $\\rm mol^{-1}$"
   ]
  },
  {
   "cell_type": "code",
   "execution_count": 8,
   "metadata": {},
   "outputs": [
    {
     "data": {
      "text/plain": [
       "6.02214076e+23"
      ]
     },
     "execution_count": 8,
     "metadata": {},
     "output_type": "execute_result"
    }
   ],
   "source": [
    "Avogadro"
   ]
  },
  {
   "cell_type": "markdown",
   "metadata": {},
   "source": [
    "### Singlet model parameters\n",
    "\n",
    "See Page 62"
   ]
  },
  {
   "cell_type": "markdown",
   "metadata": {},
   "source": [
    "Dictionary of model parameters"
   ]
  },
  {
   "cell_type": "code",
   "execution_count": 9,
   "metadata": {},
   "outputs": [],
   "source": [
    "fluid = \"kcl\""
   ]
  },
  {
   "cell_type": "code",
   "execution_count": 10,
   "metadata": {},
   "outputs": [],
   "source": [
    "parameters = dict({\"kcl\": dict({\"component\": [\"K\", \"Cl\"], \"valence\": np.array([\n",
    "                  1.0, -1.0]), \"temperature\": 1075.0, \"concentration\": [19.265, 19.265],\n",
    "                  \"eps_r\": 1.0})})\n"
   ]
  },
  {
   "cell_type": "code",
   "execution_count": 11,
   "metadata": {},
   "outputs": [
    {
     "data": {
      "text/plain": [
       "{'kcl': {'component': ['K', 'Cl'],\n",
       "  'valence': array([ 1., -1.]),\n",
       "  'temperature': 1075.0,\n",
       "  'concentration': [19.265, 19.265],\n",
       "  'eps_r': 1.0}}"
      ]
     },
     "execution_count": 11,
     "metadata": {},
     "output_type": "execute_result"
    }
   ],
   "source": [
    "parameters"
   ]
  },
  {
   "cell_type": "code",
   "execution_count": 12,
   "metadata": {},
   "outputs": [
    {
     "name": "stdout",
     "output_type": "stream",
     "text": [
      "Created variable - component: ['K', 'Cl']\n",
      "Created variable - valence: [ 1. -1.]\n",
      "Created variable - temperature: 1075.0\n",
      "Created variable - concentration: [19.265, 19.265]\n",
      "Created variable - eps_r: 1.0\n"
     ]
    }
   ],
   "source": [
    "for param_name in parameters[fluid].keys():\n",
    "    locals().__setitem__(param_name, parameters[fluid][param_name])\n",
    "    print(f\"Created variable - {param_name}: {str(parameters[fluid][param_name])}\")\n",
    "\n",
    "\n",
    "n_component = len(component)\n",
    "n_pair = int((n_component+1) * (n_component) / 2)"
   ]
  },
  {
   "cell_type": "markdown",
   "metadata": {},
   "source": [
    "Numerical discretisation"
   ]
  },
  {
   "cell_type": "code",
   "execution_count": 13,
   "metadata": {},
   "outputs": [],
   "source": [
    "z_cutoff = 50.0    # from UI\n",
    "n_point = 2001     # from UI\n",
    "grid_size = z_cutoff / (n_point - 1) \n",
    "z = np.linspace(0.0, z_cutoff, n_point)"
   ]
  },
  {
   "cell_type": "markdown",
   "metadata": {},
   "source": [
    "$\\beta = 1 / k T$. Units: $\\rm m^{-2} \\cdot kg^{-1} \\cdot s^{2}$"
   ]
  },
  {
   "cell_type": "code",
   "execution_count": 14,
   "metadata": {},
   "outputs": [],
   "source": [
    "beta = 1.0 / (Boltzmann * temperature)"
   ]
  },
  {
   "cell_type": "code",
   "execution_count": 15,
   "metadata": {},
   "outputs": [],
   "source": [
    "epsilon = 4.0 * np.pi * eps_r * epsilon_0   # units same as $\\epsilon_0$"
   ]
  },
  {
   "cell_type": "code",
   "execution_count": 16,
   "metadata": {},
   "outputs": [
    {
     "data": {
      "text/plain": [
       "1.1126500554478704e-10"
      ]
     },
     "execution_count": 16,
     "metadata": {},
     "output_type": "execute_result"
    }
   ],
   "source": [
    "epsilon"
   ]
  },
  {
   "cell_type": "markdown",
   "metadata": {},
   "source": [
    "Model potential KCl"
   ]
  },
  {
   "cell_type": "code",
   "execution_count": 17,
   "metadata": {},
   "outputs": [
    {
     "data": {
      "text/markdown": [
       "$$ u_{ij}(r) = \\frac{q_i q_j}{\\varepsilon r} + B_{ij} \\exp(-\\alpha r) + \\frac{C_ij}{r^6} + \\frac{D_{ij}}{r^8} $$"
      ],
      "text/plain": [
       "<IPython.core.display.Markdown object>"
      ]
     },
     "metadata": {},
     "output_type": "display_data"
    },
    {
     "data": {
      "text/markdown": [
       "$$ B_{ij} = \\beta_{ij} \\, b \\exp[\\alpha(\\sigma_i + \\sigma_j)] $$"
      ],
      "text/plain": [
       "<IPython.core.display.Markdown object>"
      ]
     },
     "metadata": {},
     "output_type": "display_data"
    },
    {
     "data": {
      "text/markdown": [
       "$$ \\beta_{ij} = 1 + \\frac{Z_i}{n_i} + \\frac{Z_j}{n_j} $$"
      ],
      "text/plain": [
       "<IPython.core.display.Markdown object>"
      ]
     },
     "metadata": {},
     "output_type": "display_data"
    }
   ],
   "source": [
    "read_render_markdown_file(\"../docs/equation_4_1.md\")\n",
    "read_render_markdown_file(\"../docs/equation_4_2.md\")\n",
    "read_render_markdown_file(\"../docs/equation_4_3.md\")"
   ]
  },
  {
   "cell_type": "code",
   "execution_count": 18,
   "metadata": {},
   "outputs": [],
   "source": [
    "n_outer_shell = np.array([8., 8.])"
   ]
  },
  {
   "cell_type": "code",
   "execution_count": 19,
   "metadata": {},
   "outputs": [],
   "source": [
    "def calc_l_index(i, j):\n",
    "    return i + j    "
   ]
  },
  {
   "cell_type": "code",
   "execution_count": 20,
   "metadata": {},
   "outputs": [],
   "source": [
    "def calc_beta_pauling(valence, n_outer_shell):\n",
    "    beta_pauling = np.zeros(n_pair)\n",
    "    for i in range(n_component):\n",
    "        for j in range(i, n_component):\n",
    "            l = calc_l_index(i, j)\n",
    "            beta_pauling[l] = 1.0 + valence[i] / n_outer_shell[i] + valence[j] / n_outer_shell[j]\n",
    "    return beta_pauling"
   ]
  },
  {
   "cell_type": "code",
   "execution_count": 21,
   "metadata": {},
   "outputs": [],
   "source": [
    "beta_pauling = calc_beta_pauling(valence, n_outer_shell)"
   ]
  },
  {
   "cell_type": "code",
   "execution_count": 22,
   "metadata": {},
   "outputs": [
    {
     "data": {
      "text/plain": [
       "array([1.25, 1.  , 0.75])"
      ]
     },
     "execution_count": 22,
     "metadata": {},
     "output_type": "execute_result"
    }
   ],
   "source": [
    "beta_pauling"
   ]
  },
  {
   "cell_type": "code",
   "execution_count": 23,
   "metadata": {},
   "outputs": [],
   "source": [
    "alpha = 1.0 / 0.337\n",
    "b = 0.338e-19\n",
    "sigma = [1.463, 1.585]\n",
    "\n",
    "cap_c = np.array([24.3, 48.0, 124.5]) * 1e-19\n",
    "cap_d = np.array([24.0, 73.0, 250.0]) * 1e-19"
   ]
  },
  {
   "cell_type": "code",
   "execution_count": 24,
   "metadata": {},
   "outputs": [],
   "source": [
    "def calc_cap_b(beta_pauling, b, alpha, sigma):\n",
    "    cap_b = np.zeros(n_pair)\n",
    "    for i in range(n_component):\n",
    "        for j in range(i, n_component):\n",
    "            l = calc_l_index(i, j)\n",
    "            cap_b[l] = beta_pauling[l] * b * np.exp(alpha * (sigma[i] + sigma[j]))\n",
    "    return cap_b"
   ]
  },
  {
   "cell_type": "code",
   "execution_count": 25,
   "metadata": {},
   "outputs": [],
   "source": [
    "cap_b = calc_cap_b(beta_pauling, b, alpha, sigma)"
   ]
  },
  {
   "cell_type": "code",
   "execution_count": 26,
   "metadata": {},
   "outputs": [
    {
     "data": {
      "text/plain": [
       "array([16791.65813278, 19293.2728126 , 20782.10350479])"
      ]
     },
     "execution_count": 26,
     "metadata": {},
     "output_type": "execute_result"
    }
   ],
   "source": [
    "beta * cap_b"
   ]
  },
  {
   "cell_type": "code",
   "execution_count": 27,
   "metadata": {},
   "outputs": [],
   "source": [
    "#TODO: Fix up choice of c(r) / c*(r) and make sure discretisation matches\n",
    "\n",
    "# Read in some c(r)\n",
    "def load_cr():\n",
    "    CR_PATH = \"../pyOZ_bulk_fluid/tests/lj/nrcg-cr.dat.orig\"\n",
    "    cr_df = pd.read_csv(CR_PATH, header=None, delim_whitespace=True)\n",
    "    cr_df.set_index(0, inplace=True)\n",
    "    r = cr_df.index.to_numpy()\n",
    "    cr = cr_df.to_numpy()\n",
    "    return cr, r"
   ]
  },
  {
   "cell_type": "code",
   "execution_count": 28,
   "metadata": {},
   "outputs": [],
   "source": [
    "cr_in, r_in = load_cr()"
   ]
  },
  {
   "cell_type": "code",
   "execution_count": 29,
   "metadata": {},
   "outputs": [
    {
     "data": {
      "image/png": "[encoded data removed]",
      "text/plain": [
       "<Figure size 432x288 with 1 Axes>"
      ]
     },
     "metadata": {
      "needs_background": "light"
     },
     "output_type": "display_data"
    },
    {
     "data": {
      "text/plain": [
       "'cr'"
      ]
     },
     "execution_count": 29,
     "metadata": {},
     "output_type": "execute_result"
    }
   ],
   "source": [
    "make_simple_plot(r_in, cr_in, \"r\", \"cr\", \"cr\", yliml=[-2, 2])"
   ]
  },
  {
   "cell_type": "code",
   "execution_count": 30,
   "metadata": {},
   "outputs": [],
   "source": [
    "\n",
    "def interpolate_cr(r_in, cr_in):\n",
    "    cr = np.zeros((n_point, n_pair))\n",
    "    for l in range(n_pair):\n",
    "        f = interpolate.interp1d(r_in, cr_in[:, l])\n",
    "        r = z\n",
    "        cr[:, l] = f(r)\n",
    "    return cr, r"
   ]
  },
  {
   "cell_type": "code",
   "execution_count": 31,
   "metadata": {},
   "outputs": [],
   "source": [
    "cr, r = interpolate_cr(r_in, cr_in)"
   ]
  },
  {
   "cell_type": "code",
   "execution_count": 32,
   "metadata": {},
   "outputs": [
    {
     "data": {
      "image/png": "[encoded data removed]",
      "text/plain": [
       "<Figure size 432x288 with 1 Axes>"
      ]
     },
     "metadata": {
      "needs_background": "light"
     },
     "output_type": "display_data"
    },
    {
     "data": {
      "text/plain": [
       "'cr'"
      ]
     },
     "execution_count": 32,
     "metadata": {},
     "output_type": "execute_result"
    }
   ],
   "source": [
    "make_simple_plot(r, cr, \"r\", \"cr\", \"cr\", yliml=[-2, 2])"
   ]
  },
  {
   "cell_type": "code",
   "execution_count": 33,
   "metadata": {},
   "outputs": [],
   "source": [
    "def calc_charge(valence):\n",
    "    return valence * elementary_charge"
   ]
  },
  {
   "cell_type": "code",
   "execution_count": 34,
   "metadata": {},
   "outputs": [],
   "source": [
    "charge = calc_charge(valence)"
   ]
  },
  {
   "cell_type": "code",
   "execution_count": 35,
   "metadata": {},
   "outputs": [
    {
     "data": {
      "text/plain": [
       "2.899159155879487e-27"
      ]
     },
     "execution_count": 35,
     "metadata": {},
     "output_type": "execute_result"
    }
   ],
   "source": [
    "elementary_charge * elementary_charge / epsilon_0"
   ]
  },
  {
   "cell_type": "code",
   "execution_count": 36,
   "metadata": {},
   "outputs": [],
   "source": [
    "# Use same discretisation for r as z [Confirm?]\n",
    "\n",
    "def calc_u(valence, cap_b, alpha, cap_c, cap_d, r):\n",
    "    u = np.zeros((n_point, n_pair))\n",
    "    for i in range(n_component):\n",
    "        for j in range(i, n_component):\n",
    "            l = calc_l_index(i, j)\n",
    "            u[1:, l] = charge[i] * charge[j]  / (r[1:] * epsilon * 1e10)\n",
    "    return u \n"
   ]
  },
  {
   "cell_type": "code",
   "execution_count": 37,
   "metadata": {},
   "outputs": [],
   "source": [
    "u = calc_u(charge, cap_b, alpha, cap_c, cap_d, r)"
   ]
  },
  {
   "cell_type": "code",
   "execution_count": 38,
   "metadata": {},
   "outputs": [
    {
     "data": {
      "text/plain": [
       "array([[ 0.00000000e+00,  0.00000000e+00,  0.00000000e+00],\n",
       "       [ 6.21770965e-17, -6.21770965e-17,  6.21770965e-17],\n",
       "       [ 3.10885483e-17, -3.10885483e-17,  3.10885483e-17],\n",
       "       ...,\n",
       "       [ 3.11196679e-20, -3.11196679e-20,  3.11196679e-20],\n",
       "       [ 3.11041003e-20, -3.11041003e-20,  3.11041003e-20],\n",
       "       [ 3.10885483e-20, -3.10885483e-20,  3.10885483e-20]])"
      ]
     },
     "execution_count": 38,
     "metadata": {},
     "output_type": "execute_result"
    }
   ],
   "source": [
    "beta * u"
   ]
  },
  {
   "cell_type": "code",
   "execution_count": 39,
   "metadata": {},
   "outputs": [
    {
     "data": {
      "image/png": "[encoded data removed]",
      "text/plain": [
       "<Figure size 432x288 with 1 Axes>"
      ]
     },
     "metadata": {
      "needs_background": "light"
     },
     "output_type": "display_data"
    },
    {
     "data": {
      "text/plain": [
       "'Dimensionless ion-ion potential'"
      ]
     },
     "execution_count": 39,
     "metadata": {},
     "output_type": "execute_result"
    }
   ],
   "source": [
    "make_simple_plot(r, beta * u, \"r\", \"u\", \"Dimensionless ion-ion potential\")"
   ]
  },
  {
   "cell_type": "code",
   "execution_count": 40,
   "metadata": {},
   "outputs": [],
   "source": [
    "psi_0 = 0     # 0 mV  -- get from UI"
   ]
  },
  {
   "cell_type": "markdown",
   "metadata": {},
   "source": [
    "rho ($\\rho$) is the number density which we calculate from the concentration ($c$):\n",
    "\n",
    "$\\rho = c \\, \\rm mol \\, dm^{-3} \\cdot dm^{3} / 1.0 \\cdot 10^{27} \\cdot A^{3} \\cdot N_{A} \\, mol^{-1}$. Units: $\\rm A^{-3}$\n"
   ]
  },
  {
   "cell_type": "code",
   "execution_count": 41,
   "metadata": {},
   "outputs": [],
   "source": [
    "def calc_rho(concentration):\n",
    "    return np.array(concentration) / 1.0e27 * Avogadro"
   ]
  },
  {
   "cell_type": "code",
   "execution_count": 42,
   "metadata": {},
   "outputs": [],
   "source": [
    "rho = calc_rho(concentration)"
   ]
  },
  {
   "cell_type": "code",
   "execution_count": 43,
   "metadata": {},
   "outputs": [
    {
     "data": {
      "text/plain": [
       "array([0.01160165, 0.01160165])"
      ]
     },
     "execution_count": 43,
     "metadata": {},
     "output_type": "execute_result"
    }
   ],
   "source": [
    "rho   # values seem reasonable (compared with those in thesis)"
   ]
  },
  {
   "cell_type": "code",
   "execution_count": 44,
   "metadata": {},
   "outputs": [],
   "source": [
    "charge = calc_charge(valence)"
   ]
  },
  {
   "cell_type": "code",
   "execution_count": 45,
   "metadata": {},
   "outputs": [],
   "source": [
    "def calc_kappa(beta, rho, epsilon):\n",
    "    return np.sqrt(4.0 * np.pi * beta / epsilon * 1e10 *\n",
    "    sum(np.multiply(charge**2, rho)))\n"
   ]
  },
  {
   "cell_type": "code",
   "execution_count": 46,
   "metadata": {},
   "outputs": [],
   "source": [
    "kappa = calc_kappa(beta, rho, epsilon)"
   ]
  },
  {
   "cell_type": "code",
   "execution_count": 47,
   "metadata": {},
   "outputs": [
    {
     "data": {
      "text/plain": [
       "6.732325586635704"
      ]
     },
     "execution_count": 47,
     "metadata": {},
     "output_type": "execute_result"
    }
   ],
   "source": [
    "kappa      # similar to thesis value (6.77) page 62 - maybe revisions to physical constants in past 25 years (e.g. 2019 change for $e$)"
   ]
  },
  {
   "cell_type": "markdown",
   "metadata": {},
   "source": [
    "### Wall-ion soft-potential"
   ]
  },
  {
   "cell_type": "code",
   "execution_count": 48,
   "metadata": {},
   "outputs": [],
   "source": [
    "phiw = np.zeros((n_point, n_component))\n",
    "hw = np.zeros((n_point, n_component))\n",
    "tw = np.zeros((n_point, n_component))\n",
    "int_0_z = np.zeros((n_point, n_component))\n",
    "int_z_inf = np.zeros((n_point, n_component))"
   ]
  },
  {
   "cell_type": "code",
   "execution_count": 49,
   "metadata": {},
   "outputs": [],
   "source": [
    "# same for both ions\n",
    "\n",
    "def calc_phiw(z, n_component):\n",
    "    capital_a = 16.274e-19 # joules\n",
    "    wall_d = 2.97  # inverse Angstrom\n",
    "    for i in range(n_component):\n",
    "        phiw[:, i] = np.exp(-wall_d * z) * capital_a * (wall_d * z + 2)\n",
    "    return phiw\n"
   ]
  },
  {
   "cell_type": "code",
   "execution_count": 50,
   "metadata": {},
   "outputs": [],
   "source": [
    "beta_phiw = beta * calc_phiw(z, n_component)"
   ]
  },
  {
   "cell_type": "code",
   "execution_count": 51,
   "metadata": {},
   "outputs": [
    {
     "data": {
      "image/png": "[encoded data removed]",
      "text/plain": [
       "<Figure size 432x288 with 1 Axes>"
      ]
     },
     "metadata": {
      "needs_background": "light"
     },
     "output_type": "display_data"
    },
    {
     "data": {
      "text/plain": [
       "'Dimensionless wall-ion potentials'"
      ]
     },
     "execution_count": 51,
     "metadata": {},
     "output_type": "execute_result"
    }
   ],
   "source": [
    "make_simple_plot(z, beta_phiw, \"z\", \"$beta phi_{wi}(z)$\", \"Dimensionless wall-ion potentials\")"
   ]
  },
  {
   "cell_type": "markdown",
   "metadata": {},
   "source": [
    "This dimensionless plot matches well with Figure 4.1(b) of thesis."
   ]
  },
  {
   "cell_type": "markdown",
   "metadata": {},
   "source": [
    "### Bulk fluid inputs\n",
    "\n",
    "Not sure what to do here -- maybe run pyOZ for ionic fluid and try using c_{ij}(r) from this as an approximation?"
   ]
  },
  {
   "cell_type": "code",
   "execution_count": 52,
   "metadata": {},
   "outputs": [
    {
     "data": {
      "text/markdown": [
       "$$ f_{ij}^{(n)}(z) = \\int_z^{\\infty} dr r^n c_{ij}^{*} $$"
      ],
      "text/plain": [
       "<IPython.core.display.Markdown object>"
      ]
     },
     "metadata": {},
     "output_type": "display_data"
    }
   ],
   "source": [
    "read_render_markdown_file(\"../docs/equation_3_4.md\")"
   ]
  },
  {
   "cell_type": "code",
   "execution_count": 53,
   "metadata": {},
   "outputs": [
    {
     "name": "stdout",
     "output_type": "stream",
     "text": [
      "i: 0, j: 0, l: 1 0\n",
      "i: 0, j: 1, l: 2 1\n",
      "i: 1, j: 1, l: 3 2\n"
     ]
    }
   ],
   "source": [
    "l = 0\n",
    "for i in range(n_component):\n",
    "    for j in range(i, n_component):\n",
    "        l = l+1\n",
    "        print(f\"i: {i}, j: {j}, l: {l}\", calc_l_index(i, j))"
   ]
  },
  {
   "cell_type": "code",
   "execution_count": 54,
   "metadata": {},
   "outputs": [],
   "source": [
    "# Assume all of the moments of the short-ranged bulk direct correlation functions to be zero initially\n",
    "\n",
    "f1 = np.zeros((n_point, n_pair))\n",
    "f2 = np.zeros((n_point, n_pair))\n",
    "c_short = np.zeros((n_point, n_pair))"
   ]
  },
  {
   "cell_type": "code",
   "execution_count": 55,
   "metadata": {},
   "outputs": [],
   "source": [
    "# for now assume c*(r) = c(r)\n",
    "\n",
    "c_short = cr"
   ]
  },
  {
   "cell_type": "code",
   "execution_count": 56,
   "metadata": {},
   "outputs": [],
   "source": [
    "charge_pair = np.array([1, -1, 1]) * elementary_charge"
   ]
  },
  {
   "cell_type": "code",
   "execution_count": 57,
   "metadata": {},
   "outputs": [
    {
     "data": {
      "text/markdown": [
       "$$ c_{ij}^*(r) = c_{ij}(r) + \\beta q_i q_j / (\\varepsilon r) $$"
      ],
      "text/plain": [
       "<IPython.core.display.Markdown object>"
      ]
     },
     "metadata": {},
     "output_type": "display_data"
    }
   ],
   "source": [
    "read_render_markdown_file(\"../docs/equation_3_5.md\")"
   ]
  },
  {
   "cell_type": "code",
   "execution_count": 58,
   "metadata": {},
   "outputs": [],
   "source": [
    "# numpy resources - understanding 1D arrays\n",
    "\n",
    "# See https://stackoverflow.com/questions/5954603/transposing-a-1d-numpy-array\n",
    "\n",
    "# https://stackoverflow.com/questions/65248933/best-approach-to-use-numpy-1d-arrays-for-linear-algebra\n",
    "\n",
    "# https://www.oreilly.com/library/view/python-for-data/9781449323592/ch04.html\n",
    "\n",
    "# https://phys.libretexts.org/Bookshelves/Mathematical_Physics_and_Pedagogy/Computational_Physics_(Chong)/04%3A_Numerical_Linear_Algebra/4.01%3A_Array_Representations_of_Vectors_Matrices_and_Tensors"
   ]
  },
  {
   "cell_type": "code",
   "execution_count": 59,
   "metadata": {},
   "outputs": [
    {
     "data": {
      "text/plain": [
       "9.701972803875785"
      ]
     },
     "execution_count": 59,
     "metadata": {},
     "output_type": "execute_result"
    }
   ],
   "source": [
    "#TODO: Too big?\n",
    "\n",
    "beta * charge_pair[0] / epsilon / 1e10"
   ]
  },
  {
   "cell_type": "code",
   "execution_count": 60,
   "metadata": {},
   "outputs": [
    {
     "data": {
      "text/plain": [
       "array([[ 0.     ,  0.     ,  0.     ],\n",
       "       [-0.57316, -0.58233, -0.63448],\n",
       "       [-1.14632, -1.16466, -1.26896],\n",
       "       ...,\n",
       "       [ 0.     ,  0.     ,  0.     ],\n",
       "       [ 0.     ,  0.     ,  0.     ],\n",
       "       [ 0.     ,  0.     ,  0.     ]])"
      ]
     },
     "execution_count": 60,
     "metadata": {},
     "output_type": "execute_result"
    }
   ],
   "source": [
    "c_short"
   ]
  },
  {
   "cell_type": "code",
   "execution_count": 61,
   "metadata": {},
   "outputs": [],
   "source": [
    "# skip r = 0 to avoid divide by 0 error\n",
    "\n",
    "#for l in range(n_pair):\n",
    "#    c_short[1:, l] = c_short[1:, l]  + beta * charge_pair[l] * 1e-10 / (epsilon * r[1:])\n",
    "    "
   ]
  },
  {
   "cell_type": "code",
   "execution_count": 62,
   "metadata": {},
   "outputs": [
    {
     "data": {
      "text/plain": [
       "array([[ 0.     ,  0.     ,  0.     ],\n",
       "       [-0.57316, -0.58233, -0.63448],\n",
       "       [-1.14632, -1.16466, -1.26896],\n",
       "       ...,\n",
       "       [ 0.     ,  0.     ,  0.     ],\n",
       "       [ 0.     ,  0.     ,  0.     ],\n",
       "       [ 0.     ,  0.     ,  0.     ]])"
      ]
     },
     "execution_count": 62,
     "metadata": {},
     "output_type": "execute_result"
    }
   ],
   "source": [
    "c_short"
   ]
  },
  {
   "cell_type": "code",
   "execution_count": 63,
   "metadata": {},
   "outputs": [
    {
     "data": {
      "image/png": "[encoded data removed]",
      "text/plain": [
       "<Figure size 432x288 with 1 Axes>"
      ]
     },
     "metadata": {
      "needs_background": "light"
     },
     "output_type": "display_data"
    },
    {
     "data": {
      "text/plain": [
       "'SR direct correlation ion-ion functions'"
      ]
     },
     "execution_count": 63,
     "metadata": {},
     "output_type": "execute_result"
    }
   ],
   "source": [
    "make_simple_plot(r, c_short, \"r\", \"$c_{ij}^*$\", \"SR direct correlation ion-ion functions\", xliml=[0, 20], yliml=[-2, 2])"
   ]
  },
  {
   "cell_type": "code",
   "execution_count": 64,
   "metadata": {},
   "outputs": [],
   "source": [
    "def int_z_infty_dr_r_c_short(c_short, z):\n",
    "    for ij in range(n_pair):\n",
    "        for k, _ in enumerate(z):\n",
    "            f1[k, ij] = trapezoid(y=z[:k] * c_short[k, ij], x=z[:k])\n",
    "    return f1"
   ]
  },
  {
   "cell_type": "code",
   "execution_count": 65,
   "metadata": {},
   "outputs": [],
   "source": [
    "def int_z_infty_dr_r2_c_short(c_short, z):\n",
    "    for ij in range(n_pair):\n",
    "        for k, _ in enumerate(z):\n",
    "            f2[k, ij] = trapezoid(y=z[:k] * z[:k] * c_short[k, ij], x=z[:k])\n",
    "    return f2"
   ]
  },
  {
   "cell_type": "code",
   "execution_count": 66,
   "metadata": {},
   "outputs": [],
   "source": [
    "f1 = int_z_infty_dr_r_c_short(c_short, z)"
   ]
  },
  {
   "cell_type": "code",
   "execution_count": 67,
   "metadata": {},
   "outputs": [
    {
     "data": {
      "image/png": "[encoded data removed]",
      "text/plain": [
       "<Figure size 432x288 with 1 Axes>"
      ]
     },
     "metadata": {
      "needs_background": "light"
     },
     "output_type": "display_data"
    },
    {
     "data": {
      "text/plain": [
       "'Moment 1 of c^*(r)'"
      ]
     },
     "execution_count": 67,
     "metadata": {},
     "output_type": "execute_result"
    }
   ],
   "source": [
    "make_simple_plot(z, f1, \"z\", \"$f_{ij}(z)$\", \"Moment 1 of c^*(r)\", yliml=[-15, 5])"
   ]
  },
  {
   "cell_type": "code",
   "execution_count": 68,
   "metadata": {},
   "outputs": [],
   "source": [
    "f2 = int_z_infty_dr_r2_c_short(c_short, z)"
   ]
  },
  {
   "cell_type": "code",
   "execution_count": 69,
   "metadata": {},
   "outputs": [
    {
     "data": {
      "image/png": "[encoded data removed]",
      "text/plain": [
       "<Figure size 432x288 with 1 Axes>"
      ]
     },
     "metadata": {
      "needs_background": "light"
     },
     "output_type": "display_data"
    },
    {
     "data": {
      "text/plain": [
       "'Moment 2 of c^*(r)'"
      ]
     },
     "execution_count": 69,
     "metadata": {},
     "output_type": "execute_result"
    }
   ],
   "source": [
    "make_simple_plot(z, f2, \"z\", \"$f2_{ij}(z)$\", \"Moment 2 of c^*(r)\", yliml=[-40, 5])"
   ]
  },
  {
   "cell_type": "markdown",
   "metadata": {},
   "source": [
    "Initial guess for solution $t_{wi}(z)$ - solving $F(t(z)) = 0$"
   ]
  },
  {
   "cell_type": "code",
   "execution_count": 70,
   "metadata": {},
   "outputs": [],
   "source": [
    "tw = np.zeros((n_point, n_component))    # initial guess of zero - maybe should be \\beta \\phi\n",
    "\n",
    "# tw = beta_phiw_i"
   ]
  },
  {
   "cell_type": "code",
   "execution_count": 71,
   "metadata": {},
   "outputs": [
    {
     "data": {
      "image/png": "[encoded data removed]",
      "text/plain": [
       "<Figure size 432x288 with 1 Axes>"
      ]
     },
     "metadata": {
      "needs_background": "light"
     },
     "output_type": "display_data"
    },
    {
     "data": {
      "text/plain": [
       "'Initial guess for $t_{wi}(z)$'"
      ]
     },
     "execution_count": 71,
     "metadata": {},
     "output_type": "execute_result"
    }
   ],
   "source": [
    "make_simple_plot(z, tw, \"z\", \"$t_{wi}(z)$\", \"Initial guess for $t_{wi}(z)$\")"
   ]
  },
  {
   "cell_type": "code",
   "execution_count": 72,
   "metadata": {},
   "outputs": [],
   "source": [
    "def calc_hw(tw, beta_phiw):\n",
    "    for i in range(n_component):\n",
    "        hw[:, i] = np.exp(tw[:, i]) * np.exp(-beta_phiw[:, i]) - 1.0\n",
    "        return hw\n"
   ]
  },
  {
   "cell_type": "code",
   "execution_count": 73,
   "metadata": {},
   "outputs": [],
   "source": [
    "hw = calc_hw(tw, beta_phiw)"
   ]
  },
  {
   "cell_type": "code",
   "execution_count": 74,
   "metadata": {},
   "outputs": [
    {
     "data": {
      "image/png": "[encoded data removed]",
      "text/plain": [
       "<Figure size 432x288 with 1 Axes>"
      ]
     },
     "metadata": {
      "needs_background": "light"
     },
     "output_type": "display_data"
    },
    {
     "data": {
      "text/plain": [
       "'Initial version of $h_{wi}(z)$'"
      ]
     },
     "execution_count": 74,
     "metadata": {},
     "output_type": "execute_result"
    }
   ],
   "source": [
    "make_simple_plot(z, hw, \"z\", \"$h_{wi}(z)$\", \"Initial version of $h_{wi}(z)$\", yliml=[-1, 2])"
   ]
  },
  {
   "cell_type": "code",
   "execution_count": 75,
   "metadata": {},
   "outputs": [],
   "source": [
    "beta_psi =  psi_0 * charge * beta"
   ]
  },
  {
   "cell_type": "code",
   "execution_count": 76,
   "metadata": {},
   "outputs": [
    {
     "data": {
      "text/markdown": [
       "$$ \\large t_{wi}(z) = \\ln \\left[ g_{wi}(z) \\exp(\\beta \\phi_{wi}(z)) \\right] $$"
      ],
      "text/plain": [
       "<IPython.core.display.Markdown object>"
      ]
     },
     "metadata": {},
     "output_type": "display_data"
    },
    {
     "data": {
      "text/markdown": [
       "$$ t_{wi}(z) ~=~ - \\beta q_i \\psi_0 + 2 \\pi \\sum_{j} \\bar{\\rho_j} \\left \\{  z f_{ij}^{(1)}(z) - f_{ij}^{(2)}(z) - \\left( 2 \\beta q_i q_j / \\varepsilon \\right ) \\left(  \\int_0^z dt t h_{wj}(t) + z \\int_{z}^{\\infty} dt h_{wj}(t) \\right) + \\int_0^{\\infty} dt h_{wj}(t) f_{ij}^{(1)} ( | z - t | ) \\right \\} $$"
      ],
      "text/plain": [
       "<IPython.core.display.Markdown object>"
      ]
     },
     "metadata": {},
     "output_type": "display_data"
    }
   ],
   "source": [
    "read_render_markdown_file(\"../docs/equation_5_9.md\")\n",
    "read_render_markdown_file(\"../docs/equation_5_9b.md\")"
   ]
  },
  {
   "cell_type": "code",
   "execution_count": 77,
   "metadata": {},
   "outputs": [],
   "source": [
    "def calc_tw(tw, beta_psi, beta_phiw, rho, f1, f2, z):\n",
    "    hw = calc_hw(tw, beta_phiw)\n",
    "\n",
    "    for i in range(n_component):\n",
    "        tw[:, i] = -beta_psi[i] \n",
    "        for k, _ in enumerate(z):\n",
    "            int_0_z[k, i] = trapezoid(y=z[:k] * hw[:k, i], x=z[:k])\n",
    "            int_z_inf[k, i] = trapezoid(y=hw[k:, i], x=z[k:])\n",
    "            for j in range(n_component):\n",
    "                l = calc_l_index(i, j)\n",
    "                tw[k, i] = tw[k, i] + 2.0 * np.pi * rho[j] * (z[k] * f1[k, l] - f2[k, l] -\n",
    "                2.0 * beta * charge[i] * charge[j] / epsilon * \n",
    "                (int_0_z[k, j] + z[k] * int_z_inf[k, j]) +\n",
    "                trapezoid(y=hw[:, j] * f1[abs(k), l], x=z) )\n",
    "                \n",
    "            #TODO: Sort last integral - maybe need to do some pre-calculation outside of loops?\n",
    "            \n",
    "    return tw\n"
   ]
  },
  {
   "cell_type": "code",
   "execution_count": 78,
   "metadata": {},
   "outputs": [
    {
     "data": {
      "text/plain": [
       "array([[ 0.00000000e+00,  0.00000000e+00],\n",
       "       [ 1.41978673e-10, -1.41978673e-10],\n",
       "       [ 6.47763001e-05,  6.57633028e-05],\n",
       "       ...,\n",
       "       [ 7.51922279e-09, -7.51922279e-09],\n",
       "       [ 7.51922279e-09, -7.51922279e-09],\n",
       "       [ 7.51922279e-09, -7.51922279e-09]])"
      ]
     },
     "execution_count": 78,
     "metadata": {},
     "output_type": "execute_result"
    }
   ],
   "source": [
    "calc_tw(tw, beta_psi, beta_phiw, rho, f1, f2, z)"
   ]
  },
  {
   "cell_type": "code",
   "execution_count": 79,
   "metadata": {},
   "outputs": [
    {
     "data": {
      "image/png": "[encoded data removed]",
      "text/plain": [
       "<Figure size 432x288 with 1 Axes>"
      ]
     },
     "metadata": {
      "needs_background": "light"
     },
     "output_type": "display_data"
    },
    {
     "data": {
      "text/plain": [
       "'Current $t_{wi}(z)$'"
      ]
     },
     "execution_count": 79,
     "metadata": {},
     "output_type": "execute_result"
    }
   ],
   "source": [
    "make_simple_plot(z, tw, \"z\", \"$t_{wi}(z)$\", \"Current $t_{wi}(z)$\", yliml=[-2, 2])"
   ]
  },
  {
   "cell_type": "markdown",
   "metadata": {},
   "source": [
    "### Numerical solver: Newton-GMRES"
   ]
  },
  {
   "cell_type": "code",
   "execution_count": 80,
   "metadata": {},
   "outputs": [],
   "source": [
    "# this should equal 0 (as t(z) converges to solution)\n",
    "\n",
    "def func_opt(tw):\n",
    "    return tw - calc_tw(tw, beta_psi, beta_phiw, rho, f1, f2, z)"
   ]
  },
  {
   "cell_type": "code",
   "execution_count": 81,
   "metadata": {},
   "outputs": [],
   "source": [
    "tolerance = 1e-9"
   ]
  },
  {
   "cell_type": "code",
   "execution_count": 82,
   "metadata": {},
   "outputs": [],
   "source": [
    "solution = optim.root(func_opt, tw, method=\"krylov\", jac=None, tol=tolerance, callback=None, options=None)"
   ]
  },
  {
   "cell_type": "code",
   "execution_count": 83,
   "metadata": {},
   "outputs": [],
   "source": [
    "tw_solution = solution.x"
   ]
  },
  {
   "cell_type": "code",
   "execution_count": 84,
   "metadata": {},
   "outputs": [
    {
     "data": {
      "text/plain": [
       "array([[ 0.00000000e+00,  0.00000000e+00],\n",
       "       [ 1.38134407e-10, -1.38134407e-10],\n",
       "       [ 6.30044347e-05,  6.39631048e-05],\n",
       "       ...,\n",
       "       [ 1.33064413e-09, -1.33064413e-09],\n",
       "       [ 1.33064413e-09, -1.33064413e-09],\n",
       "       [ 1.33064413e-09, -1.33064413e-09]])"
      ]
     },
     "execution_count": 84,
     "metadata": {},
     "output_type": "execute_result"
    }
   ],
   "source": [
    "tw_solution"
   ]
  },
  {
   "cell_type": "code",
   "execution_count": 85,
   "metadata": {},
   "outputs": [],
   "source": [
    "hw_solution = calc_hw(tw_solution, beta_phiw)"
   ]
  },
  {
   "cell_type": "code",
   "execution_count": 86,
   "metadata": {},
   "outputs": [
    {
     "data": {
      "image/png": "[encoded data removed]",
      "text/plain": [
       "<Figure size 432x288 with 1 Axes>"
      ]
     },
     "metadata": {
      "needs_background": "light"
     },
     "output_type": "display_data"
    },
    {
     "data": {
      "text/plain": [
       "'Solution for $h_{wi}(z)$'"
      ]
     },
     "execution_count": 86,
     "metadata": {},
     "output_type": "execute_result"
    }
   ],
   "source": [
    "make_simple_plot(z, hw_solution, \"z\", \"ht_{wi}(z)$\", \"Solution for $h_{wi}(z)$\", yliml=[-2, 2])"
   ]
  }
 ],
 "metadata": {
  "kernelspec": {
   "display_name": "Python 3.9.12 ('.venv_phd-thesis': venv)",
   "language": "python",
   "name": "python3"
  },
  "language_info": {
   "codemirror_mode": {
    "name": "ipython",
    "version": 3
   },
   "file_extension": ".py",
   "mimetype": "text/x-python",
   "name": "python",
   "nbconvert_exporter": "python",
   "pygments_lexer": "ipython3",
   "version": "3.9.12"
  },
  "orig_nbformat": 4,
  "vscode": {
   "interpreter": {
    "hash": "efcec08cf809be12f43e7dcea9299edcddae7b0767a012083e6ceef75ec1ca14"
   }
  }
 },
 "nbformat": 4,
 "nbformat_minor": 2
}
