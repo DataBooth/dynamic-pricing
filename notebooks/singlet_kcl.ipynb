{
 "cells": [
  {
   "cell_type": "code",
   "execution_count": 1,
   "metadata": {},
   "outputs": [],
   "source": [
    "import os, sys\n",
    "\n",
    "sys.path.append(os.path.dirname(os.getcwd())) "
   ]
  },
  {
   "cell_type": "code",
   "execution_count": 2,
   "metadata": {},
   "outputs": [],
   "source": [
    "from scipy.integrate import trapezoid\n",
    "import scipy.optimize as optim\n",
    "\n",
    "from scipy.constants import epsilon_0, elementary_charge, Boltzmann, Avogadro\n",
    "import numpy as np\n",
    "import matplotlib.pyplot as plt\n",
    "import siunits as unit\n",
    "\n",
    "from src.helper_functions import read_render_markdown_file"
   ]
  },
  {
   "cell_type": "code",
   "execution_count": 3,
   "metadata": {},
   "outputs": [],
   "source": [
    "def make_simple_plot(x, y, xlabel, ylabel, title):\n",
    "    fig, ax = plt.subplots()\n",
    "    ax.plot(x, y)\n",
    "    ax.set(xlabel=xlabel, ylabel=ylabel, title=title)\n",
    "    plt.xlim([0, 10])\n",
    "    plt.ylim([-20, 40])\n",
    "    ax.grid()\n",
    "    plt.show()"
   ]
  },
  {
   "cell_type": "markdown",
   "metadata": {},
   "source": [
    "### Physical constants\n",
    "\n",
    "1. the electric constant (vacuum permittivity) $\\epsilon_0$. Units:  $\\textstyle{\\rm s^{4}\\cdot A^{2}\\cdot kg^{-1}\\cdot m^{-3}}$ or $\\textstyle{\\rm C^2 \\cdot N^{−1} \\cdot m^{−2}}$ or $\\textstyle{\\rm C \\cdot V^{−1} \\cdot m^{−1}}$ "
   ]
  },
  {
   "cell_type": "code",
   "execution_count": 4,
   "metadata": {},
   "outputs": [
    {
     "data": {
      "text/plain": [
       "ampere²·second⁴·meter⁻³·kilogram⁻¹ (A²·s⁴·m⁻³·kg⁻¹), [kg: -1, s: 4, A: 2, m: -3]"
      ]
     },
     "execution_count": 4,
     "metadata": {},
     "output_type": "execute_result"
    }
   ],
   "source": [
    "unit.epsilon_0"
   ]
  },
  {
   "cell_type": "code",
   "execution_count": 5,
   "metadata": {},
   "outputs": [
    {
     "data": {
      "text/plain": [
       "8.8541878128e-12"
      ]
     },
     "execution_count": 5,
     "metadata": {},
     "output_type": "execute_result"
    }
   ],
   "source": [
    "epsilon_0"
   ]
  },
  {
   "cell_type": "markdown",
   "metadata": {},
   "source": [
    "2. Elementary charge (charge on electron). Units: $\\rm C$"
   ]
  },
  {
   "cell_type": "code",
   "execution_count": 6,
   "metadata": {},
   "outputs": [
    {
     "data": {
      "text/plain": [
       "coulomb (C), [s: 1, A: 1]"
      ]
     },
     "execution_count": 6,
     "metadata": {},
     "output_type": "execute_result"
    }
   ],
   "source": [
    "unit.c"
   ]
  },
  {
   "cell_type": "code",
   "execution_count": 7,
   "metadata": {},
   "outputs": [
    {
     "data": {
      "text/plain": [
       "1.602176634e-19"
      ]
     },
     "execution_count": 7,
     "metadata": {},
     "output_type": "execute_result"
    }
   ],
   "source": [
    "elementary_charge"
   ]
  },
  {
   "cell_type": "markdown",
   "metadata": {},
   "source": [
    "3. Boltzmann constant. Units: $\\rm m^2 \\cdot kg \\cdot s^{-2} \\cdot {K}^{-1}$"
   ]
  },
  {
   "cell_type": "code",
   "execution_count": 8,
   "metadata": {},
   "outputs": [
    {
     "data": {
      "text/plain": [
       "1.380649e-23"
      ]
     },
     "execution_count": 8,
     "metadata": {},
     "output_type": "execute_result"
    }
   ],
   "source": [
    "Boltzmann"
   ]
  },
  {
   "cell_type": "markdown",
   "metadata": {},
   "source": [
    "4. Avogadro's number. Units: $\\rm mol^{-1}$"
   ]
  },
  {
   "cell_type": "code",
   "execution_count": 9,
   "metadata": {},
   "outputs": [
    {
     "data": {
      "text/plain": [
       "6.02214076e+23"
      ]
     },
     "execution_count": 9,
     "metadata": {},
     "output_type": "execute_result"
    }
   ],
   "source": [
    "Avogadro"
   ]
  },
  {
   "cell_type": "markdown",
   "metadata": {},
   "source": [
    "### Liquid (model) parameters\n",
    "\n",
    "Page 62"
   ]
  },
  {
   "cell_type": "code",
   "execution_count": 10,
   "metadata": {},
   "outputs": [],
   "source": [
    "valence = np.array([1.0, -1.0])    # KCl: 1-1 electrolyte\n",
    "temperature = 1075.0               # 1075 K\n",
    "concentration = 19.265             # mol dm^{-3}\n",
    "n_component = len(valence)"
   ]
  },
  {
   "cell_type": "markdown",
   "metadata": {},
   "source": [
    "rho ($\\rho$) is the number density which we calculate from the concentration ($c$):\n",
    "\n",
    "$\\rho = c \\, \\rm mol \\, dm^{-3} \\cdot dm^{3} / 1.0 \\cdot 10^{27} \\cdot A^{3} \\cdot N_{A} \\, mol^{-1}$. Units: $\\rm A^{-3}$\n"
   ]
  },
  {
   "cell_type": "code",
   "execution_count": 11,
   "metadata": {},
   "outputs": [],
   "source": [
    "def calc_rho(concentration):\n",
    "    return np.array([concentration, concentration]) / 1.0e27 * Avogadro"
   ]
  },
  {
   "cell_type": "code",
   "execution_count": 12,
   "metadata": {},
   "outputs": [],
   "source": [
    "rho_i = calc_rho(concentration)"
   ]
  },
  {
   "cell_type": "code",
   "execution_count": 13,
   "metadata": {},
   "outputs": [
    {
     "data": {
      "text/plain": [
       "array([0.01160165, 0.01160165])"
      ]
     },
     "execution_count": 13,
     "metadata": {},
     "output_type": "execute_result"
    }
   ],
   "source": [
    "rho_i   # values seem reasonable (compared with those in thesis)"
   ]
  },
  {
   "cell_type": "code",
   "execution_count": 14,
   "metadata": {},
   "outputs": [],
   "source": [
    "def calc_charge(valence):\n",
    "    return valence * elementary_charge"
   ]
  },
  {
   "cell_type": "code",
   "execution_count": 15,
   "metadata": {},
   "outputs": [],
   "source": [
    "charge = calc_charge(valence)"
   ]
  },
  {
   "cell_type": "code",
   "execution_count": 16,
   "metadata": {},
   "outputs": [
    {
     "data": {
      "text/plain": [
       "array([ 1.60217663e-19, -1.60217663e-19])"
      ]
     },
     "execution_count": 16,
     "metadata": {},
     "output_type": "execute_result"
    }
   ],
   "source": [
    "charge  # units are C"
   ]
  },
  {
   "cell_type": "code",
   "execution_count": 17,
   "metadata": {},
   "outputs": [],
   "source": [
    "epsilon = 4.0 * np.pi * epsilon_0   # units same as $\\epsilon_0$"
   ]
  },
  {
   "cell_type": "code",
   "execution_count": 18,
   "metadata": {},
   "outputs": [
    {
     "data": {
      "text/plain": [
       "1.1126500554478704e-10"
      ]
     },
     "execution_count": 18,
     "metadata": {},
     "output_type": "execute_result"
    }
   ],
   "source": [
    "epsilon"
   ]
  },
  {
   "cell_type": "markdown",
   "metadata": {},
   "source": [
    "$\\beta = 1 / k T$. Units: $\\rm m^{-2} \\cdot kg^{-1} \\cdot s^{2}$"
   ]
  },
  {
   "cell_type": "code",
   "execution_count": 19,
   "metadata": {},
   "outputs": [],
   "source": [
    "beta = 1.0 / (Boltzmann * temperature)"
   ]
  },
  {
   "cell_type": "code",
   "execution_count": 20,
   "metadata": {},
   "outputs": [
    {
     "data": {
      "text/plain": [
       "6.737646991665042e+19"
      ]
     },
     "execution_count": 20,
     "metadata": {},
     "output_type": "execute_result"
    }
   ],
   "source": [
    "beta"
   ]
  },
  {
   "cell_type": "markdown",
   "metadata": {},
   "source": [
    "$\\beta^{-1} = k T$. Units: $\\rm m^{2} \\cdot kg \\cdot s^{-2}$"
   ]
  },
  {
   "cell_type": "code",
   "execution_count": 21,
   "metadata": {},
   "outputs": [],
   "source": [
    "beta_inv = Boltzmann * temperature"
   ]
  },
  {
   "cell_type": "code",
   "execution_count": 22,
   "metadata": {},
   "outputs": [
    {
     "data": {
      "text/plain": [
       "1.484197675e-20"
      ]
     },
     "execution_count": 22,
     "metadata": {},
     "output_type": "execute_result"
    }
   ],
   "source": [
    "beta_inv"
   ]
  },
  {
   "cell_type": "code",
   "execution_count": 23,
   "metadata": {},
   "outputs": [],
   "source": [
    "def calc_kappa(beta, rho_i, epsilon):\n",
    "    return np.sqrt(4.0 * np.pi * beta / epsilon * 1e10 *\n",
    "    sum(np.multiply(charge**2, rho_i)))\n"
   ]
  },
  {
   "cell_type": "code",
   "execution_count": 24,
   "metadata": {},
   "outputs": [],
   "source": [
    "kappa = calc_kappa(beta, rho_i, epsilon)"
   ]
  },
  {
   "cell_type": "code",
   "execution_count": 25,
   "metadata": {},
   "outputs": [
    {
     "data": {
      "text/plain": [
       "6.732325586635704"
      ]
     },
     "execution_count": 25,
     "metadata": {},
     "output_type": "execute_result"
    }
   ],
   "source": [
    "kappa      # similar to thesis value (6.77) page 62 - maybe revisions to physical constants in past 25 years (e.g. 2019 change for $e$)"
   ]
  },
  {
   "cell_type": "markdown",
   "metadata": {},
   "source": [
    "### Discretisation of functions"
   ]
  },
  {
   "cell_type": "code",
   "execution_count": 26,
   "metadata": {},
   "outputs": [
    {
     "name": "stdout",
     "output_type": "stream",
     "text": [
      "0.025\n"
     ]
    }
   ],
   "source": [
    "z_cutoff = 50.0\n",
    "n_point = 2001\n",
    "grid_size = z_cutoff / (n_point - 1) \n",
    "z = np.linspace(0.0, z_cutoff, n_point)\n",
    "\n",
    "print(grid_size)"
   ]
  },
  {
   "cell_type": "markdown",
   "metadata": {},
   "source": [
    "### Wall-ion potential"
   ]
  },
  {
   "cell_type": "code",
   "execution_count": 27,
   "metadata": {},
   "outputs": [],
   "source": [
    "psi_0 = 0     # 0 mV"
   ]
  },
  {
   "cell_type": "code",
   "execution_count": 28,
   "metadata": {},
   "outputs": [],
   "source": [
    "capital_a = 16.274e-19 # joules\n",
    "wall_d = 2.97  # inverse Angstrom"
   ]
  },
  {
   "cell_type": "code",
   "execution_count": 29,
   "metadata": {},
   "outputs": [],
   "source": [
    "phi_wi = np.zeros((n_point, n_component))\n",
    "h_wi = np.zeros((n_point, n_component))\n",
    "t_wi = np.zeros((n_point, n_component))\n",
    "int_0_z = np.zeros((n_point, n_component))\n",
    "int_z_inf = np.zeros((n_point, n_component))"
   ]
  },
  {
   "cell_type": "code",
   "execution_count": 30,
   "metadata": {},
   "outputs": [],
   "source": [
    "# same for both ions\n",
    "\n",
    "def phi_wi_z(z, n_component, wall_d, capital_a):\n",
    "    for c in range(n_component):\n",
    "        phi_wi[:, c] = np.exp(-wall_d * z) * capital_a * (wall_d * z + 2)\n",
    "    return phi_wi\n"
   ]
  },
  {
   "cell_type": "code",
   "execution_count": 31,
   "metadata": {},
   "outputs": [],
   "source": [
    "beta_phi_wi = beta * phi_wi_z(z, n_component, wall_d, capital_a)"
   ]
  },
  {
   "cell_type": "code",
   "execution_count": 32,
   "metadata": {},
   "outputs": [
    {
     "data": {
      "image/png": "[encoded data removed]",
      "text/plain": [
       "<Figure size 432x288 with 1 Axes>"
      ]
     },
     "metadata": {
      "needs_background": "light"
     },
     "output_type": "display_data"
    }
   ],
   "source": [
    "make_simple_plot(z, beta_phi_wi, \"z\", \"beta_phi\", \"Dimensionless wall-ion potentials\")"
   ]
  },
  {
   "cell_type": "markdown",
   "metadata": {},
   "source": [
    "This dimensionless plot matches well with Figure 4.1(b) of thesis."
   ]
  },
  {
   "cell_type": "markdown",
   "metadata": {},
   "source": [
    "### Bulk fluid inputs\n",
    "\n",
    "Not sure what to do here -- maybe run pyOZ for ionic fluid and try using c_{ij}(r) from this as an approximation?"
   ]
  },
  {
   "cell_type": "code",
   "execution_count": 33,
   "metadata": {},
   "outputs": [],
   "source": [
    "# Assume all of the moments of the short-ranged bulk direct correlation functions to be zero initially\n",
    "\n",
    "f1_ij = np.zeros(n_point, dtype=np.float64)\n",
    "f2_ij = np.zeros(n_point, dtype=np.float64)"
   ]
  },
  {
   "cell_type": "markdown",
   "metadata": {},
   "source": [
    "### Initial guess for solution $t_{wi}(z)$ - solving $F(t(z)) = 0$"
   ]
  },
  {
   "cell_type": "code",
   "execution_count": 52,
   "metadata": {},
   "outputs": [],
   "source": [
    "t_wi = np.zeros((n_point, n_component), dtype=np.float64)    # initial guess of zero - maybe should be \\beta \\phi\n",
    "\n",
    "# t_wi = beta_phi_wi"
   ]
  },
  {
   "cell_type": "code",
   "execution_count": 53,
   "metadata": {},
   "outputs": [
    {
     "data": {
      "image/png": "[encoded data removed]",
      "text/plain": [
       "<Figure size 432x288 with 1 Axes>"
      ]
     },
     "metadata": {
      "needs_background": "light"
     },
     "output_type": "display_data"
    }
   ],
   "source": [
    "make_simple_plot(z, t_wi, \"z\", \"$t_{wi}(z)$\", \"Initial guess for $t_{wi}(z)$\")"
   ]
  },
  {
   "cell_type": "code",
   "execution_count": 59,
   "metadata": {},
   "outputs": [],
   "source": [
    "def h_wi_z(t_wi, beta_phi_wi):\n",
    "    for c in range(n_component):\n",
    "        h_wi[:, c] = np.exp(t_wi[:, c]) * np.exp(-beta_phi_wi[:, c]) - 1.0\n",
    "        return h_wi\n"
   ]
  },
  {
   "cell_type": "code",
   "execution_count": null,
   "metadata": {},
   "outputs": [],
   "source": [
    "def f1_ij_z(direct_ij):\n",
    "    "
   ]
  },
  {
   "cell_type": "code",
   "execution_count": 55,
   "metadata": {},
   "outputs": [],
   "source": [
    "h_wi = h_wi_z(t_wi, beta_phi_wi)"
   ]
  },
  {
   "cell_type": "code",
   "execution_count": 56,
   "metadata": {},
   "outputs": [
    {
     "data": {
      "image/png": "[encoded data removed]",
      "text/plain": [
       "<Figure size 432x288 with 1 Axes>"
      ]
     },
     "metadata": {
      "needs_background": "light"
     },
     "output_type": "display_data"
    }
   ],
   "source": [
    "make_simple_plot(z, h_wi, \"z\", \"$h_{wi}(z)$\", \"Initial version of $h_{wi}(z)$\")"
   ]
  },
  {
   "cell_type": "code",
   "execution_count": 39,
   "metadata": {},
   "outputs": [
    {
     "data": {
      "text/markdown": [
       "$$ \\large t_{wi}(z) = \\ln \\left[ g_{wi}(z) \\exp(\\beta \\phi_{wi}(z)) \\right] $$"
      ],
      "text/plain": [
       "<IPython.core.display.Markdown object>"
      ]
     },
     "metadata": {},
     "output_type": "display_data"
    },
    {
     "data": {
      "text/markdown": [
       "$$ t_{wi}(z) ~=~ - \\beta q_i \\psi_0 + 2 \\pi \\sum_{j} \\bar{\\rho_j} \\left \\{  z f_{ij}^{(1)}(z) - f_{ij}^{(2)}(z) - \\left( 2 \\beta q_i q_j / \\varepsilon \\right ) \\left(  \\int_0^z dt t h_{wj}(t) + z \\int_{z}^{\\infty} dt h_{wj}(t) \\right) + \\int_0^{\\infty} dt h_{wj}(t) f_{ij}^{(1)} ( | z - t | ) \\right \\} $$"
      ],
      "text/plain": [
       "<IPython.core.display.Markdown object>"
      ]
     },
     "metadata": {},
     "output_type": "display_data"
    }
   ],
   "source": [
    "read_render_markdown_file(\"../docs/equation_5_9.md\")\n",
    "read_render_markdown_file(\"../docs/equation_5_9b.md\")"
   ]
  },
  {
   "cell_type": "code",
   "execution_count": 40,
   "metadata": {},
   "outputs": [],
   "source": [
    "beta_psi =  psi_0 * charge * beta"
   ]
  },
  {
   "cell_type": "code",
   "execution_count": 49,
   "metadata": {},
   "outputs": [],
   "source": [
    "def t_wi_z(t_wi, beta_psi, beta_phi_wi, rho_i, f1_ij, f2_ij, z):\n",
    "    h_wi = h_wi_z(t_wi, beta_phi_wi)\n",
    "\n",
    "    for c in range(n_component):\n",
    "        for k, _ in enumerate(z):\n",
    "            int_0_z[k, c] = trapezoid(y=z[:k] * h_wi[:k, c], x=z[:k])\n",
    "            int_z_inf[k, c] = trapezoid(y=h_wi[k:, c], x=z[k:])\n",
    "\n",
    "            # int_0_inf[i] = 0  # trapezoid(y=h_wi*fabs(z, t), x=z)\n",
    "\n",
    "            t_wi[k, c] = -beta_psi[c] + 2.0 * np.pi * (rho_i[c] * z[k] * f1_ij[k] - f2_ij[k]) + \\\n",
    "            2.0 * charge[c] * charge[c] / epsilon * (int_z_inf[k, c] + z[k] * int_0_z[k, c])  # + int_0_inf\n",
    "    return t_wi\n"
   ]
  },
  {
   "cell_type": "code",
   "execution_count": 57,
   "metadata": {},
   "outputs": [
    {
     "data": {
      "text/plain": [
       "array([[0., 0.],\n",
       "       [0., 0.],\n",
       "       [0., 0.],\n",
       "       ...,\n",
       "       [0., 0.],\n",
       "       [0., 0.],\n",
       "       [0., 0.]])"
      ]
     },
     "execution_count": 57,
     "metadata": {},
     "output_type": "execute_result"
    }
   ],
   "source": [
    "t_wi_z(t_wi, beta_psi, beta_phi_wi, rho_i, f1_ij, f2_ij, z)"
   ]
  },
  {
   "cell_type": "code",
   "execution_count": 58,
   "metadata": {},
   "outputs": [
    {
     "data": {
      "image/png": "[encoded data removed]",
      "text/plain": [
       "<Figure size 432x288 with 1 Axes>"
      ]
     },
     "metadata": {
      "needs_background": "light"
     },
     "output_type": "display_data"
    }
   ],
   "source": [
    "make_simple_plot(z, t_wi, \"z\", \"$t_{wi}(z)$\", \"Initial version of $t_{wi}(z)$\")"
   ]
  },
  {
   "cell_type": "markdown",
   "metadata": {},
   "source": [
    "### Numerical integration\n",
    "\n",
    "Extended trapezoidal rule"
   ]
  },
  {
   "cell_type": "code",
   "execution_count": null,
   "metadata": {},
   "outputs": [],
   "source": [
    "int_wall_potential = cumulative_trapezoid(y=beta_phi_wi, x=z)"
   ]
  },
  {
   "cell_type": "code",
   "execution_count": null,
   "metadata": {},
   "outputs": [],
   "source": [
    "int_wall_potential"
   ]
  },
  {
   "cell_type": "code",
   "execution_count": null,
   "metadata": {},
   "outputs": [],
   "source": [
    "# this should equal 0 (as t(z) converges to solution)\n",
    "\n",
    "def func_opt(t_wi, beta_psi, beta_phi_wi, rho_i, f1_ij, f2_ij, z):\n",
    "    return t_wi - t_wi_z(t_wi, beta_psi, beta_phi_wi, rho_i, f1_ij, f2_ij, z)"
   ]
  },
  {
   "cell_type": "code",
   "execution_count": null,
   "metadata": {},
   "outputs": [],
   "source": [
    "tolerance = 1e-9"
   ]
  },
  {
   "cell_type": "code",
   "execution_count": null,
   "metadata": {},
   "outputs": [],
   "source": [
    "solution = optim.root(func_opt(t_wi, beta_psi, beta_phi_wi, rho_i, f1_ij, f2_ij, z), t_wi, method=\"krylov\", jac=None, tol=tolerance, callback=None, options=None)"
   ]
  },
  {
   "cell_type": "code",
   "execution_count": null,
   "metadata": {},
   "outputs": [],
   "source": [
    "tz_solution = solution.x"
   ]
  },
  {
   "cell_type": "code",
   "execution_count": null,
   "metadata": {},
   "outputs": [],
   "source": []
  }
 ],
 "metadata": {
  "kernelspec": {
   "display_name": "Python 3.9.12 ('.venv_phd-thesis': venv)",
   "language": "python",
   "name": "python3"
  },
  "language_info": {
   "codemirror_mode": {
    "name": "ipython",
    "version": 3
   },
   "file_extension": ".py",
   "mimetype": "text/x-python",
   "name": "python",
   "nbconvert_exporter": "python",
   "pygments_lexer": "ipython3",
   "version": "3.9.12"
  },
  "orig_nbformat": 4,
  "vscode": {
   "interpreter": {
    "hash": "efcec08cf809be12f43e7dcea9299edcddae7b0767a012083e6ceef75ec1ca14"
   }
  }
 },
 "nbformat": 4,
 "nbformat_minor": 2
}
